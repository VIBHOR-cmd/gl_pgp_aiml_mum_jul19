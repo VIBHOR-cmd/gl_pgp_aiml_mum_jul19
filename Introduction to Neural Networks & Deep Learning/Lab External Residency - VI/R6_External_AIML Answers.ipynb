{
 "cells": [
  {
   "cell_type": "markdown",
   "metadata": {
    "colab_type": "text",
    "id": "YYk8NG3yOIT9"
   },
   "source": [
    "### A MNIST-like fashion product database\n",
    "\n",
    "In this, we classify the images into respective classes given in the dataset. We use a Neural Net and a Deep Neural Net in Keras to solve this and check the accuracy scores."
   ]
  },
  {
   "cell_type": "markdown",
   "metadata": {
    "colab_type": "text",
    "id": "tFO6PuxzOIT_"
   },
   "source": [
    "### Load tensorflow"
   ]
  },
  {
   "cell_type": "code",
   "execution_count": 1,
   "metadata": {
    "colab": {
     "base_uri": "https://localhost:8080/",
     "height": 63
    },
    "colab_type": "code",
    "executionInfo": {
     "elapsed": 2047,
     "status": "ok",
     "timestamp": 1577610242246,
     "user": {
      "displayName": "Sanket Savla",
      "photoUrl": "https://lh3.googleusercontent.com/a-/AAuE7mBo4KZzvHgFzjhv477O3k6KTbjl0HWaFvCSDprozg=s64",
      "userId": "10471269459138076930"
     },
     "user_tz": -330
    },
    "id": "efNjNImfOIUC",
    "outputId": "52cce248-0b22-48d7-9464-92019fcd3a46"
   },
   "outputs": [
    {
     "data": {
      "text/html": [
       "<p style=\"color: red;\">\n",
       "The default version of TensorFlow in Colab will soon switch to TensorFlow 2.x.<br>\n",
       "We recommend you <a href=\"https://www.tensorflow.org/guide/migrate\" target=\"_blank\">upgrade</a> now \n",
       "or ensure your notebook will continue to use TensorFlow 1.x via the <code>%tensorflow_version 1.x</code> magic:\n",
       "<a href=\"https://colab.research.google.com/notebooks/tensorflow_version.ipynb\" target=\"_blank\">more info</a>.</p>\n"
      ],
      "text/plain": [
       "<IPython.core.display.HTML object>"
      ]
     },
     "metadata": {
      "tags": []
     },
     "output_type": "display_data"
    }
   ],
   "source": [
    "import tensorflow as tf\n",
    "tf.set_random_seed(42)"
   ]
  },
  {
   "cell_type": "code",
   "execution_count": 2,
   "metadata": {
    "colab": {
     "base_uri": "https://localhost:8080/",
     "height": 34
    },
    "colab_type": "code",
    "executionInfo": {
     "elapsed": 2506,
     "status": "ok",
     "timestamp": 1577610242752,
     "user": {
      "displayName": "Sanket Savla",
      "photoUrl": "https://lh3.googleusercontent.com/a-/AAuE7mBo4KZzvHgFzjhv477O3k6KTbjl0HWaFvCSDprozg=s64",
      "userId": "10471269459138076930"
     },
     "user_tz": -330
    },
    "id": "l9C4aAIGOIUH",
    "outputId": "7c57b2d8-c18c-437b-abd8-d9f67d950af8"
   },
   "outputs": [
    {
     "data": {
      "text/plain": [
       "'1.15.0'"
      ]
     },
     "execution_count": 2,
     "metadata": {
      "tags": []
     },
     "output_type": "execute_result"
    }
   ],
   "source": [
    "tf.__version__"
   ]
  },
  {
   "cell_type": "markdown",
   "metadata": {
    "colab_type": "text",
    "id": "HcoZBStrOIUQ"
   },
   "source": [
    "### Collect Data"
   ]
  },
  {
   "cell_type": "code",
   "execution_count": 3,
   "metadata": {
    "colab": {
     "base_uri": "https://localhost:8080/",
     "height": 34
    },
    "colab_type": "code",
    "executionInfo": {
     "elapsed": 2483,
     "status": "ok",
     "timestamp": 1577610242754,
     "user": {
      "displayName": "Sanket Savla",
      "photoUrl": "https://lh3.googleusercontent.com/a-/AAuE7mBo4KZzvHgFzjhv477O3k6KTbjl0HWaFvCSDprozg=s64",
      "userId": "10471269459138076930"
     },
     "user_tz": -330
    },
    "id": "XA1WsFSeOIUS",
    "outputId": "409e7e87-c58d-4456-f097-49e39e99e396"
   },
   "outputs": [
    {
     "name": "stderr",
     "output_type": "stream",
     "text": [
      "Using TensorFlow backend.\n"
     ]
    }
   ],
   "source": [
    "import keras"
   ]
  },
  {
   "cell_type": "code",
   "execution_count": 4,
   "metadata": {
    "colab": {
     "base_uri": "https://localhost:8080/",
     "height": 204
    },
    "colab_type": "code",
    "executionInfo": {
     "elapsed": 3161,
     "status": "ok",
     "timestamp": 1577610243466,
     "user": {
      "displayName": "Sanket Savla",
      "photoUrl": "https://lh3.googleusercontent.com/a-/AAuE7mBo4KZzvHgFzjhv477O3k6KTbjl0HWaFvCSDprozg=s64",
      "userId": "10471269459138076930"
     },
     "user_tz": -330
    },
    "id": "qnbx7TyQOIUY",
    "outputId": "82d6b3eb-dd8a-43e8-ed93-c60857798912"
   },
   "outputs": [
    {
     "name": "stdout",
     "output_type": "stream",
     "text": [
      "Downloading data from http://fashion-mnist.s3-website.eu-central-1.amazonaws.com/train-labels-idx1-ubyte.gz\n",
      "32768/29515 [=================================] - 0s 1us/step\n",
      "40960/29515 [=========================================] - 0s 0us/step\n",
      "Downloading data from http://fashion-mnist.s3-website.eu-central-1.amazonaws.com/train-images-idx3-ubyte.gz\n",
      "26427392/26421880 [==============================] - 0s 0us/step\n",
      "26435584/26421880 [==============================] - 0s 0us/step\n",
      "Downloading data from http://fashion-mnist.s3-website.eu-central-1.amazonaws.com/t10k-labels-idx1-ubyte.gz\n",
      "16384/5148 [===============================================================================================] - 0s 0us/step\n",
      "Downloading data from http://fashion-mnist.s3-website.eu-central-1.amazonaws.com/t10k-images-idx3-ubyte.gz\n",
      "4423680/4422102 [==============================] - 0s 0us/step\n",
      "4431872/4422102 [==============================] - 0s 0us/step\n"
     ]
    }
   ],
   "source": [
    "(trainX, trainY), (testX, testY) = keras.datasets.fashion_mnist.load_data()"
   ]
  },
  {
   "cell_type": "code",
   "execution_count": 5,
   "metadata": {
    "colab": {
     "base_uri": "https://localhost:8080/",
     "height": 34
    },
    "colab_type": "code",
    "executionInfo": {
     "elapsed": 4031,
     "status": "ok",
     "timestamp": 1577610244377,
     "user": {
      "displayName": "Sanket Savla",
      "photoUrl": "https://lh3.googleusercontent.com/a-/AAuE7mBo4KZzvHgFzjhv477O3k6KTbjl0HWaFvCSDprozg=s64",
      "userId": "10471269459138076930"
     },
     "user_tz": -330
    },
    "id": "UbiHj5YPOIUc",
    "outputId": "eda695a1-733e-4cc9-83fe-14ace6664140"
   },
   "outputs": [
    {
     "name": "stdout",
     "output_type": "stream",
     "text": [
      "[9 2 1 1 6]\n"
     ]
    }
   ],
   "source": [
    "print(testY[0:5])"
   ]
  },
  {
   "cell_type": "markdown",
   "metadata": {
    "colab_type": "text",
    "id": "lDAYzkwyOIUj"
   },
   "source": [
    "### Convert both training and testing labels into one-hot vectors.\n",
    "\n",
    "**Hint:** check **tf.keras.utils.to_categorical()**"
   ]
  },
  {
   "cell_type": "code",
   "execution_count": 0,
   "metadata": {
    "colab": {},
    "colab_type": "code",
    "id": "vBlfYlANOIUk"
   },
   "outputs": [],
   "source": [
    "trainY = tf.keras.utils.to_categorical(trainY, 10)\n",
    "testY = tf.keras.utils.to_categorical(testY, 10)"
   ]
  },
  {
   "cell_type": "code",
   "execution_count": 7,
   "metadata": {
    "colab": {
     "base_uri": "https://localhost:8080/",
     "height": 119
    },
    "colab_type": "code",
    "executionInfo": {
     "elapsed": 3943,
     "status": "ok",
     "timestamp": 1577610244382,
     "user": {
      "displayName": "Sanket Savla",
      "photoUrl": "https://lh3.googleusercontent.com/a-/AAuE7mBo4KZzvHgFzjhv477O3k6KTbjl0HWaFvCSDprozg=s64",
      "userId": "10471269459138076930"
     },
     "user_tz": -330
    },
    "id": "RHV3b9mzOIUq",
    "outputId": "93eaa48b-ed59-4826-f806-d7ff20990c64",
    "scrolled": true
   },
   "outputs": [
    {
     "name": "stdout",
     "output_type": "stream",
     "text": [
      "(60000, 10)\n",
      "('First 5 examples now are: ', array([[0., 0., 0., 0., 0., 0., 0., 0., 0., 1.],\n",
      "       [1., 0., 0., 0., 0., 0., 0., 0., 0., 0.],\n",
      "       [1., 0., 0., 0., 0., 0., 0., 0., 0., 0.],\n",
      "       [0., 0., 0., 1., 0., 0., 0., 0., 0., 0.],\n",
      "       [1., 0., 0., 0., 0., 0., 0., 0., 0., 0.]], dtype=float32))\n"
     ]
    }
   ],
   "source": [
    "print(trainY.shape)\n",
    "print('First 5 examples now are: ', trainY[0:5])"
   ]
  },
  {
   "cell_type": "markdown",
   "metadata": {
    "colab_type": "text",
    "id": "FwhQ8e7VOIUw"
   },
   "source": [
    "### Visualize the data\n",
    "\n",
    "Plot first 10 images in the triaining set and their labels."
   ]
  },
  {
   "cell_type": "code",
   "execution_count": 8,
   "metadata": {
    "colab": {
     "base_uri": "https://localhost:8080/",
     "height": 114
    },
    "colab_type": "code",
    "executionInfo": {
     "elapsed": 3926,
     "status": "ok",
     "timestamp": 1577610244383,
     "user": {
      "displayName": "Sanket Savla",
      "photoUrl": "https://lh3.googleusercontent.com/a-/AAuE7mBo4KZzvHgFzjhv477O3k6KTbjl0HWaFvCSDprozg=s64",
      "userId": "10471269459138076930"
     },
     "user_tz": -330
    },
    "id": "AvDML2OoOIUx",
    "outputId": "93574990-5527-4f7d-d767-9f44abc33305"
   },
   "outputs": [
    {
     "data": {
      "image/png": "[encoded data removed]",
      "text/plain": [
       "<Figure size 432x288 with 10 Axes>"
      ]
     },
     "metadata": {
      "tags": []
     },
     "output_type": "display_data"
    },
    {
     "name": "stdout",
     "output_type": "stream",
     "text": [
      "label for each of the above image:\n",
      "(9, 0, 0, 3, 0, 2, 7, 2, 5, 5)\n"
     ]
    }
   ],
   "source": [
    "import matplotlib.pyplot as plt\n",
    "import numpy as np\n",
    "%matplotlib inline\n",
    "fig, (plt0, plt1, plt2, plt3, plt4, plt5, plt6, plt7, plt8, plt9) = plt.subplots(1, 10)\n",
    "plt0.imshow(trainX[0,:,:], cmap='gray')\n",
    "plt0.axis('off')\n",
    "plt1.imshow(trainX[1,:,:], cmap='gray')\n",
    "plt1.axis('off')\n",
    "plt2.imshow(trainX[2,:,:], cmap='gray')\n",
    "plt2.axis('off')\n",
    "plt3.imshow(trainX[3,:,:], cmap='gray')\n",
    "plt3.axis('off')\n",
    "plt4.imshow(trainX[4,:,:], cmap='gray')\n",
    "plt4.axis('off')\n",
    "plt5.imshow(trainX[5,:,:], cmap='gray')\n",
    "plt5.axis('off')\n",
    "plt6.imshow(trainX[6,:,:], cmap='gray')\n",
    "plt6.axis('off')\n",
    "plt7.imshow(trainX[7,:,:], cmap='gray')\n",
    "plt7.axis('off')\n",
    "plt8.imshow(trainX[8,:,:], cmap='gray')\n",
    "plt8.axis('off')\n",
    "plt9.imshow(trainX[9,:,:], cmap='gray')\n",
    "plt9.axis('off')\n",
    "plt.show()\n",
    "print(\"label for each of the above image:\")\n",
    "print(np.argmax(trainY[0]), np.argmax(trainY[1]), np.argmax(trainY[2]), np.argmax(trainY[3]), np.argmax(trainY[4]), np.argmax(trainY[5]), np.argmax(trainY[6]), np.argmax(trainY[7]), np.argmax(trainY[8]), np.argmax(trainY[9]))"
   ]
  },
  {
   "cell_type": "markdown",
   "metadata": {
    "colab_type": "text",
    "id": "l4TbJGeSOIU4"
   },
   "source": [
    "### Build a neural Network with a cross entropy loss function and sgd optimizer in Keras. The output layer with 10 neurons as we have 10 classes."
   ]
  },
  {
   "cell_type": "code",
   "execution_count": 9,
   "metadata": {
    "colab": {
     "base_uri": "https://localhost:8080/",
     "height": 105
    },
    "colab_type": "code",
    "executionInfo": {
     "elapsed": 3908,
     "status": "ok",
     "timestamp": 1577610244384,
     "user": {
      "displayName": "Sanket Savla",
      "photoUrl": "https://lh3.googleusercontent.com/a-/AAuE7mBo4KZzvHgFzjhv477O3k6KTbjl0HWaFvCSDprozg=s64",
      "userId": "10471269459138076930"
     },
     "user_tz": -330
    },
    "id": "Ac06XZZTOIU6",
    "outputId": "4fac5e05-2a02-4a1c-e9a3-fa162f2f7500"
   },
   "outputs": [
    {
     "name": "stderr",
     "output_type": "stream",
     "text": [
      "WARNING: Logging before flag parsing goes to stderr.\n",
      "W1229 09:04:03.634198 140307137148800 deprecation.py:506] From /usr/local/lib/python2.7/dist-packages/tensorflow_core/python/ops/resource_variable_ops.py:1630: calling __init__ (from tensorflow.python.ops.resource_variable_ops) with constraint is deprecated and will be removed in a future version.\n",
      "Instructions for updating:\n",
      "If using Keras pass *_constraint arguments to layers.\n"
     ]
    }
   ],
   "source": [
    "model = tf.keras.models.Sequential()\n",
    "model.add(tf.keras.layers.Reshape((trainX.shape[1] * trainX.shape[2], ), input_shape=(trainX.shape[1], trainX.shape[2],)))\n",
    "model.add(tf.keras.layers.Dense(10, activation='softmax'))\n",
    "model.compile(loss='categorical_crossentropy', optimizer='sgd', metrics=['accuracy'])"
   ]
  },
  {
   "cell_type": "code",
   "execution_count": 10,
   "metadata": {
    "colab": {
     "base_uri": "https://localhost:8080/",
     "height": 221
    },
    "colab_type": "code",
    "executionInfo": {
     "elapsed": 4753,
     "status": "ok",
     "timestamp": 1577610245243,
     "user": {
      "displayName": "Sanket Savla",
      "photoUrl": "https://lh3.googleusercontent.com/a-/AAuE7mBo4KZzvHgFzjhv477O3k6KTbjl0HWaFvCSDprozg=s64",
      "userId": "10471269459138076930"
     },
     "user_tz": -330
    },
    "id": "NJOI2zAYUGoH",
    "outputId": "2ecf87e9-171c-4a8f-bc13-6c3d3642d8c3"
   },
   "outputs": [
    {
     "name": "stdout",
     "output_type": "stream",
     "text": [
      "Model: \"sequential\"\n",
      "_________________________________________________________________\n",
      "Layer (type)                 Output Shape              Param #   \n",
      "=================================================================\n",
      "reshape (Reshape)            (None, 784)               0         \n",
      "_________________________________________________________________\n",
      "dense (Dense)                (None, 10)                7850      \n",
      "=================================================================\n",
      "Total params: 7,850\n",
      "Trainable params: 7,850\n",
      "Non-trainable params: 0\n",
      "_________________________________________________________________\n"
     ]
    }
   ],
   "source": [
    "model.summary()"
   ]
  },
  {
   "cell_type": "markdown",
   "metadata": {
    "colab_type": "text",
    "id": "3hQpLv3aOIU_"
   },
   "source": [
    "### Execute the model using model.fit()"
   ]
  },
  {
   "cell_type": "code",
   "execution_count": 11,
   "metadata": {
    "colab": {
     "base_uri": "https://localhost:8080/",
     "height": 391
    },
    "colab_type": "code",
    "executionInfo": {
     "elapsed": 48398,
     "status": "ok",
     "timestamp": 1577610288942,
     "user": {
      "displayName": "Sanket Savla",
      "photoUrl": "https://lh3.googleusercontent.com/a-/AAuE7mBo4KZzvHgFzjhv477O3k6KTbjl0HWaFvCSDprozg=s64",
      "userId": "10471269459138076930"
     },
     "user_tz": -330
    },
    "id": "O59C_-IgOIVB",
    "outputId": "ee7875eb-012a-4bf3-b4c8-510cc5464261"
   },
   "outputs": [
    {
     "name": "stdout",
     "output_type": "stream",
     "text": [
      "Train on 60000 samples\n",
      "Epoch 1/10\n",
      "60000/60000 [==============================] - 5s 83us/sample - loss: 2075.1803 - acc: 0.7404\n",
      "Epoch 2/10\n",
      "60000/60000 [==============================] - 3s 58us/sample - loss: 1672.4439 - acc: 0.7783\n",
      "Epoch 3/10\n",
      "60000/60000 [==============================] - 4s 59us/sample - loss: 1543.2692 - acc: 0.7858\n",
      "Epoch 4/10\n",
      "60000/60000 [==============================] - 4s 58us/sample - loss: 1509.0144 - acc: 0.7892\n",
      "Epoch 5/10\n",
      "60000/60000 [==============================] - 4s 59us/sample - loss: 1482.6866 - acc: 0.7951\n",
      "Epoch 6/10\n",
      "60000/60000 [==============================] - 4s 59us/sample - loss: 1485.2788 - acc: 0.7943\n",
      "Epoch 7/10\n",
      "60000/60000 [==============================] - 4s 59us/sample - loss: 1458.7297 - acc: 0.7979\n",
      "Epoch 8/10\n",
      "60000/60000 [==============================] - 4s 59us/sample - loss: 1426.1624 - acc: 0.7998\n",
      "Epoch 9/10\n",
      "60000/60000 [==============================] - 4s 60us/sample - loss: 1420.7534 - acc: 0.8008\n",
      "Epoch 10/10\n",
      "60000/60000 [==============================] - 4s 58us/sample - loss: 1438.3367 - acc: 0.7989\n"
     ]
    },
    {
     "data": {
      "text/plain": [
       "<tensorflow.python.keras.callbacks.History at 0x7f9b6da01590>"
      ]
     },
     "execution_count": 11,
     "metadata": {
      "tags": []
     },
     "output_type": "execute_result"
    }
   ],
   "source": [
    "model.fit(trainX, trainY, epochs=10)"
   ]
  },
  {
   "cell_type": "markdown",
   "metadata": {
    "colab_type": "text",
    "id": "mwk3T5LJOIVN"
   },
   "source": [
    "### Execute the model"
   ]
  },
  {
   "cell_type": "code",
   "execution_count": 12,
   "metadata": {
    "colab": {
     "base_uri": "https://localhost:8080/",
     "height": 153
    },
    "colab_type": "code",
    "executionInfo": {
     "elapsed": 48883,
     "status": "ok",
     "timestamp": 1577610289452,
     "user": {
      "displayName": "Sanket Savla",
      "photoUrl": "https://lh3.googleusercontent.com/a-/AAuE7mBo4KZzvHgFzjhv477O3k6KTbjl0HWaFvCSDprozg=s64",
      "userId": "10471269459138076930"
     },
     "user_tz": -330
    },
    "id": "JNLR8tcBOIVP",
    "outputId": "1ef345d6-932d-40bf-e463-ff38966ec43d"
   },
   "outputs": [
    {
     "name": "stdout",
     "output_type": "stream",
     "text": [
      "[[0. 0. 0. ... 0. 0. 1.]\n",
      " [0. 0. 1. ... 0. 0. 0.]\n",
      " [0. 1. 0. ... 0. 0. 0.]\n",
      " ...\n",
      " [0. 0. 0. ... 0. 0. 0.]\n",
      " [0. 1. 0. ... 0. 0. 0.]\n",
      " [0. 0. 0. ... 0. 0. 0.]]\n",
      "0.7874\n"
     ]
    }
   ],
   "source": [
    "predY=model.predict(testX)\n",
    "print(predY)\n",
    "y_pred = []\n",
    "for val in predY:\n",
    "    y_pred.append(np.argmax(val))\n",
    "y_test = []\n",
    "for val in testY:\n",
    "    y_test.append(np.argmax(val))\n",
    "from sklearn.metrics import accuracy_score\n",
    "print(accuracy_score(y_test, y_pred))"
   ]
  },
  {
   "cell_type": "markdown",
   "metadata": {
    "colab_type": "text",
    "id": "Py-KwkmjOIVU"
   },
   "source": [
    "### Customize the learning rate to 0.001 in sgd optimizer and run the model"
   ]
  },
  {
   "cell_type": "code",
   "execution_count": 13,
   "metadata": {
    "colab": {
     "base_uri": "https://localhost:8080/",
     "height": 391
    },
    "colab_type": "code",
    "executionInfo": {
     "elapsed": 84337,
     "status": "ok",
     "timestamp": 1577610324935,
     "user": {
      "displayName": "Sanket Savla",
      "photoUrl": "https://lh3.googleusercontent.com/a-/AAuE7mBo4KZzvHgFzjhv477O3k6KTbjl0HWaFvCSDprozg=s64",
      "userId": "10471269459138076930"
     },
     "user_tz": -330
    },
    "id": "yLXUE9jWOIVV",
    "outputId": "95eff206-6a3b-4190-89b2-d925d34d6939"
   },
   "outputs": [
    {
     "name": "stdout",
     "output_type": "stream",
     "text": [
      "Train on 60000 samples\n",
      "Epoch 1/10\n",
      "60000/60000 [==============================] - 4s 60us/sample - loss: 611.5458 - acc: 0.8583\n",
      "Epoch 2/10\n",
      "60000/60000 [==============================] - 3s 58us/sample - loss: 509.1978 - acc: 0.8565\n",
      "Epoch 3/10\n",
      "60000/60000 [==============================] - 3s 58us/sample - loss: 451.3324 - acc: 0.8560\n",
      "Epoch 4/10\n",
      "60000/60000 [==============================] - 4s 59us/sample - loss: 411.9896 - acc: 0.8543\n",
      "Epoch 5/10\n",
      "60000/60000 [==============================] - 4s 59us/sample - loss: 381.7727 - acc: 0.8533\n",
      "Epoch 6/10\n",
      "60000/60000 [==============================] - 4s 60us/sample - loss: 355.4397 - acc: 0.8514\n",
      "Epoch 7/10\n",
      "60000/60000 [==============================] - 3s 58us/sample - loss: 335.0782 - acc: 0.8502\n",
      "Epoch 8/10\n",
      "60000/60000 [==============================] - 3s 58us/sample - loss: 317.0951 - acc: 0.8504\n",
      "Epoch 9/10\n",
      "60000/60000 [==============================] - 3s 57us/sample - loss: 302.5583 - acc: 0.8487\n",
      "Epoch 10/10\n",
      "60000/60000 [==============================] - 3s 58us/sample - loss: 286.4172 - acc: 0.8485\n"
     ]
    },
    {
     "data": {
      "text/plain": [
       "<tensorflow.python.keras.callbacks.History at 0x7f9b70a7dad0>"
      ]
     },
     "execution_count": 13,
     "metadata": {
      "tags": []
     },
     "output_type": "execute_result"
    }
   ],
   "source": [
    "model.compile(loss='categorical_crossentropy', optimizer=tf.keras.optimizers.SGD(learning_rate=0.001), metrics=['accuracy'])\n",
    "model.fit(trainX, trainY, epochs=10)"
   ]
  },
  {
   "cell_type": "code",
   "execution_count": 14,
   "metadata": {
    "colab": {
     "base_uri": "https://localhost:8080/",
     "height": 153
    },
    "colab_type": "code",
    "executionInfo": {
     "elapsed": 84319,
     "status": "ok",
     "timestamp": 1577610324937,
     "user": {
      "displayName": "Sanket Savla",
      "photoUrl": "https://lh3.googleusercontent.com/a-/AAuE7mBo4KZzvHgFzjhv477O3k6KTbjl0HWaFvCSDprozg=s64",
      "userId": "10471269459138076930"
     },
     "user_tz": -330
    },
    "id": "pJUqA5T4OIVc",
    "outputId": "2efb39ff-e263-4e5b-8103-a172a4ac0983"
   },
   "outputs": [
    {
     "name": "stdout",
     "output_type": "stream",
     "text": [
      "[[0. 0. 0. ... 0. 0. 1.]\n",
      " [0. 0. 1. ... 0. 0. 0.]\n",
      " [0. 1. 0. ... 0. 0. 0.]\n",
      " ...\n",
      " [0. 0. 0. ... 0. 0. 0.]\n",
      " [0. 1. 0. ... 0. 0. 0.]\n",
      " [0. 0. 0. ... 0. 0. 0.]]\n",
      "0.8219\n"
     ]
    }
   ],
   "source": [
    "predY=model.predict(testX)\n",
    "print(predY)\n",
    "y_pred = []\n",
    "for val in predY:\n",
    "    y_pred.append(np.argmax(val))\n",
    "y_test = []\n",
    "for val in testY:\n",
    "    y_test.append(np.argmax(val))\n",
    "print(accuracy_score(y_test, y_pred))"
   ]
  },
  {
   "cell_type": "markdown",
   "metadata": {
    "colab_type": "text",
    "id": "j9CSqKvpOIVk"
   },
   "source": [
    "### Build the Neural Network model with 3 Dense layers with 100,100,10 neurons respectively in each layer. Use cross entropy loss function and singmoid as activation in the hidden layers and softmax as activation function in the output layer. Use sgd optimizer with learning rate 0.03."
   ]
  },
  {
   "cell_type": "code",
   "execution_count": 0,
   "metadata": {
    "colab": {},
    "colab_type": "code",
    "id": "GGAad54JOIVm"
   },
   "outputs": [],
   "source": [
    "model2 = tf.keras.models.Sequential()\n",
    "model2.add(tf.keras.layers.Reshape((trainX.shape[1] * trainX.shape[2], ), input_shape=(trainX.shape[1], trainX.shape[2],)))\n",
    "model2.add(tf.keras.layers.Dense(100, activation='sigmoid'))\n",
    "model2.add(tf.keras.layers.Dense(100, activation='sigmoid'))\n",
    "model2.add(tf.keras.layers.Dense(10, activation='softmax'))\n",
    "model2.compile(loss='categorical_crossentropy', optimizer=tf.keras.optimizers.SGD(learning_rate=0.03), metrics=['accuracy'])"
   ]
  },
  {
   "cell_type": "code",
   "execution_count": 16,
   "metadata": {
    "colab": {
     "base_uri": "https://localhost:8080/",
     "height": 391
    },
    "colab_type": "code",
    "executionInfo": {
     "elapsed": 124714,
     "status": "ok",
     "timestamp": 1577610365378,
     "user": {
      "displayName": "Sanket Savla",
      "photoUrl": "https://lh3.googleusercontent.com/a-/AAuE7mBo4KZzvHgFzjhv477O3k6KTbjl0HWaFvCSDprozg=s64",
      "userId": "10471269459138076930"
     },
     "user_tz": -330
    },
    "id": "MQ7oIymROIVp",
    "outputId": "9b605586-7df7-44ca-9948-c64cecf3066d"
   },
   "outputs": [
    {
     "name": "stdout",
     "output_type": "stream",
     "text": [
      "Train on 60000 samples\n",
      "Epoch 1/10\n",
      "60000/60000 [==============================] - 4s 67us/sample - loss: 1.1355 - acc: 0.6595\n",
      "Epoch 2/10\n",
      "60000/60000 [==============================] - 4s 66us/sample - loss: 0.8082 - acc: 0.7235\n",
      "Epoch 3/10\n",
      "60000/60000 [==============================] - 4s 66us/sample - loss: 0.8232 - acc: 0.7075\n",
      "Epoch 4/10\n",
      "60000/60000 [==============================] - 4s 66us/sample - loss: 0.8781 - acc: 0.6889\n",
      "Epoch 5/10\n",
      "60000/60000 [==============================] - 4s 67us/sample - loss: 0.8718 - acc: 0.6791\n",
      "Epoch 6/10\n",
      "60000/60000 [==============================] - 4s 66us/sample - loss: 0.9285 - acc: 0.6487\n",
      "Epoch 7/10\n",
      "60000/60000 [==============================] - 4s 67us/sample - loss: 0.9984 - acc: 0.6231\n",
      "Epoch 8/10\n",
      "60000/60000 [==============================] - 4s 66us/sample - loss: 0.9187 - acc: 0.6576\n",
      "Epoch 9/10\n",
      "60000/60000 [==============================] - 4s 65us/sample - loss: 0.9462 - acc: 0.6312\n",
      "Epoch 10/10\n",
      "60000/60000 [==============================] - 4s 67us/sample - loss: 0.9215 - acc: 0.6572\n"
     ]
    },
    {
     "data": {
      "text/plain": [
       "<tensorflow.python.keras.callbacks.History at 0x7f9b6d9d82d0>"
      ]
     },
     "execution_count": 16,
     "metadata": {
      "tags": []
     },
     "output_type": "execute_result"
    }
   ],
   "source": [
    "model2.fit(trainX, trainY, epochs=10)"
   ]
  },
  {
   "cell_type": "code",
   "execution_count": 17,
   "metadata": {
    "colab": {
     "base_uri": "https://localhost:8080/",
     "height": 255
    },
    "colab_type": "code",
    "executionInfo": {
     "elapsed": 124697,
     "status": "ok",
     "timestamp": 1577610365380,
     "user": {
      "displayName": "Sanket Savla",
      "photoUrl": "https://lh3.googleusercontent.com/a-/AAuE7mBo4KZzvHgFzjhv477O3k6KTbjl0HWaFvCSDprozg=s64",
      "userId": "10471269459138076930"
     },
     "user_tz": -330
    },
    "id": "X-O-fFxnOIVt",
    "outputId": "569bebc5-ba7f-4ca8-ac79-26612e2b60a5"
   },
   "outputs": [
    {
     "name": "stdout",
     "output_type": "stream",
     "text": [
      "[[5.89990861e-07 2.84917956e-08 1.64876197e-04 ... 2.62604710e-02\n",
      "  1.57362893e-01 1.20134547e-01]\n",
      " [3.13320309e-02 1.22947007e-04 4.52503532e-01 ... 2.40234863e-06\n",
      "  1.21193202e-02 2.03898133e-04]\n",
      " [6.01227209e-03 6.71500206e-01 2.17590947e-03 ... 2.24540825e-03\n",
      "  4.36217990e-03 2.42421101e-03]\n",
      " ...\n",
      " [5.18040299e-01 1.07409556e-04 3.65766173e-04 ... 1.60810468e-03\n",
      "  3.12395930e-01 7.87205528e-03]\n",
      " [2.16037314e-02 2.18308255e-01 2.87697854e-04 ... 3.40969721e-03\n",
      "  5.19819325e-03 3.04073468e-03]\n",
      " [3.10611625e-07 9.35790112e-09 2.77321724e-05 ... 7.68335164e-02\n",
      "  2.54845750e-02 3.02937254e-02]]\n",
      "0.6534\n"
     ]
    }
   ],
   "source": [
    "predY=model2.predict(testX)\n",
    "print(predY)\n",
    "y_pred = []\n",
    "for val in predY:\n",
    "    y_pred.append(np.argmax(val))\n",
    "y_test = []\n",
    "for val in testY:\n",
    "    y_test.append(np.argmax(val))\n",
    "print(accuracy_score(y_test, y_pred))"
   ]
  },
  {
   "cell_type": "markdown",
   "metadata": {
    "colab_type": "text",
    "id": "Nr2YsZV0OIV0"
   },
   "source": [
    "## Review model"
   ]
  },
  {
   "cell_type": "code",
   "execution_count": 0,
   "metadata": {
    "colab": {},
    "colab_type": "code",
    "id": "h4ojW6-oOIV2"
   },
   "outputs": [],
   "source": [
    "#As we can see that when we used customized learning rate of 0.001, the performance slightly increased for the ANN without any Hidden layers which might mean we picked up a good Learning rate or it can mean that in first instance, it got stuck up in local minima.\n",
    "#Then, we added 2 Hidden Layers of 100 neurons each & we expected to see improvement in the accuracy as the model could have picked up shapes better.\n",
    "#But, ironically, the performance decreased further.\n",
    "#May be adding Convolution Layers may help but currently it is out of scope for this Lab.\n",
    "#Hence, we will retrain the ANN without hidden layers with learning rate of 0.001 with more number of epochs & test the performance again."
   ]
  },
  {
   "cell_type": "markdown",
   "metadata": {
    "colab_type": "text",
    "id": "gfFGmbZLOIV5"
   },
   "source": [
    "### Run the model"
   ]
  },
  {
   "cell_type": "code",
   "execution_count": 28,
   "metadata": {
    "colab": {
     "base_uri": "https://localhost:8080/",
     "height": 1000
    },
    "colab_type": "code",
    "executionInfo": {
     "elapsed": 344797,
     "status": "ok",
     "timestamp": 1577611779239,
     "user": {
      "displayName": "Sanket Savla",
      "photoUrl": "https://lh3.googleusercontent.com/a-/AAuE7mBo4KZzvHgFzjhv477O3k6KTbjl0HWaFvCSDprozg=s64",
      "userId": "10471269459138076930"
     },
     "user_tz": -330
    },
    "id": "bIkbMEN5OIV7",
    "outputId": "1aee8684-03e4-4d0f-cfde-f8f526957963"
   },
   "outputs": [
    {
     "name": "stdout",
     "output_type": "stream",
     "text": [
      "Train on 60000 samples\n",
      "Epoch 1/100\n",
      "60000/60000 [==============================] - 4s 59us/sample - loss: 275.4562 - acc: 0.8488\n",
      "Epoch 2/100\n",
      "60000/60000 [==============================] - 4s 59us/sample - loss: 267.4257 - acc: 0.8468\n",
      "Epoch 3/100\n",
      "60000/60000 [==============================] - 3s 57us/sample - loss: 251.9650 - acc: 0.8487\n",
      "Epoch 4/100\n",
      "60000/60000 [==============================] - 3s 58us/sample - loss: 249.9298 - acc: 0.8445\n",
      "Epoch 5/100\n",
      "60000/60000 [==============================] - 3s 57us/sample - loss: 236.1530 - acc: 0.8469\n",
      "Epoch 6/100\n",
      "60000/60000 [==============================] - 3s 57us/sample - loss: 231.5309 - acc: 0.8448\n",
      "Epoch 7/100\n",
      "60000/60000 [==============================] - 3s 57us/sample - loss: 225.3160 - acc: 0.8442\n",
      "Epoch 8/100\n",
      "60000/60000 [==============================] - 3s 57us/sample - loss: 217.5915 - acc: 0.8426\n",
      "Epoch 9/100\n",
      "60000/60000 [==============================] - 4s 58us/sample - loss: 212.1437 - acc: 0.8438\n",
      "Epoch 10/100\n",
      "60000/60000 [==============================] - 4s 62us/sample - loss: 205.5353 - acc: 0.8429\n",
      "Epoch 11/100\n",
      "60000/60000 [==============================] - 4s 62us/sample - loss: 200.1909 - acc: 0.8422\n",
      "Epoch 12/100\n",
      "60000/60000 [==============================] - 4s 63us/sample - loss: 198.2814 - acc: 0.8404\n",
      "Epoch 13/100\n",
      "60000/60000 [==============================] - 4s 59us/sample - loss: 190.7887 - acc: 0.8414\n",
      "Epoch 14/100\n",
      "60000/60000 [==============================] - 4s 59us/sample - loss: 191.7280 - acc: 0.8401\n",
      "Epoch 15/100\n",
      "60000/60000 [==============================] - 3s 57us/sample - loss: 185.9159 - acc: 0.8398\n",
      "Epoch 16/100\n",
      "60000/60000 [==============================] - 3s 58us/sample - loss: 182.3214 - acc: 0.8406\n",
      "Epoch 17/100\n",
      "60000/60000 [==============================] - 4s 59us/sample - loss: 179.7463 - acc: 0.8386\n",
      "Epoch 18/100\n",
      "60000/60000 [==============================] - 3s 58us/sample - loss: 178.6576 - acc: 0.8382\n",
      "Epoch 19/100\n",
      "60000/60000 [==============================] - 4s 59us/sample - loss: 175.4965 - acc: 0.8365\n",
      "Epoch 20/100\n",
      "60000/60000 [==============================] - 4s 59us/sample - loss: 170.4681 - acc: 0.8375\n",
      "Epoch 21/100\n",
      "60000/60000 [==============================] - 4s 59us/sample - loss: 171.4087 - acc: 0.8365\n",
      "Epoch 22/100\n",
      "60000/60000 [==============================] - 3s 58us/sample - loss: 167.5971 - acc: 0.8361\n",
      "Epoch 23/100\n",
      "60000/60000 [==============================] - 3s 58us/sample - loss: 165.0802 - acc: 0.8366\n",
      "Epoch 24/100\n",
      "60000/60000 [==============================] - 3s 58us/sample - loss: 162.6428 - acc: 0.8366\n",
      "Epoch 25/100\n",
      "60000/60000 [==============================] - 3s 57us/sample - loss: 163.0652 - acc: 0.8360\n",
      "Epoch 26/100\n",
      "60000/60000 [==============================] - 3s 57us/sample - loss: 161.0176 - acc: 0.8353\n",
      "Epoch 27/100\n",
      "60000/60000 [==============================] - 3s 56us/sample - loss: 161.5479 - acc: 0.8332\n",
      "Epoch 28/100\n",
      "60000/60000 [==============================] - 3s 58us/sample - loss: 158.6989 - acc: 0.8336\n",
      "Epoch 29/100\n",
      "60000/60000 [==============================] - 3s 57us/sample - loss: 153.9710 - acc: 0.8364\n",
      "Epoch 30/100\n",
      "60000/60000 [==============================] - 3s 58us/sample - loss: 153.8682 - acc: 0.8349\n",
      "Epoch 31/100\n",
      "60000/60000 [==============================] - 3s 58us/sample - loss: 155.3165 - acc: 0.8320\n",
      "Epoch 32/100\n",
      "60000/60000 [==============================] - 3s 58us/sample - loss: 154.9328 - acc: 0.8340\n",
      "Epoch 33/100\n",
      "60000/60000 [==============================] - 3s 57us/sample - loss: 152.6273 - acc: 0.8327\n",
      "Epoch 34/100\n",
      "60000/60000 [==============================] - 3s 57us/sample - loss: 150.8659 - acc: 0.8332\n",
      "Epoch 35/100\n",
      "60000/60000 [==============================] - 3s 58us/sample - loss: 149.8553 - acc: 0.8324\n",
      "Epoch 36/100\n",
      "60000/60000 [==============================] - 3s 57us/sample - loss: 149.5630 - acc: 0.8329\n",
      "Epoch 37/100\n",
      "60000/60000 [==============================] - 4s 59us/sample - loss: 147.9320 - acc: 0.8327\n",
      "Epoch 38/100\n",
      "60000/60000 [==============================] - 4s 59us/sample - loss: 147.3186 - acc: 0.8323\n",
      "Epoch 39/100\n",
      "60000/60000 [==============================] - 3s 58us/sample - loss: 144.7485 - acc: 0.8331\n",
      "Epoch 40/100\n",
      "60000/60000 [==============================] - 3s 58us/sample - loss: 148.7368 - acc: 0.8308\n",
      "Epoch 41/100\n",
      "60000/60000 [==============================] - 3s 58us/sample - loss: 150.5507 - acc: 0.8298\n",
      "Epoch 42/100\n",
      "60000/60000 [==============================] - 3s 57us/sample - loss: 145.7791 - acc: 0.8309\n",
      "Epoch 43/100\n",
      "60000/60000 [==============================] - 3s 57us/sample - loss: 143.4467 - acc: 0.8315\n",
      "Epoch 44/100\n",
      "60000/60000 [==============================] - 3s 57us/sample - loss: 146.6350 - acc: 0.8292\n",
      "Epoch 45/100\n",
      "60000/60000 [==============================] - 3s 57us/sample - loss: 143.5627 - acc: 0.8309\n",
      "Epoch 46/100\n",
      "60000/60000 [==============================] - 3s 57us/sample - loss: 141.2013 - acc: 0.8306\n",
      "Epoch 47/100\n",
      "60000/60000 [==============================] - 3s 57us/sample - loss: 145.3521 - acc: 0.8286\n",
      "Epoch 48/100\n",
      "60000/60000 [==============================] - 3s 57us/sample - loss: 141.5452 - acc: 0.8310\n",
      "Epoch 49/100\n",
      "60000/60000 [==============================] - 3s 56us/sample - loss: 140.1950 - acc: 0.8303\n",
      "Epoch 50/100\n",
      "60000/60000 [==============================] - 3s 57us/sample - loss: 143.5119 - acc: 0.8281\n",
      "Epoch 51/100\n",
      "60000/60000 [==============================] - 3s 56us/sample - loss: 141.3106 - acc: 0.8303\n",
      "Epoch 52/100\n",
      "60000/60000 [==============================] - 3s 56us/sample - loss: 142.2347 - acc: 0.8286\n",
      "Epoch 53/100\n",
      "60000/60000 [==============================] - 3s 56us/sample - loss: 142.4236 - acc: 0.8298\n",
      "Epoch 54/100\n",
      "60000/60000 [==============================] - 3s 56us/sample - loss: 140.8222 - acc: 0.8273\n",
      "Epoch 55/100\n",
      "60000/60000 [==============================] - 3s 56us/sample - loss: 142.1837 - acc: 0.8283\n",
      "Epoch 56/100\n",
      "60000/60000 [==============================] - 3s 57us/sample - loss: 144.9665 - acc: 0.8258\n",
      "Epoch 57/100\n",
      "60000/60000 [==============================] - 3s 56us/sample - loss: 140.1236 - acc: 0.8278\n",
      "Epoch 58/100\n",
      "60000/60000 [==============================] - 3s 55us/sample - loss: 139.2768 - acc: 0.8284\n",
      "Epoch 59/100\n",
      "60000/60000 [==============================] - 3s 55us/sample - loss: 141.5415 - acc: 0.8264\n",
      "Epoch 60/100\n",
      "60000/60000 [==============================] - 3s 56us/sample - loss: 137.9701 - acc: 0.8269\n",
      "Epoch 61/100\n",
      "60000/60000 [==============================] - 3s 55us/sample - loss: 139.1665 - acc: 0.8287\n",
      "Epoch 62/100\n",
      "60000/60000 [==============================] - 3s 56us/sample - loss: 140.0029 - acc: 0.8272\n",
      "Epoch 63/100\n",
      "60000/60000 [==============================] - 3s 57us/sample - loss: 138.7552 - acc: 0.8282\n",
      "Epoch 64/100\n",
      "60000/60000 [==============================] - 4s 59us/sample - loss: 141.3965 - acc: 0.8263\n",
      "Epoch 65/100\n",
      "60000/60000 [==============================] - 3s 58us/sample - loss: 139.7223 - acc: 0.8250\n",
      "Epoch 66/100\n",
      "60000/60000 [==============================] - 3s 57us/sample - loss: 139.6849 - acc: 0.8273\n",
      "Epoch 67/100\n",
      "60000/60000 [==============================] - 3s 57us/sample - loss: 136.6251 - acc: 0.8271\n",
      "Epoch 68/100\n",
      "60000/60000 [==============================] - 3s 56us/sample - loss: 134.4548 - acc: 0.8281\n",
      "Epoch 69/100\n",
      "60000/60000 [==============================] - 3s 56us/sample - loss: 135.9855 - acc: 0.8256\n",
      "Epoch 70/100\n",
      "60000/60000 [==============================] - 3s 56us/sample - loss: 134.2986 - acc: 0.8283\n",
      "Epoch 71/100\n",
      "60000/60000 [==============================] - 3s 56us/sample - loss: 135.1343 - acc: 0.8274\n",
      "Epoch 72/100\n",
      "60000/60000 [==============================] - 3s 55us/sample - loss: 138.4857 - acc: 0.8231\n",
      "Epoch 73/100\n",
      "60000/60000 [==============================] - 3s 56us/sample - loss: 134.6896 - acc: 0.8272\n",
      "Epoch 74/100\n",
      "60000/60000 [==============================] - 3s 58us/sample - loss: 137.1703 - acc: 0.8253\n",
      "Epoch 75/100\n",
      "60000/60000 [==============================] - 3s 58us/sample - loss: 135.2693 - acc: 0.8259\n",
      "Epoch 76/100\n",
      "60000/60000 [==============================] - 3s 57us/sample - loss: 135.2919 - acc: 0.8253\n",
      "Epoch 77/100\n",
      "60000/60000 [==============================] - 3s 57us/sample - loss: 138.2706 - acc: 0.8238\n",
      "Epoch 78/100\n",
      "60000/60000 [==============================] - 3s 58us/sample - loss: 137.7236 - acc: 0.8249\n",
      "Epoch 79/100\n",
      "60000/60000 [==============================] - 3s 57us/sample - loss: 136.2648 - acc: 0.8258\n",
      "Epoch 80/100\n",
      "60000/60000 [==============================] - 3s 57us/sample - loss: 134.6698 - acc: 0.8250\n",
      "Epoch 81/100\n",
      "60000/60000 [==============================] - 3s 56us/sample - loss: 135.9152 - acc: 0.8255\n",
      "Epoch 82/100\n",
      "60000/60000 [==============================] - 3s 55us/sample - loss: 133.7426 - acc: 0.8264\n",
      "Epoch 83/100\n",
      "60000/60000 [==============================] - 3s 57us/sample - loss: 131.3728 - acc: 0.8266\n",
      "Epoch 84/100\n",
      "60000/60000 [==============================] - 3s 56us/sample - loss: 134.6303 - acc: 0.8251\n",
      "Epoch 85/100\n",
      "60000/60000 [==============================] - 3s 56us/sample - loss: 136.1118 - acc: 0.8240\n",
      "Epoch 86/100\n",
      "60000/60000 [==============================] - 3s 57us/sample - loss: 135.2237 - acc: 0.8243\n",
      "Epoch 87/100\n",
      "60000/60000 [==============================] - 3s 56us/sample - loss: 132.9936 - acc: 0.8255\n",
      "Epoch 88/100\n",
      "60000/60000 [==============================] - 3s 56us/sample - loss: 132.9042 - acc: 0.8243\n",
      "Epoch 89/100\n",
      "60000/60000 [==============================] - 3s 56us/sample - loss: 135.6391 - acc: 0.8242\n",
      "Epoch 90/100\n",
      "60000/60000 [==============================] - 3s 55us/sample - loss: 137.1257 - acc: 0.8230\n",
      "Epoch 91/100\n",
      "60000/60000 [==============================] - 3s 54us/sample - loss: 135.1063 - acc: 0.8251\n",
      "Epoch 92/100\n",
      "60000/60000 [==============================] - 3s 56us/sample - loss: 138.9023 - acc: 0.8237\n",
      "Epoch 93/100\n",
      "60000/60000 [==============================] - 3s 57us/sample - loss: 137.2052 - acc: 0.8250\n",
      "Epoch 94/100\n",
      "60000/60000 [==============================] - 3s 56us/sample - loss: 137.3120 - acc: 0.8228\n",
      "Epoch 95/100\n",
      "60000/60000 [==============================] - 3s 55us/sample - loss: 137.7690 - acc: 0.8245\n",
      "Epoch 96/100\n",
      "60000/60000 [==============================] - 3s 56us/sample - loss: 135.6736 - acc: 0.8236\n",
      "Epoch 97/100\n",
      "60000/60000 [==============================] - 3s 56us/sample - loss: 132.5494 - acc: 0.8253\n",
      "Epoch 98/100\n",
      "60000/60000 [==============================] - 3s 56us/sample - loss: 134.9099 - acc: 0.8229\n",
      "Epoch 99/100\n",
      "60000/60000 [==============================] - 3s 57us/sample - loss: 134.4350 - acc: 0.8229\n",
      "Epoch 100/100\n",
      "60000/60000 [==============================] - 3s 57us/sample - loss: 132.8759 - acc: 0.8245\n"
     ]
    },
    {
     "data": {
      "text/plain": [
       "<tensorflow.python.keras.callbacks.History at 0x7f9afd872b50>"
      ]
     },
     "execution_count": 28,
     "metadata": {
      "tags": []
     },
     "output_type": "execute_result"
    }
   ],
   "source": [
    "model.fit(trainX, trainY, epochs=100)"
   ]
  },
  {
   "cell_type": "code",
   "execution_count": 29,
   "metadata": {
    "colab": {
     "base_uri": "https://localhost:8080/",
     "height": 153
    },
    "colab_type": "code",
    "executionInfo": {
     "elapsed": 1312,
     "status": "ok",
     "timestamp": 1577611780595,
     "user": {
      "displayName": "Sanket Savla",
      "photoUrl": "https://lh3.googleusercontent.com/a-/AAuE7mBo4KZzvHgFzjhv477O3k6KTbjl0HWaFvCSDprozg=s64",
      "userId": "10471269459138076930"
     },
     "user_tz": -330
    },
    "id": "b_GbfB3k-BjP",
    "outputId": "f045308e-c78b-41f8-e845-8e1df699973f"
   },
   "outputs": [
    {
     "name": "stdout",
     "output_type": "stream",
     "text": [
      "[[0. 0. 0. ... 0. 0. 1.]\n",
      " [0. 0. 1. ... 0. 0. 0.]\n",
      " [0. 1. 0. ... 0. 0. 0.]\n",
      " ...\n",
      " [0. 0. 0. ... 0. 0. 0.]\n",
      " [0. 1. 0. ... 0. 0. 0.]\n",
      " [0. 0. 0. ... 0. 0. 0.]]\n",
      "0.7915\n"
     ]
    }
   ],
   "source": [
    "predY=model.predict(testX)\n",
    "print(predY)\n",
    "y_pred = []\n",
    "for val in predY:\n",
    "    y_pred.append(np.argmax(val))\n",
    "y_test = []\n",
    "for val in testY:\n",
    "    y_test.append(np.argmax(val))\n",
    "print(accuracy_score(y_test, y_pred))"
   ]
  },
  {
   "cell_type": "code",
   "execution_count": 0,
   "metadata": {
    "colab": {},
    "colab_type": "code",
    "id": "jn7muvez-lVZ"
   },
   "outputs": [],
   "source": [
    "#Conclusion:\n",
    "#We can see that the performance deteriorated for 100 epochs vs 10 epochs. This might be due to slow learning rate or it might have got stuck at local minima.\n",
    "#So, to achieve better performance, we might have to do trial & error for repeated number of times to reach at the right model to classify the Images properly."
   ]
  }
 ],
 "metadata": {
  "accelerator": "GPU",
  "colab": {
   "collapsed_sections": [],
   "name": "R6_External_AIML Answers.ipynb",
   "provenance": []
  },
  "kernelspec": {
   "display_name": "Python 3",
   "language": "python",
   "name": "python3"
  },
  "language_info": {
   "codemirror_mode": {
    "name": "ipython",
    "version": 3
   },
   "file_extension": ".py",
   "mimetype": "text/x-python",
   "name": "python",
   "nbconvert_exporter": "python",
   "pygments_lexer": "ipython3",
   "version": "3.7.4"
  }
 },
 "nbformat": 4,
 "nbformat_minor": 1
}
