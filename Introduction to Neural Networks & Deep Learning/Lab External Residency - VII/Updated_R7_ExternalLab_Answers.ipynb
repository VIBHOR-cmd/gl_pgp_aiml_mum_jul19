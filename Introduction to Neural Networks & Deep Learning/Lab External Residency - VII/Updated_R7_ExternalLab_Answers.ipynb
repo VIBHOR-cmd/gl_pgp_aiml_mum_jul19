{
  "nbformat": 4,
  "nbformat_minor": 0,
  "metadata": {
    "colab": {
      "name": "Updated_R7_ExternalLab_Answers.ipynb",
      "provenance": [],
      "collapsed_sections": []
    },
    "kernelspec": {
      "name": "python3",
      "display_name": "Python 3"
    }
  },
  "cells": [
    {
      "cell_type": "markdown",
      "metadata": {
        "id": "4WH1Pr4KQlCh",
        "colab_type": "text"
      },
      "source": [
        "### Build a DNN using Keras with `RELU` and `ADAM`"
      ]
    },
    {
      "cell_type": "markdown",
      "metadata": {
        "id": "TbvI8LqlQlCl",
        "colab_type": "text"
      },
      "source": [
        "#### Load tensorflow"
      ]
    },
    {
      "cell_type": "code",
      "metadata": {
        "id": "SPW-a-qYQlCp",
        "colab_type": "code",
        "colab": {
          "base_uri": "https://localhost:8080/",
          "height": 63
        },
        "outputId": "d9c760db-6b1d-47ed-852e-57d95e90d727"
      },
      "source": [
        "#Importing tensorflow\n",
        "import tensorflow as tf"
      ],
      "execution_count": 1,
      "outputs": [
        {
          "output_type": "display_data",
          "data": {
            "text/html": [
              "<p style=\"color: red;\">\n",
              "The default version of TensorFlow in Colab will soon switch to TensorFlow 2.x.<br>\n",
              "We recommend you <a href=\"https://www.tensorflow.org/guide/migrate\" target=\"_blank\">upgrade</a> now \n",
              "or ensure your notebook will continue to use TensorFlow 1.x via the <code>%tensorflow_version 1.x</code> magic:\n",
              "<a href=\"https://colab.research.google.com/notebooks/tensorflow_version.ipynb\" target=\"_blank\">more info</a>.</p>\n"
            ],
            "text/plain": [
              "<IPython.core.display.HTML object>"
            ]
          },
          "metadata": {
            "tags": []
          }
        }
      ]
    },
    {
      "cell_type": "markdown",
      "metadata": {
        "id": "74cQBsi5QlCw",
        "colab_type": "text"
      },
      "source": [
        "#### Collect Fashion mnist data from tf.keras.datasets "
      ]
    },
    {
      "cell_type": "code",
      "metadata": {
        "id": "wVWy0oDTr2Kj",
        "colab_type": "code",
        "colab": {}
      },
      "source": [
        "#Importing fashion_mnist sub-module from keras.datasets module in tensorflow library\n",
        "from tensorflow.keras.datasets import fashion_mnist\n",
        "\n",
        "#Load Fashion mnist data\n",
        "(x_train, y_train), (x_test, y_test) = fashion_mnist.load_data()"
      ],
      "execution_count": 0,
      "outputs": []
    },
    {
      "cell_type": "markdown",
      "metadata": {
        "id": "no7aWYZyQlC1",
        "colab_type": "text"
      },
      "source": [
        "#### Change train and test labels into one-hot vectors"
      ]
    },
    {
      "cell_type": "code",
      "metadata": {
        "id": "UX6otc4wQlC2",
        "colab_type": "code",
        "colab": {
          "base_uri": "https://localhost:8080/",
          "height": 187
        },
        "outputId": "7cdae971-dcd6-42e0-8785-1cd3839a2f53"
      },
      "source": [
        "#Changing train & test labels into one-hot vectors\n",
        "y_train = tf.keras.utils.to_categorical(y_train)\n",
        "y_test = tf.keras.utils.to_categorical(y_test)\n",
        "\n",
        "#Printing top 5 records to verify\n",
        "print(y_train[:5])\n",
        "print(y_test[:5])"
      ],
      "execution_count": 3,
      "outputs": [
        {
          "output_type": "stream",
          "text": [
            "[[0. 0. 0. 0. 0. 0. 0. 0. 0. 1.]\n",
            " [1. 0. 0. 0. 0. 0. 0. 0. 0. 0.]\n",
            " [1. 0. 0. 0. 0. 0. 0. 0. 0. 0.]\n",
            " [0. 0. 0. 1. 0. 0. 0. 0. 0. 0.]\n",
            " [1. 0. 0. 0. 0. 0. 0. 0. 0. 0.]]\n",
            "[[0. 0. 0. 0. 0. 0. 0. 0. 0. 1.]\n",
            " [0. 0. 1. 0. 0. 0. 0. 0. 0. 0.]\n",
            " [0. 1. 0. 0. 0. 0. 0. 0. 0. 0.]\n",
            " [0. 1. 0. 0. 0. 0. 0. 0. 0. 0.]\n",
            " [0. 0. 0. 0. 0. 0. 1. 0. 0. 0.]]\n"
          ],
          "name": "stdout"
        }
      ]
    },
    {
      "cell_type": "markdown",
      "metadata": {
        "id": "QjNrRTdoQlC5",
        "colab_type": "text"
      },
      "source": [
        "#### Build the Graph"
      ]
    },
    {
      "cell_type": "markdown",
      "metadata": {
        "id": "CDJ9DHVNQlC7",
        "colab_type": "text"
      },
      "source": [
        "#### Initialize model, reshape & normalize data"
      ]
    },
    {
      "cell_type": "code",
      "metadata": {
        "id": "pCDQs_g1QlC8",
        "colab_type": "code",
        "colab": {}
      },
      "source": [
        "#Import Sequential sub-module from keras.models module in tensorflow library\n",
        "from tensorflow.keras.models import Sequential\n",
        "\n",
        "#Initialize Model\n",
        "model = Sequential()\n",
        "\n",
        "#Reshape 28 x 28 images to flatten it\n",
        "x_train = x_train.reshape(60000, 784)\n",
        "x_test = x_test.reshape(10000, 784)\n",
        "\n",
        "#Normalize inputs from 0-255 to 0-1\n",
        "x_train = x_train / 255.0\n",
        "x_test = x_test / 255.0"
      ],
      "execution_count": 0,
      "outputs": []
    },
    {
      "cell_type": "markdown",
      "metadata": {
        "id": "kBGwTTilQlDD",
        "colab_type": "text"
      },
      "source": [
        "#### Add two fully connected layers with 200 and 100 neurons respectively with `relu` activations. Add a dropout layer with `p=0.25`"
      ]
    },
    {
      "cell_type": "code",
      "metadata": {
        "id": "IXbfpfOzQlDF",
        "colab_type": "code",
        "outputId": "8c3bb8eb-6888-43b0-e954-ea0445f526a4",
        "colab": {
          "base_uri": "https://localhost:8080/",
          "height": 88
        }
      },
      "source": [
        "#Import Dense & Dropout sub-modules from keras.layers module in tensorflow library\n",
        "from tensorflow.keras.layers import Dense\n",
        "from tensorflow.keras.layers import Dropout\n",
        "\n",
        "#Adding fully connected layer with 200 neurons with relu activation\n",
        "model.add(Dense(200, input_shape=(784,), activation='relu'))\n",
        "\n",
        "#Adding fully connected layer with 100 neurons with relu activation\n",
        "model.add(Dense(100, activation='relu'))\n",
        "\n",
        "#Adding dropout layer with p=0.25\n",
        "model.add(Dropout(0.25))"
      ],
      "execution_count": 5,
      "outputs": [
        {
          "output_type": "stream",
          "text": [
            "WARNING:tensorflow:From /usr/local/lib/python3.6/dist-packages/tensorflow_core/python/ops/resource_variable_ops.py:1630: calling BaseResourceVariable.__init__ (from tensorflow.python.ops.resource_variable_ops) with constraint is deprecated and will be removed in a future version.\n",
            "Instructions for updating:\n",
            "If using Keras pass *_constraint arguments to layers.\n"
          ],
          "name": "stdout"
        }
      ]
    },
    {
      "cell_type": "markdown",
      "metadata": {
        "id": "5I8f5otcQlDJ",
        "colab_type": "text"
      },
      "source": [
        "### Add the output layer with a fully connected layer with 10 neurons with `softmax` activation. Use `categorical_crossentropy` loss and `adam` optimizer and train the network. And, report the final validation."
      ]
    },
    {
      "cell_type": "code",
      "metadata": {
        "id": "JZkvKymSd0Sr",
        "colab_type": "code",
        "colab": {
          "base_uri": "https://localhost:8080/",
          "height": 1000
        },
        "outputId": "2d9d2025-aca6-4fad-fad4-0f4c49116ec6"
      },
      "source": [
        "#Adding output layer with 10 neurons with softmax activation\n",
        "model.add(Dense(10, activation='softmax'))\n",
        "\n",
        "#Compile model using categorical_crossentropy loss & adam optimizer\n",
        "model.compile(loss='categorical_crossentropy', optimizer='adam', metrics=['accuracy'])\n",
        "\n",
        "#Train the network with 100 epochs\n",
        "model.fit(x_train, y_train, epochs=100, verbose=1, validation_data=(x_test, y_test))"
      ],
      "execution_count": 6,
      "outputs": [
        {
          "output_type": "stream",
          "text": [
            "Train on 60000 samples, validate on 10000 samples\n",
            "Epoch 1/100\n",
            "60000/60000 [==============================] - 6s 96us/sample - loss: 0.5134 - acc: 0.8174 - val_loss: 0.4092 - val_acc: 0.8500\n",
            "Epoch 2/100\n",
            "60000/60000 [==============================] - 6s 94us/sample - loss: 0.3811 - acc: 0.8621 - val_loss: 0.3921 - val_acc: 0.8525\n",
            "Epoch 3/100\n",
            "60000/60000 [==============================] - 6s 101us/sample - loss: 0.3479 - acc: 0.8723 - val_loss: 0.3542 - val_acc: 0.8705\n",
            "Epoch 4/100\n",
            "60000/60000 [==============================] - 6s 97us/sample - loss: 0.3247 - acc: 0.8811 - val_loss: 0.3684 - val_acc: 0.8710\n",
            "Epoch 5/100\n",
            "60000/60000 [==============================] - 5s 91us/sample - loss: 0.3067 - acc: 0.8862 - val_loss: 0.3423 - val_acc: 0.8806\n",
            "Epoch 6/100\n",
            "60000/60000 [==============================] - 6s 95us/sample - loss: 0.2909 - acc: 0.8921 - val_loss: 0.3385 - val_acc: 0.8790\n",
            "Epoch 7/100\n",
            "60000/60000 [==============================] - 6s 94us/sample - loss: 0.2803 - acc: 0.8965 - val_loss: 0.3725 - val_acc: 0.8646\n",
            "Epoch 8/100\n",
            "60000/60000 [==============================] - 6s 95us/sample - loss: 0.2701 - acc: 0.8987 - val_loss: 0.3367 - val_acc: 0.8847\n",
            "Epoch 9/100\n",
            "60000/60000 [==============================] - 6s 93us/sample - loss: 0.2588 - acc: 0.9041 - val_loss: 0.3417 - val_acc: 0.8825\n",
            "Epoch 10/100\n",
            "60000/60000 [==============================] - 6s 93us/sample - loss: 0.2538 - acc: 0.9039 - val_loss: 0.3598 - val_acc: 0.8729\n",
            "Epoch 11/100\n",
            "60000/60000 [==============================] - 6s 92us/sample - loss: 0.2454 - acc: 0.9077 - val_loss: 0.3289 - val_acc: 0.8856\n",
            "Epoch 12/100\n",
            "60000/60000 [==============================] - 6s 92us/sample - loss: 0.2376 - acc: 0.9094 - val_loss: 0.3532 - val_acc: 0.8840\n",
            "Epoch 13/100\n",
            "60000/60000 [==============================] - 6s 93us/sample - loss: 0.2317 - acc: 0.9118 - val_loss: 0.3600 - val_acc: 0.8735\n",
            "Epoch 14/100\n",
            "60000/60000 [==============================] - 6s 96us/sample - loss: 0.2278 - acc: 0.9125 - val_loss: 0.3404 - val_acc: 0.8879\n",
            "Epoch 15/100\n",
            "60000/60000 [==============================] - 6s 93us/sample - loss: 0.2204 - acc: 0.9166 - val_loss: 0.3492 - val_acc: 0.8850\n",
            "Epoch 16/100\n",
            "60000/60000 [==============================] - 6s 93us/sample - loss: 0.2165 - acc: 0.9176 - val_loss: 0.3678 - val_acc: 0.8832\n",
            "Epoch 17/100\n",
            "60000/60000 [==============================] - 6s 93us/sample - loss: 0.2074 - acc: 0.9211 - val_loss: 0.3577 - val_acc: 0.8890\n",
            "Epoch 18/100\n",
            "60000/60000 [==============================] - 6s 95us/sample - loss: 0.2065 - acc: 0.9220 - val_loss: 0.3640 - val_acc: 0.8866\n",
            "Epoch 19/100\n",
            "60000/60000 [==============================] - 6s 94us/sample - loss: 0.2025 - acc: 0.9219 - val_loss: 0.3600 - val_acc: 0.8910\n",
            "Epoch 20/100\n",
            "60000/60000 [==============================] - 6s 93us/sample - loss: 0.1963 - acc: 0.9249 - val_loss: 0.3524 - val_acc: 0.8962\n",
            "Epoch 21/100\n",
            "60000/60000 [==============================] - 6s 95us/sample - loss: 0.1930 - acc: 0.9258 - val_loss: 0.3810 - val_acc: 0.8872\n",
            "Epoch 22/100\n",
            "60000/60000 [==============================] - 5s 91us/sample - loss: 0.1878 - acc: 0.9273 - val_loss: 0.3787 - val_acc: 0.8929\n",
            "Epoch 23/100\n",
            "60000/60000 [==============================] - 6s 97us/sample - loss: 0.1830 - acc: 0.9297 - val_loss: 0.4115 - val_acc: 0.8881\n",
            "Epoch 24/100\n",
            "60000/60000 [==============================] - 6s 93us/sample - loss: 0.1826 - acc: 0.9312 - val_loss: 0.4089 - val_acc: 0.8857\n",
            "Epoch 25/100\n",
            "60000/60000 [==============================] - 6s 97us/sample - loss: 0.1798 - acc: 0.9312 - val_loss: 0.3940 - val_acc: 0.8926\n",
            "Epoch 26/100\n",
            "60000/60000 [==============================] - 6s 96us/sample - loss: 0.1742 - acc: 0.9326 - val_loss: 0.4022 - val_acc: 0.8914\n",
            "Epoch 27/100\n",
            "60000/60000 [==============================] - 6s 98us/sample - loss: 0.1704 - acc: 0.9334 - val_loss: 0.4071 - val_acc: 0.8907\n",
            "Epoch 28/100\n",
            "60000/60000 [==============================] - 6s 98us/sample - loss: 0.1726 - acc: 0.9333 - val_loss: 0.3760 - val_acc: 0.8923\n",
            "Epoch 29/100\n",
            "60000/60000 [==============================] - 6s 98us/sample - loss: 0.1689 - acc: 0.9349 - val_loss: 0.4119 - val_acc: 0.8862\n",
            "Epoch 30/100\n",
            "60000/60000 [==============================] - 6s 97us/sample - loss: 0.1658 - acc: 0.9363 - val_loss: 0.4989 - val_acc: 0.8772\n",
            "Epoch 31/100\n",
            "60000/60000 [==============================] - 6s 97us/sample - loss: 0.1650 - acc: 0.9360 - val_loss: 0.4733 - val_acc: 0.8854\n",
            "Epoch 32/100\n",
            "60000/60000 [==============================] - 6s 96us/sample - loss: 0.1598 - acc: 0.9379 - val_loss: 0.4647 - val_acc: 0.8882\n",
            "Epoch 33/100\n",
            "60000/60000 [==============================] - 6s 96us/sample - loss: 0.1565 - acc: 0.9389 - val_loss: 0.4148 - val_acc: 0.8873\n",
            "Epoch 34/100\n",
            "60000/60000 [==============================] - 6s 97us/sample - loss: 0.1591 - acc: 0.9382 - val_loss: 0.4340 - val_acc: 0.8876\n",
            "Epoch 35/100\n",
            "60000/60000 [==============================] - 6s 98us/sample - loss: 0.1543 - acc: 0.9401 - val_loss: 0.4808 - val_acc: 0.8877\n",
            "Epoch 36/100\n",
            "60000/60000 [==============================] - 6s 98us/sample - loss: 0.1489 - acc: 0.9411 - val_loss: 0.4473 - val_acc: 0.8899\n",
            "Epoch 37/100\n",
            "60000/60000 [==============================] - 6s 97us/sample - loss: 0.1485 - acc: 0.9425 - val_loss: 0.4692 - val_acc: 0.8915\n",
            "Epoch 38/100\n",
            "60000/60000 [==============================] - 6s 97us/sample - loss: 0.1489 - acc: 0.9421 - val_loss: 0.4811 - val_acc: 0.8899\n",
            "Epoch 39/100\n",
            "60000/60000 [==============================] - 6s 98us/sample - loss: 0.1465 - acc: 0.9429 - val_loss: 0.4492 - val_acc: 0.8938\n",
            "Epoch 40/100\n",
            "60000/60000 [==============================] - 6s 98us/sample - loss: 0.1448 - acc: 0.9433 - val_loss: 0.4998 - val_acc: 0.8887\n",
            "Epoch 41/100\n",
            "60000/60000 [==============================] - 6s 98us/sample - loss: 0.1441 - acc: 0.9442 - val_loss: 0.4862 - val_acc: 0.8875\n",
            "Epoch 42/100\n",
            "60000/60000 [==============================] - 6s 95us/sample - loss: 0.1441 - acc: 0.9438 - val_loss: 0.5105 - val_acc: 0.8879\n",
            "Epoch 43/100\n",
            "60000/60000 [==============================] - 6s 94us/sample - loss: 0.1426 - acc: 0.9455 - val_loss: 0.5149 - val_acc: 0.8860\n",
            "Epoch 44/100\n",
            "60000/60000 [==============================] - 6s 95us/sample - loss: 0.1399 - acc: 0.9459 - val_loss: 0.4908 - val_acc: 0.8930\n",
            "Epoch 45/100\n",
            "60000/60000 [==============================] - 6s 98us/sample - loss: 0.1348 - acc: 0.9473 - val_loss: 0.5006 - val_acc: 0.8912\n",
            "Epoch 46/100\n",
            "60000/60000 [==============================] - 6s 97us/sample - loss: 0.1365 - acc: 0.9461 - val_loss: 0.5551 - val_acc: 0.8919\n",
            "Epoch 47/100\n",
            "60000/60000 [==============================] - 6s 95us/sample - loss: 0.1328 - acc: 0.9475 - val_loss: 0.5539 - val_acc: 0.8885\n",
            "Epoch 48/100\n",
            "60000/60000 [==============================] - 6s 97us/sample - loss: 0.1317 - acc: 0.9472 - val_loss: 0.5948 - val_acc: 0.8879\n",
            "Epoch 49/100\n",
            "60000/60000 [==============================] - 6s 98us/sample - loss: 0.1320 - acc: 0.9479 - val_loss: 0.4886 - val_acc: 0.8926\n",
            "Epoch 50/100\n",
            "60000/60000 [==============================] - 6s 98us/sample - loss: 0.1276 - acc: 0.9489 - val_loss: 0.5962 - val_acc: 0.8876\n",
            "Epoch 51/100\n",
            "60000/60000 [==============================] - 6s 98us/sample - loss: 0.1272 - acc: 0.9507 - val_loss: 0.5920 - val_acc: 0.8929\n",
            "Epoch 52/100\n",
            "60000/60000 [==============================] - 6s 94us/sample - loss: 0.1285 - acc: 0.9499 - val_loss: 0.5634 - val_acc: 0.8892\n",
            "Epoch 53/100\n",
            "60000/60000 [==============================] - 6s 95us/sample - loss: 0.1244 - acc: 0.9511 - val_loss: 0.6524 - val_acc: 0.8910\n",
            "Epoch 54/100\n",
            "60000/60000 [==============================] - 6s 94us/sample - loss: 0.1258 - acc: 0.9502 - val_loss: 0.5813 - val_acc: 0.8928\n",
            "Epoch 55/100\n",
            "60000/60000 [==============================] - 6s 96us/sample - loss: 0.1174 - acc: 0.9530 - val_loss: 0.6231 - val_acc: 0.8895\n",
            "Epoch 56/100\n",
            "60000/60000 [==============================] - 6s 101us/sample - loss: 0.1213 - acc: 0.9521 - val_loss: 0.6309 - val_acc: 0.8927\n",
            "Epoch 57/100\n",
            "60000/60000 [==============================] - 6s 100us/sample - loss: 0.1217 - acc: 0.9525 - val_loss: 0.5989 - val_acc: 0.8888\n",
            "Epoch 58/100\n",
            "60000/60000 [==============================] - 6s 99us/sample - loss: 0.1210 - acc: 0.9536 - val_loss: 0.6338 - val_acc: 0.8900\n",
            "Epoch 59/100\n",
            "60000/60000 [==============================] - 6s 96us/sample - loss: 0.1176 - acc: 0.9549 - val_loss: 0.6153 - val_acc: 0.8944\n",
            "Epoch 60/100\n",
            "60000/60000 [==============================] - 6s 97us/sample - loss: 0.1199 - acc: 0.9536 - val_loss: 0.6613 - val_acc: 0.8912\n",
            "Epoch 61/100\n",
            "60000/60000 [==============================] - 6s 97us/sample - loss: 0.1158 - acc: 0.9542 - val_loss: 0.5942 - val_acc: 0.8857\n",
            "Epoch 62/100\n",
            "60000/60000 [==============================] - 6s 96us/sample - loss: 0.1149 - acc: 0.9550 - val_loss: 0.6025 - val_acc: 0.8910\n",
            "Epoch 63/100\n",
            "60000/60000 [==============================] - 6s 95us/sample - loss: 0.1130 - acc: 0.9554 - val_loss: 0.6500 - val_acc: 0.8908\n",
            "Epoch 64/100\n",
            "60000/60000 [==============================] - 6s 95us/sample - loss: 0.1095 - acc: 0.9574 - val_loss: 0.6454 - val_acc: 0.8890\n",
            "Epoch 65/100\n",
            "60000/60000 [==============================] - 6s 95us/sample - loss: 0.1126 - acc: 0.9559 - val_loss: 0.6831 - val_acc: 0.8872\n",
            "Epoch 66/100\n",
            "60000/60000 [==============================] - 6s 101us/sample - loss: 0.1079 - acc: 0.9571 - val_loss: 0.6501 - val_acc: 0.8912\n",
            "Epoch 67/100\n",
            "60000/60000 [==============================] - 6s 100us/sample - loss: 0.1083 - acc: 0.9573 - val_loss: 0.6441 - val_acc: 0.8893\n",
            "Epoch 68/100\n",
            "60000/60000 [==============================] - 6s 97us/sample - loss: 0.1091 - acc: 0.9578 - val_loss: 0.6958 - val_acc: 0.8910\n",
            "Epoch 69/100\n",
            "60000/60000 [==============================] - 6s 95us/sample - loss: 0.1079 - acc: 0.9572 - val_loss: 0.7199 - val_acc: 0.8924\n",
            "Epoch 70/100\n",
            "60000/60000 [==============================] - 6s 97us/sample - loss: 0.1068 - acc: 0.9575 - val_loss: 0.6542 - val_acc: 0.8943\n",
            "Epoch 71/100\n",
            "60000/60000 [==============================] - 6s 96us/sample - loss: 0.1060 - acc: 0.9590 - val_loss: 0.6101 - val_acc: 0.8963\n",
            "Epoch 72/100\n",
            "60000/60000 [==============================] - 6s 97us/sample - loss: 0.1057 - acc: 0.9593 - val_loss: 0.7503 - val_acc: 0.8870\n",
            "Epoch 73/100\n",
            "60000/60000 [==============================] - 6s 95us/sample - loss: 0.1026 - acc: 0.9596 - val_loss: 0.7608 - val_acc: 0.8894\n",
            "Epoch 74/100\n",
            "60000/60000 [==============================] - 6s 95us/sample - loss: 0.1010 - acc: 0.9593 - val_loss: 0.6977 - val_acc: 0.8959\n",
            "Epoch 75/100\n",
            "60000/60000 [==============================] - 6s 94us/sample - loss: 0.1032 - acc: 0.9586 - val_loss: 0.6800 - val_acc: 0.8957\n",
            "Epoch 76/100\n",
            "60000/60000 [==============================] - 6s 97us/sample - loss: 0.1028 - acc: 0.9596 - val_loss: 0.6599 - val_acc: 0.8934\n",
            "Epoch 77/100\n",
            "60000/60000 [==============================] - 6s 100us/sample - loss: 0.1032 - acc: 0.9596 - val_loss: 0.7331 - val_acc: 0.8911\n",
            "Epoch 78/100\n",
            "60000/60000 [==============================] - 6s 97us/sample - loss: 0.1005 - acc: 0.9605 - val_loss: 0.8261 - val_acc: 0.8879\n",
            "Epoch 79/100\n",
            "60000/60000 [==============================] - 6s 97us/sample - loss: 0.0991 - acc: 0.9614 - val_loss: 0.7384 - val_acc: 0.8938\n",
            "Epoch 80/100\n",
            "60000/60000 [==============================] - 6s 97us/sample - loss: 0.1002 - acc: 0.9615 - val_loss: 0.8466 - val_acc: 0.8893\n",
            "Epoch 81/100\n",
            "60000/60000 [==============================] - 6s 97us/sample - loss: 0.0995 - acc: 0.9607 - val_loss: 0.7775 - val_acc: 0.8903\n",
            "Epoch 82/100\n",
            "60000/60000 [==============================] - 6s 97us/sample - loss: 0.0972 - acc: 0.9619 - val_loss: 0.7683 - val_acc: 0.8901\n",
            "Epoch 83/100\n",
            "60000/60000 [==============================] - 6s 94us/sample - loss: 0.0983 - acc: 0.9616 - val_loss: 0.7712 - val_acc: 0.8912\n",
            "Epoch 84/100\n",
            "60000/60000 [==============================] - 6s 94us/sample - loss: 0.0952 - acc: 0.9632 - val_loss: 0.8492 - val_acc: 0.8860\n",
            "Epoch 85/100\n",
            "60000/60000 [==============================] - 6s 94us/sample - loss: 0.0946 - acc: 0.9628 - val_loss: 0.7896 - val_acc: 0.8915\n",
            "Epoch 86/100\n",
            "60000/60000 [==============================] - 6s 96us/sample - loss: 0.0946 - acc: 0.9628 - val_loss: 0.7772 - val_acc: 0.8925\n",
            "Epoch 87/100\n",
            "60000/60000 [==============================] - 6s 96us/sample - loss: 0.0912 - acc: 0.9643 - val_loss: 0.8035 - val_acc: 0.8891\n",
            "Epoch 88/100\n",
            "60000/60000 [==============================] - 6s 97us/sample - loss: 0.0926 - acc: 0.9631 - val_loss: 0.7736 - val_acc: 0.8916\n",
            "Epoch 89/100\n",
            "60000/60000 [==============================] - 6s 97us/sample - loss: 0.0944 - acc: 0.9634 - val_loss: 0.7823 - val_acc: 0.8938\n",
            "Epoch 90/100\n",
            "60000/60000 [==============================] - 6s 97us/sample - loss: 0.0907 - acc: 0.9653 - val_loss: 0.8279 - val_acc: 0.8904\n",
            "Epoch 91/100\n",
            "60000/60000 [==============================] - 6s 97us/sample - loss: 0.0958 - acc: 0.9630 - val_loss: 0.8846 - val_acc: 0.8886\n",
            "Epoch 92/100\n",
            "60000/60000 [==============================] - 6s 96us/sample - loss: 0.0909 - acc: 0.9647 - val_loss: 0.9540 - val_acc: 0.8868\n",
            "Epoch 93/100\n",
            "60000/60000 [==============================] - 6s 96us/sample - loss: 0.0903 - acc: 0.9652 - val_loss: 0.8625 - val_acc: 0.8880\n",
            "Epoch 94/100\n",
            "60000/60000 [==============================] - 6s 95us/sample - loss: 0.0912 - acc: 0.9650 - val_loss: 0.7881 - val_acc: 0.8947\n",
            "Epoch 95/100\n",
            "60000/60000 [==============================] - 6s 94us/sample - loss: 0.0839 - acc: 0.9670 - val_loss: 0.8437 - val_acc: 0.8932\n",
            "Epoch 96/100\n",
            "60000/60000 [==============================] - 6s 94us/sample - loss: 0.0889 - acc: 0.9659 - val_loss: 0.8812 - val_acc: 0.8933\n",
            "Epoch 97/100\n",
            "60000/60000 [==============================] - 6s 97us/sample - loss: 0.0863 - acc: 0.9668 - val_loss: 0.8692 - val_acc: 0.8944\n",
            "Epoch 98/100\n",
            "60000/60000 [==============================] - 6s 97us/sample - loss: 0.0881 - acc: 0.9650 - val_loss: 0.8275 - val_acc: 0.8924\n",
            "Epoch 99/100\n",
            "60000/60000 [==============================] - 6s 97us/sample - loss: 0.0900 - acc: 0.9655 - val_loss: 0.8698 - val_acc: 0.8897\n",
            "Epoch 100/100\n",
            "60000/60000 [==============================] - 6s 96us/sample - loss: 0.0872 - acc: 0.9665 - val_loss: 0.8672 - val_acc: 0.8953\n"
          ],
          "name": "stdout"
        },
        {
          "output_type": "execute_result",
          "data": {
            "text/plain": [
              "<tensorflow.python.keras.callbacks.History at 0x7fc26459f710>"
            ]
          },
          "metadata": {
            "tags": []
          },
          "execution_count": 6
        }
      ]
    },
    {
      "cell_type": "code",
      "metadata": {
        "id": "LdZ3VLeOvxLA",
        "colab_type": "code",
        "colab": {}
      },
      "source": [
        "#After 100 Epochs, we can see that validation accuracy is 89.53%.\n",
        "#But, training accuracy of 96.65% is lot higher than validation accuracy which suggests that this model has overfitted the training data which often is the problem with Deep Neural Networks which is alo evident from the fact that validation loss is almost 10 times the training loss.\n",
        "#So, to improve this model, we would have to use some regularizing techniques like Dropout layer, Batch normalization or L1 & L2 Regularization techniques.\n",
        "#Another way is to try increasing the Training dataset size. But, many a times, this isn't very feasible.\n",
        "#So, we can use Data Augmentation techniques to artificially increase Training dataset size which would avoid model to overfit the training data."
      ],
      "execution_count": 0,
      "outputs": []
    }
  ]
}