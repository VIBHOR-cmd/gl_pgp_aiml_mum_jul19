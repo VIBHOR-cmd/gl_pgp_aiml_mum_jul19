{
 "cells": [
  {
   "cell_type": "markdown",
   "metadata": {
    "colab_type": "text",
    "id": "zUZjPnVXGz0Z"
   },
   "source": [
    "# The Iris Dataset\n",
    "The data set consists of 50 samples from each of three species of Iris (Iris setosa, Iris virginica and Iris versicolor). Four features were measured from each sample: the length and the width of the sepals and petals, in centimeters.\n",
    "\n",
    "The dataset contains a set of 150 records under five attributes - petal length, petal width, sepal length, sepal width and species."
   ]
  },
  {
   "cell_type": "markdown",
   "metadata": {
    "colab_type": "text",
    "id": "RMbmpriavLE9"
   },
   "source": [
    "### Specifying the TensorFlow version\n",
    "Running `import tensorflow` will import the default version (currently 1.x). You can use 2.x by running a cell with the `tensorflow_version` magic **before** you run `import tensorflow`."
   ]
  },
  {
   "cell_type": "code",
   "execution_count": 1,
   "metadata": {
    "colab": {
     "base_uri": "https://localhost:8080/",
     "height": 34
    },
    "colab_type": "code",
    "executionInfo": {
     "elapsed": 1973,
     "status": "ok",
     "timestamp": 1577016281114,
     "user": {
      "displayName": "Sanket Savla",
      "photoUrl": "https://lh3.googleusercontent.com/a-/AAuE7mBo4KZzvHgFzjhv477O3k6KTbjl0HWaFvCSDprozg=s64",
      "userId": "10471269459138076930"
     },
     "user_tz": -330
    },
    "id": "fu8bUU__oa7h",
    "outputId": "c643fa19-1444-493b-c326-6427fdf1294e"
   },
   "outputs": [
    {
     "name": "stdout",
     "output_type": "stream",
     "text": [
      "TensorFlow 2.x selected.\n"
     ]
    }
   ],
   "source": [
    "%tensorflow_version 2.x"
   ]
  },
  {
   "cell_type": "markdown",
   "metadata": {
    "colab_type": "text",
    "id": "bLz1Ckvfvn6D"
   },
   "source": [
    "### Import TensorFlow\n",
    "Once you have specified a version via this magic, you can run `import tensorflow` as normal and verify which version was imported as follows:"
   ]
  },
  {
   "cell_type": "code",
   "execution_count": 2,
   "metadata": {
    "colab": {
     "base_uri": "https://localhost:8080/",
     "height": 34
    },
    "colab_type": "code",
    "executionInfo": {
     "elapsed": 4238,
     "status": "ok",
     "timestamp": 1577016283404,
     "user": {
      "displayName": "Sanket Savla",
      "photoUrl": "https://lh3.googleusercontent.com/a-/AAuE7mBo4KZzvHgFzjhv477O3k6KTbjl0HWaFvCSDprozg=s64",
      "userId": "10471269459138076930"
     },
     "user_tz": -330
    },
    "id": "CWrzVTLOvn6M",
    "outputId": "ee223a11-2bd7-49dc-e1bb-1171e73a4715"
   },
   "outputs": [
    {
     "name": "stdout",
     "output_type": "stream",
     "text": [
      "2.1.0-rc1\n"
     ]
    }
   ],
   "source": [
    "import tensorflow as tf\n",
    "print(tf.__version__)"
   ]
  },
  {
   "cell_type": "markdown",
   "metadata": {
    "colab_type": "text",
    "id": "_uYeJgkNuXNC"
   },
   "source": [
    "### Set random seed"
   ]
  },
  {
   "cell_type": "code",
   "execution_count": 0,
   "metadata": {
    "colab": {},
    "colab_type": "code",
    "id": "lcASNsewsfQX"
   },
   "outputs": [],
   "source": [
    "tf.random.set_seed(42)"
   ]
  },
  {
   "cell_type": "markdown",
   "metadata": {
    "colab_type": "text",
    "id": "5-vVQBBqg7DI"
   },
   "source": [
    "## Question 1"
   ]
  },
  {
   "cell_type": "markdown",
   "metadata": {
    "colab_type": "text",
    "id": "kE0EDKvQhEIe"
   },
   "source": [
    "### Import dataset\n",
    "- Import iris dataset\n",
    "- Import the dataset using sklearn library"
   ]
  },
  {
   "cell_type": "code",
   "execution_count": 0,
   "metadata": {
    "colab": {},
    "colab_type": "code",
    "id": "1rVUMCOWx746"
   },
   "outputs": [],
   "source": [
    "import pandas as pd\n",
    "from sklearn.datasets import load_iris"
   ]
  },
  {
   "cell_type": "code",
   "execution_count": 0,
   "metadata": {
    "colab": {},
    "colab_type": "code",
    "id": "0GrVcCb4AeNn"
   },
   "outputs": [],
   "source": [
    "iris_df = load_iris()"
   ]
  },
  {
   "cell_type": "markdown",
   "metadata": {
    "colab_type": "text",
    "id": "ta8YqInTh5v5"
   },
   "source": [
    "## Question 2"
   ]
  },
  {
   "cell_type": "markdown",
   "metadata": {
    "colab_type": "text",
    "id": "HERt3drbhX0i"
   },
   "source": [
    "### Get features and label from the dataset in separate variable\n",
    "- you can get the features using .data method\n",
    "- you can get the features using .target method"
   ]
  },
  {
   "cell_type": "code",
   "execution_count": 0,
   "metadata": {
    "colab": {},
    "colab_type": "code",
    "id": "0cV-_qHAHyvE"
   },
   "outputs": [],
   "source": [
    "X = iris_df.data\n",
    "y = iris_df.target"
   ]
  },
  {
   "cell_type": "markdown",
   "metadata": {
    "colab_type": "text",
    "id": "Qg1A2lkUjFak"
   },
   "source": [
    "## Question 3"
   ]
  },
  {
   "cell_type": "markdown",
   "metadata": {
    "colab_type": "text",
    "id": "3YErwYLCH0N_"
   },
   "source": [
    "### Create train and test data\n",
    "- use train_test_split to get train and test set\n",
    "- set a random_state\n",
    "- test_size: 0.25"
   ]
  },
  {
   "cell_type": "code",
   "execution_count": 0,
   "metadata": {
    "colab": {},
    "colab_type": "code",
    "id": "TYKNJL85h7pQ"
   },
   "outputs": [],
   "source": [
    "from sklearn.model_selection import train_test_split\n",
    "import numpy as np"
   ]
  },
  {
   "cell_type": "code",
   "execution_count": 0,
   "metadata": {
    "colab": {},
    "colab_type": "code",
    "id": "GzVdoLE30Lkn"
   },
   "outputs": [],
   "source": [
    "X = np.array(X).astype('float32')\n",
    "X_train, X_test, y_train, y_test = train_test_split(X, y, test_size=0.25, random_state=42)"
   ]
  },
  {
   "cell_type": "markdown",
   "metadata": {
    "colab_type": "text",
    "id": "g0KVP17Ozaix"
   },
   "source": [
    "## Question 4"
   ]
  },
  {
   "cell_type": "markdown",
   "metadata": {
    "colab_type": "text",
    "id": "SIjqxbhWv1zv"
   },
   "source": [
    "### One-hot encode the labels\n",
    "- convert class vectors (integers) to binary class matrix\n",
    "- convert labels\n",
    "- number of classes: 3\n",
    "- we are doing this to use categorical_crossentropy as loss"
   ]
  },
  {
   "cell_type": "code",
   "execution_count": 0,
   "metadata": {
    "colab": {},
    "colab_type": "code",
    "id": "R9vv-_gpyLY9"
   },
   "outputs": [],
   "source": [
    "y_train = tf.keras.utils.to_categorical(y_train, 3, dtype=np.bool)"
   ]
  },
  {
   "cell_type": "markdown",
   "metadata": {
    "colab_type": "text",
    "id": "ovjLyYzWkO9s"
   },
   "source": [
    "## Question 5"
   ]
  },
  {
   "cell_type": "markdown",
   "metadata": {
    "colab_type": "text",
    "id": "hbIFzoPNSyYo"
   },
   "source": [
    "### Initialize a sequential model\n",
    "- Define a sequential model"
   ]
  },
  {
   "cell_type": "code",
   "execution_count": 0,
   "metadata": {
    "colab": {},
    "colab_type": "code",
    "id": "rp2NoBgW5KQW"
   },
   "outputs": [],
   "source": [
    "model = tf.keras.models.Sequential()"
   ]
  },
  {
   "cell_type": "markdown",
   "metadata": {
    "colab_type": "text",
    "id": "dGMy999vlacX"
   },
   "source": [
    "## Question 6"
   ]
  },
  {
   "cell_type": "markdown",
   "metadata": {
    "colab_type": "text",
    "id": "72ibK5Jxm8iL"
   },
   "source": [
    "### Add a layer\n",
    "- Use Dense Layer  with input shape of 4 (according to the feature set) and number of outputs set to 3\n",
    "- Apply Softmax on Dense Layer outputs"
   ]
  },
  {
   "cell_type": "code",
   "execution_count": 0,
   "metadata": {
    "colab": {},
    "colab_type": "code",
    "id": "uZKrBNSRm_o9"
   },
   "outputs": [],
   "source": [
    "model.add(tf.keras.layers.Dense(3, input_dim=4, activation='softmax'))"
   ]
  },
  {
   "cell_type": "markdown",
   "metadata": {
    "colab_type": "text",
    "id": "i4uiTH8plmNX"
   },
   "source": [
    "## Question 7"
   ]
  },
  {
   "cell_type": "markdown",
   "metadata": {
    "colab_type": "text",
    "id": "yJL8n8vcSyYz"
   },
   "source": [
    "### Compile the model\n",
    "- Use SGD as Optimizer\n",
    "- Use categorical_crossentropy as loss function\n",
    "- Use accuracy as metrics"
   ]
  },
  {
   "cell_type": "code",
   "execution_count": 0,
   "metadata": {
    "colab": {},
    "colab_type": "code",
    "id": "Tc_-fjIEk1ve"
   },
   "outputs": [],
   "source": [
    "model.compile(loss='categorical_crossentropy', optimizer='sgd', metrics=['accuracy'])"
   ]
  },
  {
   "cell_type": "markdown",
   "metadata": {
    "colab_type": "text",
    "id": "sihIGbRll_jT"
   },
   "source": [
    "## Question 8"
   ]
  },
  {
   "cell_type": "markdown",
   "metadata": {
    "colab_type": "text",
    "id": "54ZZCfNGlu0i"
   },
   "source": [
    "### Summarize the model\n",
    "- Check model layers\n",
    "- Understand number of trainable parameters"
   ]
  },
  {
   "cell_type": "code",
   "execution_count": 13,
   "metadata": {
    "colab": {
     "base_uri": "https://localhost:8080/",
     "height": 187
    },
    "colab_type": "code",
    "executionInfo": {
     "elapsed": 4615,
     "status": "ok",
     "timestamp": 1577016284214,
     "user": {
      "displayName": "Sanket Savla",
      "photoUrl": "https://lh3.googleusercontent.com/a-/AAuE7mBo4KZzvHgFzjhv477O3k6KTbjl0HWaFvCSDprozg=s64",
      "userId": "10471269459138076930"
     },
     "user_tz": -330
    },
    "id": "elER3F_4ln8n",
    "outputId": "09f60e9e-bf4c-44b5-e186-0971dcc79757"
   },
   "outputs": [
    {
     "name": "stdout",
     "output_type": "stream",
     "text": [
      "Model: \"sequential\"\n",
      "_________________________________________________________________\n",
      "Layer (type)                 Output Shape              Param #   \n",
      "=================================================================\n",
      "dense (Dense)                (None, 3)                 15        \n",
      "=================================================================\n",
      "Total params: 15\n",
      "Trainable params: 15\n",
      "Non-trainable params: 0\n",
      "_________________________________________________________________\n"
     ]
    }
   ],
   "source": [
    "model.summary()"
   ]
  },
  {
   "cell_type": "markdown",
   "metadata": {
    "colab_type": "text",
    "id": "2PiP7j3Vmj4p"
   },
   "source": [
    "## Question 9"
   ]
  },
  {
   "cell_type": "markdown",
   "metadata": {
    "colab_type": "text",
    "id": "rWdbfFCXmCHt"
   },
   "source": [
    "### Fit the model\n",
    "- Give train data as training features and labels\n",
    "- Epochs: 100\n",
    "- Give validation data as testing features and labels"
   ]
  },
  {
   "cell_type": "code",
   "execution_count": 14,
   "metadata": {
    "colab": {
     "base_uri": "https://localhost:8080/",
     "height": 1000
    },
    "colab_type": "code",
    "executionInfo": {
     "elapsed": 6614,
     "status": "ok",
     "timestamp": 1577016286286,
     "user": {
      "displayName": "Sanket Savla",
      "photoUrl": "https://lh3.googleusercontent.com/a-/AAuE7mBo4KZzvHgFzjhv477O3k6KTbjl0HWaFvCSDprozg=s64",
      "userId": "10471269459138076930"
     },
     "user_tz": -330
    },
    "id": "cO1c-5tjmBVZ",
    "outputId": "e5c2db92-d94e-4982-c858-169ad70f6a9c"
   },
   "outputs": [
    {
     "name": "stdout",
     "output_type": "stream",
     "text": [
      "Train on 112 samples\n",
      "Epoch 1/100\n",
      "112/112 [==============================] - 0s 4ms/sample - loss: 2.7185 - accuracy: 0.3125\n",
      "Epoch 2/100\n",
      "112/112 [==============================] - 0s 149us/sample - loss: 1.6472 - accuracy: 0.3125\n",
      "Epoch 3/100\n",
      "112/112 [==============================] - 0s 123us/sample - loss: 1.3243 - accuracy: 0.1339\n",
      "Epoch 4/100\n",
      "112/112 [==============================] - 0s 129us/sample - loss: 1.2200 - accuracy: 0.2679\n",
      "Epoch 5/100\n",
      "112/112 [==============================] - 0s 113us/sample - loss: 1.1777 - accuracy: 0.2857\n",
      "Epoch 6/100\n",
      "112/112 [==============================] - 0s 115us/sample - loss: 1.1372 - accuracy: 0.2411\n",
      "Epoch 7/100\n",
      "112/112 [==============================] - 0s 105us/sample - loss: 1.1061 - accuracy: 0.2500\n",
      "Epoch 8/100\n",
      "112/112 [==============================] - 0s 129us/sample - loss: 1.0769 - accuracy: 0.2768\n",
      "Epoch 9/100\n",
      "112/112 [==============================] - 0s 123us/sample - loss: 1.0607 - accuracy: 0.2411\n",
      "Epoch 10/100\n",
      "112/112 [==============================] - 0s 106us/sample - loss: 1.0251 - accuracy: 0.2589\n",
      "Epoch 11/100\n",
      "112/112 [==============================] - 0s 118us/sample - loss: 0.9987 - accuracy: 0.2679\n",
      "Epoch 12/100\n",
      "112/112 [==============================] - 0s 137us/sample - loss: 0.9864 - accuracy: 0.3393\n",
      "Epoch 13/100\n",
      "112/112 [==============================] - 0s 122us/sample - loss: 0.9538 - accuracy: 0.3304\n",
      "Epoch 14/100\n",
      "112/112 [==============================] - 0s 119us/sample - loss: 0.9322 - accuracy: 0.3393\n",
      "Epoch 15/100\n",
      "112/112 [==============================] - 0s 131us/sample - loss: 0.9109 - accuracy: 0.5089\n",
      "Epoch 16/100\n",
      "112/112 [==============================] - 0s 117us/sample - loss: 0.8916 - accuracy: 0.5625\n",
      "Epoch 17/100\n",
      "112/112 [==============================] - 0s 131us/sample - loss: 0.8805 - accuracy: 0.5446\n",
      "Epoch 18/100\n",
      "112/112 [==============================] - 0s 109us/sample - loss: 0.8616 - accuracy: 0.5714\n",
      "Epoch 19/100\n",
      "112/112 [==============================] - 0s 118us/sample - loss: 0.8434 - accuracy: 0.6339\n",
      "Epoch 20/100\n",
      "112/112 [==============================] - 0s 122us/sample - loss: 0.8356 - accuracy: 0.6250\n",
      "Epoch 21/100\n",
      "112/112 [==============================] - 0s 130us/sample - loss: 0.8176 - accuracy: 0.6339\n",
      "Epoch 22/100\n",
      "112/112 [==============================] - 0s 122us/sample - loss: 0.8044 - accuracy: 0.6875\n",
      "Epoch 23/100\n",
      "112/112 [==============================] - 0s 106us/sample - loss: 0.7974 - accuracy: 0.6071\n",
      "Epoch 24/100\n",
      "112/112 [==============================] - 0s 111us/sample - loss: 0.7785 - accuracy: 0.6518\n",
      "Epoch 25/100\n",
      "112/112 [==============================] - 0s 159us/sample - loss: 0.7671 - accuracy: 0.6518\n",
      "Epoch 26/100\n",
      "112/112 [==============================] - 0s 122us/sample - loss: 0.7561 - accuracy: 0.6429\n",
      "Epoch 27/100\n",
      "112/112 [==============================] - 0s 138us/sample - loss: 0.7461 - accuracy: 0.6696\n",
      "Epoch 28/100\n",
      "112/112 [==============================] - 0s 125us/sample - loss: 0.7353 - accuracy: 0.6964\n",
      "Epoch 29/100\n",
      "112/112 [==============================] - 0s 125us/sample - loss: 0.7256 - accuracy: 0.7054\n",
      "Epoch 30/100\n",
      "112/112 [==============================] - 0s 124us/sample - loss: 0.7182 - accuracy: 0.6964\n",
      "Epoch 31/100\n",
      "112/112 [==============================] - 0s 119us/sample - loss: 0.7084 - accuracy: 0.7143\n",
      "Epoch 32/100\n",
      "112/112 [==============================] - 0s 150us/sample - loss: 0.7023 - accuracy: 0.7143\n",
      "Epoch 33/100\n",
      "112/112 [==============================] - 0s 128us/sample - loss: 0.6960 - accuracy: 0.7054\n",
      "Epoch 34/100\n",
      "112/112 [==============================] - 0s 128us/sample - loss: 0.6919 - accuracy: 0.7232\n",
      "Epoch 35/100\n",
      "112/112 [==============================] - 0s 130us/sample - loss: 0.6824 - accuracy: 0.6875\n",
      "Epoch 36/100\n",
      "112/112 [==============================] - 0s 137us/sample - loss: 0.6734 - accuracy: 0.7589\n",
      "Epoch 37/100\n",
      "112/112 [==============================] - 0s 139us/sample - loss: 0.6671 - accuracy: 0.7143\n",
      "Epoch 38/100\n",
      "112/112 [==============================] - 0s 135us/sample - loss: 0.6678 - accuracy: 0.6786\n",
      "Epoch 39/100\n",
      "112/112 [==============================] - 0s 124us/sample - loss: 0.6547 - accuracy: 0.6964\n",
      "Epoch 40/100\n",
      "112/112 [==============================] - 0s 121us/sample - loss: 0.6526 - accuracy: 0.7232\n",
      "Epoch 41/100\n",
      "112/112 [==============================] - 0s 118us/sample - loss: 0.6463 - accuracy: 0.7411\n",
      "Epoch 42/100\n",
      "112/112 [==============================] - 0s 115us/sample - loss: 0.6380 - accuracy: 0.7768\n",
      "Epoch 43/100\n",
      "112/112 [==============================] - 0s 118us/sample - loss: 0.6347 - accuracy: 0.7589\n",
      "Epoch 44/100\n",
      "112/112 [==============================] - 0s 118us/sample - loss: 0.6286 - accuracy: 0.7143\n",
      "Epoch 45/100\n",
      "112/112 [==============================] - 0s 118us/sample - loss: 0.6266 - accuracy: 0.7321\n",
      "Epoch 46/100\n",
      "112/112 [==============================] - 0s 127us/sample - loss: 0.6189 - accuracy: 0.6964\n",
      "Epoch 47/100\n",
      "112/112 [==============================] - 0s 100us/sample - loss: 0.6140 - accuracy: 0.7411\n",
      "Epoch 48/100\n",
      "112/112 [==============================] - 0s 122us/sample - loss: 0.6088 - accuracy: 0.7679\n",
      "Epoch 49/100\n",
      "112/112 [==============================] - 0s 160us/sample - loss: 0.6172 - accuracy: 0.7143\n",
      "Epoch 50/100\n",
      "112/112 [==============================] - 0s 137us/sample - loss: 0.6046 - accuracy: 0.7768\n",
      "Epoch 51/100\n",
      "112/112 [==============================] - 0s 123us/sample - loss: 0.5984 - accuracy: 0.7232\n",
      "Epoch 52/100\n",
      "112/112 [==============================] - 0s 123us/sample - loss: 0.5929 - accuracy: 0.7054\n",
      "Epoch 53/100\n",
      "112/112 [==============================] - 0s 121us/sample - loss: 0.5905 - accuracy: 0.7500\n",
      "Epoch 54/100\n",
      "112/112 [==============================] - 0s 104us/sample - loss: 0.5860 - accuracy: 0.7946\n",
      "Epoch 55/100\n",
      "112/112 [==============================] - 0s 138us/sample - loss: 0.5834 - accuracy: 0.7679\n",
      "Epoch 56/100\n",
      "112/112 [==============================] - 0s 127us/sample - loss: 0.5774 - accuracy: 0.7946\n",
      "Epoch 57/100\n",
      "112/112 [==============================] - 0s 111us/sample - loss: 0.5743 - accuracy: 0.7589\n",
      "Epoch 58/100\n",
      "112/112 [==============================] - 0s 108us/sample - loss: 0.5700 - accuracy: 0.8125\n",
      "Epoch 59/100\n",
      "112/112 [==============================] - 0s 132us/sample - loss: 0.5668 - accuracy: 0.8036\n",
      "Epoch 60/100\n",
      "112/112 [==============================] - 0s 222us/sample - loss: 0.5685 - accuracy: 0.8125\n",
      "Epoch 61/100\n",
      "112/112 [==============================] - 0s 157us/sample - loss: 0.5613 - accuracy: 0.8125\n",
      "Epoch 62/100\n",
      "112/112 [==============================] - 0s 137us/sample - loss: 0.5612 - accuracy: 0.7946\n",
      "Epoch 63/100\n",
      "112/112 [==============================] - 0s 165us/sample - loss: 0.5597 - accuracy: 0.7321\n",
      "Epoch 64/100\n",
      "112/112 [==============================] - 0s 133us/sample - loss: 0.5591 - accuracy: 0.8036\n",
      "Epoch 65/100\n",
      "112/112 [==============================] - 0s 143us/sample - loss: 0.5502 - accuracy: 0.7768\n",
      "Epoch 66/100\n",
      "112/112 [==============================] - 0s 136us/sample - loss: 0.5520 - accuracy: 0.7946\n",
      "Epoch 67/100\n",
      "112/112 [==============================] - 0s 145us/sample - loss: 0.5469 - accuracy: 0.7321\n",
      "Epoch 68/100\n",
      "112/112 [==============================] - 0s 123us/sample - loss: 0.5415 - accuracy: 0.8214\n",
      "Epoch 69/100\n",
      "112/112 [==============================] - 0s 121us/sample - loss: 0.5406 - accuracy: 0.8036\n",
      "Epoch 70/100\n",
      "112/112 [==============================] - 0s 137us/sample - loss: 0.5368 - accuracy: 0.7768\n",
      "Epoch 71/100\n",
      "112/112 [==============================] - 0s 137us/sample - loss: 0.5364 - accuracy: 0.8214\n",
      "Epoch 72/100\n",
      "112/112 [==============================] - 0s 119us/sample - loss: 0.5349 - accuracy: 0.8036\n",
      "Epoch 73/100\n",
      "112/112 [==============================] - 0s 157us/sample - loss: 0.5329 - accuracy: 0.7857\n",
      "Epoch 74/100\n",
      "112/112 [==============================] - 0s 118us/sample - loss: 0.5309 - accuracy: 0.8125\n",
      "Epoch 75/100\n",
      "112/112 [==============================] - 0s 117us/sample - loss: 0.5248 - accuracy: 0.7768\n",
      "Epoch 76/100\n",
      "112/112 [==============================] - 0s 163us/sample - loss: 0.5237 - accuracy: 0.8482\n",
      "Epoch 77/100\n",
      "112/112 [==============================] - 0s 137us/sample - loss: 0.5230 - accuracy: 0.8036\n",
      "Epoch 78/100\n",
      "112/112 [==============================] - 0s 140us/sample - loss: 0.5193 - accuracy: 0.8125\n",
      "Epoch 79/100\n",
      "112/112 [==============================] - 0s 150us/sample - loss: 0.5188 - accuracy: 0.7679\n",
      "Epoch 80/100\n",
      "112/112 [==============================] - 0s 135us/sample - loss: 0.5254 - accuracy: 0.7946\n",
      "Epoch 81/100\n",
      "112/112 [==============================] - 0s 154us/sample - loss: 0.5196 - accuracy: 0.8304\n",
      "Epoch 82/100\n",
      "112/112 [==============================] - 0s 132us/sample - loss: 0.5111 - accuracy: 0.8393\n",
      "Epoch 83/100\n",
      "112/112 [==============================] - 0s 153us/sample - loss: 0.5120 - accuracy: 0.7857\n",
      "Epoch 84/100\n",
      "112/112 [==============================] - 0s 127us/sample - loss: 0.5113 - accuracy: 0.8125\n",
      "Epoch 85/100\n",
      "112/112 [==============================] - 0s 127us/sample - loss: 0.5064 - accuracy: 0.8304\n",
      "Epoch 86/100\n",
      "112/112 [==============================] - 0s 136us/sample - loss: 0.5036 - accuracy: 0.7946\n",
      "Epoch 87/100\n",
      "112/112 [==============================] - 0s 132us/sample - loss: 0.5021 - accuracy: 0.8304\n",
      "Epoch 88/100\n",
      "112/112 [==============================] - 0s 132us/sample - loss: 0.5021 - accuracy: 0.8571\n",
      "Epoch 89/100\n",
      "112/112 [==============================] - 0s 145us/sample - loss: 0.4976 - accuracy: 0.8393\n",
      "Epoch 90/100\n",
      "112/112 [==============================] - 0s 137us/sample - loss: 0.4962 - accuracy: 0.8304\n",
      "Epoch 91/100\n",
      "112/112 [==============================] - 0s 156us/sample - loss: 0.5003 - accuracy: 0.8393\n",
      "Epoch 92/100\n",
      "112/112 [==============================] - 0s 147us/sample - loss: 0.4948 - accuracy: 0.8393\n",
      "Epoch 93/100\n",
      "112/112 [==============================] - 0s 142us/sample - loss: 0.4964 - accuracy: 0.8393\n",
      "Epoch 94/100\n",
      "112/112 [==============================] - 0s 142us/sample - loss: 0.4936 - accuracy: 0.7857\n",
      "Epoch 95/100\n",
      "112/112 [==============================] - 0s 115us/sample - loss: 0.4949 - accuracy: 0.8125\n",
      "Epoch 96/100\n",
      "112/112 [==============================] - 0s 131us/sample - loss: 0.4930 - accuracy: 0.8304\n",
      "Epoch 97/100\n",
      "112/112 [==============================] - 0s 145us/sample - loss: 0.4896 - accuracy: 0.8304\n",
      "Epoch 98/100\n",
      "112/112 [==============================] - 0s 118us/sample - loss: 0.4895 - accuracy: 0.7946\n",
      "Epoch 99/100\n",
      "112/112 [==============================] - 0s 120us/sample - loss: 0.4892 - accuracy: 0.8304\n",
      "Epoch 100/100\n",
      "112/112 [==============================] - 0s 129us/sample - loss: 0.4810 - accuracy: 0.8304\n"
     ]
    },
    {
     "data": {
      "text/plain": [
       "<tensorflow.python.keras.callbacks.History at 0x7f89102884a8>"
      ]
     },
     "execution_count": 14,
     "metadata": {
      "tags": []
     },
     "output_type": "execute_result"
    }
   ],
   "source": [
    "model.fit(X_train, y_train, epochs=100)"
   ]
  },
  {
   "cell_type": "markdown",
   "metadata": {
    "colab_type": "text",
    "id": "re9ItAR3yS3J"
   },
   "source": [
    "## Question 10"
   ]
  },
  {
   "cell_type": "markdown",
   "metadata": {
    "colab_type": "text",
    "id": "liw0IFf9yVqH"
   },
   "source": [
    "### Make predictions\n",
    "- Predict labels on one row"
   ]
  },
  {
   "cell_type": "code",
   "execution_count": 15,
   "metadata": {
    "colab": {
     "base_uri": "https://localhost:8080/",
     "height": 663
    },
    "colab_type": "code",
    "executionInfo": {
     "elapsed": 6492,
     "status": "ok",
     "timestamp": 1577016286288,
     "user": {
      "displayName": "Sanket Savla",
      "photoUrl": "https://lh3.googleusercontent.com/a-/AAuE7mBo4KZzvHgFzjhv477O3k6KTbjl0HWaFvCSDprozg=s64",
      "userId": "10471269459138076930"
     },
     "user_tz": -330
    },
    "id": "H5sBybi6mlLl",
    "outputId": "95b18d02-89f8-49b7-98d1-dc317dcddf5a"
   },
   "outputs": [
    {
     "name": "stdout",
     "output_type": "stream",
     "text": [
      "[[0.06274511 0.58554804 0.35170686]\n",
      " [0.87817246 0.08279598 0.03903156]\n",
      " [0.00306759 0.5244887  0.47244367]\n",
      " [0.05939376 0.4607407  0.47986558]\n",
      " [0.05696499 0.6127164  0.33031863]\n",
      " [0.8435308  0.10373404 0.05273528]\n",
      " [0.14886339 0.4175473  0.4335893 ]\n",
      " [0.01994389 0.31332925 0.6667269 ]\n",
      " [0.03768009 0.5974092  0.36491072]\n",
      " [0.11546741 0.51960397 0.36492857]\n",
      " [0.02665482 0.34210947 0.6312357 ]\n",
      " [0.82616276 0.1272968  0.04654052]\n",
      " [0.8979124  0.073383   0.02870464]\n",
      " [0.8268019  0.12685211 0.04634605]\n",
      " [0.8833502  0.07013658 0.04651317]\n",
      " [0.06351539 0.410829   0.52565557]\n",
      " [0.00890047 0.3231171  0.6679824 ]\n",
      " [0.10376109 0.5591062  0.33713272]\n",
      " [0.0620003  0.50111634 0.43688342]\n",
      " [0.00920571 0.33472756 0.6560667 ]\n",
      " [0.8043538  0.13085471 0.06479157]\n",
      " [0.03139925 0.37897578 0.58962494]\n",
      " [0.81358397 0.11447278 0.07194319]\n",
      " [0.01049991 0.3660926  0.62340754]\n",
      " [0.01841823 0.4602377  0.521344  ]\n",
      " [0.0155447  0.3057858  0.6786695 ]\n",
      " [0.01090955 0.5557217  0.4333688 ]\n",
      " [0.00906034 0.30353057 0.68740904]\n",
      " [0.80080664 0.13419516 0.06499817]\n",
      " [0.7946708  0.14246838 0.06286071]\n",
      " [0.91209114 0.05191103 0.03599782]\n",
      " [0.9292331  0.03951291 0.03125404]\n",
      " [0.1020831  0.5277908  0.3701261 ]\n",
      " [0.83290803 0.10926683 0.05782511]\n",
      " [0.83869064 0.10112792 0.06018152]\n",
      " [0.01937188 0.45028988 0.5303382 ]\n",
      " [0.08290514 0.45767775 0.4594171 ]\n",
      " [0.86932534 0.08982162 0.04085302]]\n"
     ]
    }
   ],
   "source": [
    "y_pred=model.predict(X_test)\n",
    "print(y_pred)"
   ]
  },
  {
   "cell_type": "markdown",
   "metadata": {
    "colab_type": "text",
    "id": "hSUgMq3m0bG7"
   },
   "source": [
    "### Compare the prediction with actual label\n",
    "- Print the same row as done in the previous step but of actual labels"
   ]
  },
  {
   "cell_type": "code",
   "execution_count": 16,
   "metadata": {
    "colab": {
     "base_uri": "https://localhost:8080/",
     "height": 34
    },
    "colab_type": "code",
    "executionInfo": {
     "elapsed": 6229,
     "status": "ok",
     "timestamp": 1577016286291,
     "user": {
      "displayName": "Sanket Savla",
      "photoUrl": "https://lh3.googleusercontent.com/a-/AAuE7mBo4KZzvHgFzjhv477O3k6KTbjl0HWaFvCSDprozg=s64",
      "userId": "10471269459138076930"
     },
     "user_tz": -330
    },
    "id": "K5WbwVPyz-qQ",
    "outputId": "bb1960a8-3ec6-4a13-b50b-b31ba984f055"
   },
   "outputs": [
    {
     "name": "stdout",
     "output_type": "stream",
     "text": [
      "[1, 0, 1, 2, 1, 0, 2, 2, 1, 1, 2, 0, 0, 0, 0, 2, 2, 1, 1, 2, 0, 2, 0, 2, 2, 2, 1, 2, 0, 0, 0, 0, 1, 0, 0, 2, 2, 0]\n"
     ]
    }
   ],
   "source": [
    "out = []\n",
    "for val in y_pred:\n",
    "    out.append(np.argmax(val))\n",
    "print(out)"
   ]
  },
  {
   "cell_type": "code",
   "execution_count": 0,
   "metadata": {
    "colab": {},
    "colab_type": "code",
    "id": "GS9qOKdQ8xce"
   },
   "outputs": [],
   "source": [
    "from sklearn.metrics import confusion_matrix"
   ]
  },
  {
   "cell_type": "code",
   "execution_count": 18,
   "metadata": {
    "colab": {
     "base_uri": "https://localhost:8080/",
     "height": 68
    },
    "colab_type": "code",
    "executionInfo": {
     "elapsed": 6189,
     "status": "ok",
     "timestamp": 1577016286294,
     "user": {
      "displayName": "Sanket Savla",
      "photoUrl": "https://lh3.googleusercontent.com/a-/AAuE7mBo4KZzvHgFzjhv477O3k6KTbjl0HWaFvCSDprozg=s64",
      "userId": "10471269459138076930"
     },
     "user_tz": -330
    },
    "id": "_Bq_fa69IqzO",
    "outputId": "d08c84f2-4e20-4e13-e95b-446d58037dee"
   },
   "outputs": [
    {
     "data": {
      "text/plain": [
       "array([[15,  0,  0],\n",
       "       [ 0,  7,  4],\n",
       "       [ 0,  2, 10]])"
      ]
     },
     "execution_count": 18,
     "metadata": {
      "tags": []
     },
     "output_type": "execute_result"
    }
   ],
   "source": [
    "confusion_matrix(y_test, out)"
   ]
  },
  {
   "cell_type": "code",
   "execution_count": 19,
   "metadata": {
    "colab": {
     "base_uri": "https://localhost:8080/",
     "height": 34
    },
    "colab_type": "code",
    "executionInfo": {
     "elapsed": 6176,
     "status": "ok",
     "timestamp": 1577016286296,
     "user": {
      "displayName": "Sanket Savla",
      "photoUrl": "https://lh3.googleusercontent.com/a-/AAuE7mBo4KZzvHgFzjhv477O3k6KTbjl0HWaFvCSDprozg=s64",
      "userId": "10471269459138076930"
     },
     "user_tz": -330
    },
    "id": "5LR9KeLpJElY",
    "outputId": "e6ae55f3-8a6e-4c06-f6b4-10ebaa752175"
   },
   "outputs": [
    {
     "data": {
      "text/plain": [
       "0.8421052631578947"
      ]
     },
     "execution_count": 19,
     "metadata": {
      "tags": []
     },
     "output_type": "execute_result"
    }
   ],
   "source": [
    "from sklearn.metrics import accuracy_score\n",
    "accuracy_score(y_test, out)"
   ]
  },
  {
   "cell_type": "markdown",
   "metadata": {
    "colab_type": "text",
    "id": "FrTKwbgE7NFT"
   },
   "source": [
    "\n",
    "\n",
    "---\n",
    "\n"
   ]
  },
  {
   "cell_type": "markdown",
   "metadata": {
    "colab_type": "text",
    "id": "a1UBYPNp5Tn1"
   },
   "source": [
    "# Stock prices dataset\n",
    "The data is of tock exchange's stock listings for each trading day of 2010 to 2016.\n",
    "\n",
    "## Description\n",
    "A brief description of columns.\n",
    "- open: The opening market price of the equity symbol on the date\n",
    "- high: The highest market price of the equity symbol on the date\n",
    "- low: The lowest recorded market price of the equity symbol on the date\n",
    "- close: The closing recorded price of the equity symbol on the date\n",
    "- symbol: Symbol of the listed company\n",
    "- volume: Total traded volume of the equity symbol on the date\n",
    "- date: Date of record"
   ]
  },
  {
   "cell_type": "markdown",
   "metadata": {
    "colab_type": "text",
    "id": "ctH_ZW5g-M3g"
   },
   "source": [
    "### Specifying the TensorFlow version\n",
    "Running `import tensorflow` will import the default version (currently 1.x). You can use 2.x by running a cell with the `tensorflow_version` magic **before** you run `import tensorflow`."
   ]
  },
  {
   "cell_type": "code",
   "execution_count": 0,
   "metadata": {
    "colab": {},
    "colab_type": "code",
    "id": "vQbdODpH-M3r"
   },
   "outputs": [],
   "source": [
    "%tensorflow_version 2.x"
   ]
  },
  {
   "cell_type": "markdown",
   "metadata": {
    "colab_type": "text",
    "id": "nFQWH1tj-M38"
   },
   "source": [
    "### Import TensorFlow\n",
    "Once you have specified a version via this magic, you can run `import tensorflow` as normal and verify which version was imported as follows:"
   ]
  },
  {
   "cell_type": "code",
   "execution_count": 21,
   "metadata": {
    "colab": {
     "base_uri": "https://localhost:8080/",
     "height": 34
    },
    "colab_type": "code",
    "executionInfo": {
     "elapsed": 6132,
     "status": "ok",
     "timestamp": 1577016286298,
     "user": {
      "displayName": "Sanket Savla",
      "photoUrl": "https://lh3.googleusercontent.com/a-/AAuE7mBo4KZzvHgFzjhv477O3k6KTbjl0HWaFvCSDprozg=s64",
      "userId": "10471269459138076930"
     },
     "user_tz": -330
    },
    "id": "Ho5n-xhd-M3_",
    "outputId": "179f3121-7b90-4ef6-cb1c-47c595e88107"
   },
   "outputs": [
    {
     "name": "stdout",
     "output_type": "stream",
     "text": [
      "2.1.0-rc1\n"
     ]
    }
   ],
   "source": [
    "import tensorflow as tf\n",
    "print(tf.__version__)"
   ]
  },
  {
   "cell_type": "markdown",
   "metadata": {
    "colab_type": "text",
    "id": "tgkl0qu6-M4F"
   },
   "source": [
    "### Set random seed"
   ]
  },
  {
   "cell_type": "code",
   "execution_count": 0,
   "metadata": {
    "colab": {},
    "colab_type": "code",
    "id": "TKgTyuA3-M4G"
   },
   "outputs": [],
   "source": [
    "tf.random.set_seed(42)"
   ]
  },
  {
   "cell_type": "markdown",
   "metadata": {
    "colab_type": "text",
    "id": "_88voqAH-O6J"
   },
   "source": [
    "## Question 1"
   ]
  },
  {
   "cell_type": "markdown",
   "metadata": {
    "colab_type": "text",
    "id": "dRHCeJqP-evf"
   },
   "source": [
    "### Load the data\n",
    "- load the csv file and read it using pandas\n",
    "- file name is prices.csv"
   ]
  },
  {
   "cell_type": "code",
   "execution_count": 0,
   "metadata": {
    "colab": {},
    "colab_type": "code",
    "id": "cKVH5v7r-RmC"
   },
   "outputs": [],
   "source": [
    "# run this cell to upload file if you are using google colab\n",
    "from google.colab import files\n",
    "#files.upload()"
   ]
  },
  {
   "cell_type": "code",
   "execution_count": 24,
   "metadata": {
    "colab": {
     "base_uri": "https://localhost:8080/",
     "height": 34
    },
    "colab_type": "code",
    "executionInfo": {
     "elapsed": 6053,
     "status": "ok",
     "timestamp": 1577016286301,
     "user": {
      "displayName": "Sanket Savla",
      "photoUrl": "https://lh3.googleusercontent.com/a-/AAuE7mBo4KZzvHgFzjhv477O3k6KTbjl0HWaFvCSDprozg=s64",
      "userId": "10471269459138076930"
     },
     "user_tz": -330
    },
    "id": "-gDC6cSW_FSK",
    "outputId": "fee076be-70c7-40bf-e517-91e58bb01262"
   },
   "outputs": [
    {
     "name": "stdout",
     "output_type": "stream",
     "text": [
      "Drive already mounted at /content/drive; to attempt to forcibly remount, call drive.mount(\"/content/drive\", force_remount=True).\n"
     ]
    }
   ],
   "source": [
    "from google.colab import drive\n",
    "drive.mount('/content/drive')"
   ]
  },
  {
   "cell_type": "code",
   "execution_count": 0,
   "metadata": {
    "colab": {},
    "colab_type": "code",
    "id": "5DQJvAMtPkoN"
   },
   "outputs": [],
   "source": [
    "prices_df = pd.read_csv('/content/drive/My Drive/Colab Notebooks/prices.csv')"
   ]
  },
  {
   "cell_type": "code",
   "execution_count": 26,
   "metadata": {
    "colab": {
     "base_uri": "https://localhost:8080/",
     "height": 204
    },
    "colab_type": "code",
    "executionInfo": {
     "elapsed": 6749,
     "status": "ok",
     "timestamp": 1577016287033,
     "user": {
      "displayName": "Sanket Savla",
      "photoUrl": "https://lh3.googleusercontent.com/a-/AAuE7mBo4KZzvHgFzjhv477O3k6KTbjl0HWaFvCSDprozg=s64",
      "userId": "10471269459138076930"
     },
     "user_tz": -330
    },
    "id": "ll8eEMS7Qfrm",
    "outputId": "6fc231c7-890d-4fff-b05e-1909e21479b1"
   },
   "outputs": [
    {
     "data": {
      "text/html": [
       "<div>\n",
       "<style scoped>\n",
       "    .dataframe tbody tr th:only-of-type {\n",
       "        vertical-align: middle;\n",
       "    }\n",
       "\n",
       "    .dataframe tbody tr th {\n",
       "        vertical-align: top;\n",
       "    }\n",
       "\n",
       "    .dataframe thead th {\n",
       "        text-align: right;\n",
       "    }\n",
       "</style>\n",
       "<table border=\"1\" class=\"dataframe\">\n",
       "  <thead>\n",
       "    <tr style=\"text-align: right;\">\n",
       "      <th></th>\n",
       "      <th>date</th>\n",
       "      <th>symbol</th>\n",
       "      <th>open</th>\n",
       "      <th>close</th>\n",
       "      <th>low</th>\n",
       "      <th>high</th>\n",
       "      <th>volume</th>\n",
       "    </tr>\n",
       "  </thead>\n",
       "  <tbody>\n",
       "    <tr>\n",
       "      <th>0</th>\n",
       "      <td>2016-01-05 00:00:00</td>\n",
       "      <td>WLTW</td>\n",
       "      <td>123.430000</td>\n",
       "      <td>125.839996</td>\n",
       "      <td>122.309998</td>\n",
       "      <td>126.250000</td>\n",
       "      <td>2163600.0</td>\n",
       "    </tr>\n",
       "    <tr>\n",
       "      <th>1</th>\n",
       "      <td>2016-01-06 00:00:00</td>\n",
       "      <td>WLTW</td>\n",
       "      <td>125.239998</td>\n",
       "      <td>119.980003</td>\n",
       "      <td>119.940002</td>\n",
       "      <td>125.540001</td>\n",
       "      <td>2386400.0</td>\n",
       "    </tr>\n",
       "    <tr>\n",
       "      <th>2</th>\n",
       "      <td>2016-01-07 00:00:00</td>\n",
       "      <td>WLTW</td>\n",
       "      <td>116.379997</td>\n",
       "      <td>114.949997</td>\n",
       "      <td>114.930000</td>\n",
       "      <td>119.739998</td>\n",
       "      <td>2489500.0</td>\n",
       "    </tr>\n",
       "    <tr>\n",
       "      <th>3</th>\n",
       "      <td>2016-01-08 00:00:00</td>\n",
       "      <td>WLTW</td>\n",
       "      <td>115.480003</td>\n",
       "      <td>116.620003</td>\n",
       "      <td>113.500000</td>\n",
       "      <td>117.440002</td>\n",
       "      <td>2006300.0</td>\n",
       "    </tr>\n",
       "    <tr>\n",
       "      <th>4</th>\n",
       "      <td>2016-01-11 00:00:00</td>\n",
       "      <td>WLTW</td>\n",
       "      <td>117.010002</td>\n",
       "      <td>114.970001</td>\n",
       "      <td>114.089996</td>\n",
       "      <td>117.330002</td>\n",
       "      <td>1408600.0</td>\n",
       "    </tr>\n",
       "  </tbody>\n",
       "</table>\n",
       "</div>"
      ],
      "text/plain": [
       "                  date symbol        open  ...         low        high     volume\n",
       "0  2016-01-05 00:00:00   WLTW  123.430000  ...  122.309998  126.250000  2163600.0\n",
       "1  2016-01-06 00:00:00   WLTW  125.239998  ...  119.940002  125.540001  2386400.0\n",
       "2  2016-01-07 00:00:00   WLTW  116.379997  ...  114.930000  119.739998  2489500.0\n",
       "3  2016-01-08 00:00:00   WLTW  115.480003  ...  113.500000  117.440002  2006300.0\n",
       "4  2016-01-11 00:00:00   WLTW  117.010002  ...  114.089996  117.330002  1408600.0\n",
       "\n",
       "[5 rows x 7 columns]"
      ]
     },
     "execution_count": 26,
     "metadata": {
      "tags": []
     },
     "output_type": "execute_result"
    }
   ],
   "source": [
    "prices_df.head()"
   ]
  },
  {
   "cell_type": "markdown",
   "metadata": {
    "colab_type": "text",
    "id": "HlLKVPVH_BCT"
   },
   "source": [
    "## Question 2"
   ]
  },
  {
   "cell_type": "markdown",
   "metadata": {
    "colab_type": "text",
    "id": "9J4BlzVA_gZd"
   },
   "source": [
    "### Drop columnns\n",
    "- drop \"date\" and \"symbol\" column from the data"
   ]
  },
  {
   "cell_type": "code",
   "execution_count": 27,
   "metadata": {
    "colab": {
     "base_uri": "https://localhost:8080/",
     "height": 204
    },
    "colab_type": "code",
    "executionInfo": {
     "elapsed": 6719,
     "status": "ok",
     "timestamp": 1577016287034,
     "user": {
      "displayName": "Sanket Savla",
      "photoUrl": "https://lh3.googleusercontent.com/a-/AAuE7mBo4KZzvHgFzjhv477O3k6KTbjl0HWaFvCSDprozg=s64",
      "userId": "10471269459138076930"
     },
     "user_tz": -330
    },
    "id": "IKEK8aEE_Csx",
    "outputId": "043ddb47-76be-40a9-b946-6e7b7d383f2b"
   },
   "outputs": [
    {
     "data": {
      "text/html": [
       "<div>\n",
       "<style scoped>\n",
       "    .dataframe tbody tr th:only-of-type {\n",
       "        vertical-align: middle;\n",
       "    }\n",
       "\n",
       "    .dataframe tbody tr th {\n",
       "        vertical-align: top;\n",
       "    }\n",
       "\n",
       "    .dataframe thead th {\n",
       "        text-align: right;\n",
       "    }\n",
       "</style>\n",
       "<table border=\"1\" class=\"dataframe\">\n",
       "  <thead>\n",
       "    <tr style=\"text-align: right;\">\n",
       "      <th></th>\n",
       "      <th>open</th>\n",
       "      <th>close</th>\n",
       "      <th>low</th>\n",
       "      <th>high</th>\n",
       "      <th>volume</th>\n",
       "    </tr>\n",
       "  </thead>\n",
       "  <tbody>\n",
       "    <tr>\n",
       "      <th>0</th>\n",
       "      <td>123.430000</td>\n",
       "      <td>125.839996</td>\n",
       "      <td>122.309998</td>\n",
       "      <td>126.250000</td>\n",
       "      <td>2163600.0</td>\n",
       "    </tr>\n",
       "    <tr>\n",
       "      <th>1</th>\n",
       "      <td>125.239998</td>\n",
       "      <td>119.980003</td>\n",
       "      <td>119.940002</td>\n",
       "      <td>125.540001</td>\n",
       "      <td>2386400.0</td>\n",
       "    </tr>\n",
       "    <tr>\n",
       "      <th>2</th>\n",
       "      <td>116.379997</td>\n",
       "      <td>114.949997</td>\n",
       "      <td>114.930000</td>\n",
       "      <td>119.739998</td>\n",
       "      <td>2489500.0</td>\n",
       "    </tr>\n",
       "    <tr>\n",
       "      <th>3</th>\n",
       "      <td>115.480003</td>\n",
       "      <td>116.620003</td>\n",
       "      <td>113.500000</td>\n",
       "      <td>117.440002</td>\n",
       "      <td>2006300.0</td>\n",
       "    </tr>\n",
       "    <tr>\n",
       "      <th>4</th>\n",
       "      <td>117.010002</td>\n",
       "      <td>114.970001</td>\n",
       "      <td>114.089996</td>\n",
       "      <td>117.330002</td>\n",
       "      <td>1408600.0</td>\n",
       "    </tr>\n",
       "  </tbody>\n",
       "</table>\n",
       "</div>"
      ],
      "text/plain": [
       "         open       close         low        high     volume\n",
       "0  123.430000  125.839996  122.309998  126.250000  2163600.0\n",
       "1  125.239998  119.980003  119.940002  125.540001  2386400.0\n",
       "2  116.379997  114.949997  114.930000  119.739998  2489500.0\n",
       "3  115.480003  116.620003  113.500000  117.440002  2006300.0\n",
       "4  117.010002  114.970001  114.089996  117.330002  1408600.0"
      ]
     },
     "execution_count": 27,
     "metadata": {
      "tags": []
     },
     "output_type": "execute_result"
    }
   ],
   "source": [
    "prices_df.drop(['date','symbol'], axis=1, inplace=True)\n",
    "prices_df.head()"
   ]
  },
  {
   "cell_type": "markdown",
   "metadata": {
    "colab_type": "text",
    "id": "cTPhO6v-AiZt"
   },
   "source": [
    "## Question 3"
   ]
  },
  {
   "cell_type": "markdown",
   "metadata": {
    "colab_type": "text",
    "id": "SsZXmF3NAkna"
   },
   "source": [
    "### Take initial rows\n",
    "- Take first 1000 rows from the data\n",
    "- This step is done to make the execution faster"
   ]
  },
  {
   "cell_type": "code",
   "execution_count": 28,
   "metadata": {
    "colab": {
     "base_uri": "https://localhost:8080/",
     "height": 34
    },
    "colab_type": "code",
    "executionInfo": {
     "elapsed": 6687,
     "status": "ok",
     "timestamp": 1577016287036,
     "user": {
      "displayName": "Sanket Savla",
      "photoUrl": "https://lh3.googleusercontent.com/a-/AAuE7mBo4KZzvHgFzjhv477O3k6KTbjl0HWaFvCSDprozg=s64",
      "userId": "10471269459138076930"
     },
     "user_tz": -330
    },
    "id": "aKs04iIHAjxN",
    "outputId": "fb70bf32-68f7-4de6-c35b-06ed741c8998"
   },
   "outputs": [
    {
     "data": {
      "text/plain": [
       "(1000, 5)"
      ]
     },
     "execution_count": 28,
     "metadata": {
      "tags": []
     },
     "output_type": "execute_result"
    }
   ],
   "source": [
    "prices_df = prices_df.iloc[:1000,:]\n",
    "prices_df.shape"
   ]
  },
  {
   "cell_type": "markdown",
   "metadata": {
    "colab_type": "text",
    "id": "6vGtnapgBIJm"
   },
   "source": [
    "## Question 4"
   ]
  },
  {
   "cell_type": "markdown",
   "metadata": {
    "colab_type": "text",
    "id": "C8u_jlbABTip"
   },
   "source": [
    "### Get features and label from the dataset in separate variable\n",
    "- Take \"open\", \"close\", \"low\", \"high\" columns as features\n",
    "- Take \"volume\" column as label\n",
    "- Normalize label column by dividing it with 1000000"
   ]
  },
  {
   "cell_type": "code",
   "execution_count": 0,
   "metadata": {
    "colab": {},
    "colab_type": "code",
    "id": "xQjCMzUXBJbg"
   },
   "outputs": [],
   "source": [
    "X = prices_df.iloc[:,:-1]\n",
    "y = prices_df.iloc[:,-1]\n",
    "y /= 1000000"
   ]
  },
  {
   "cell_type": "markdown",
   "metadata": {
    "colab_type": "text",
    "id": "aTAKzlxZBz0z"
   },
   "source": [
    "## Question 5"
   ]
  },
  {
   "cell_type": "markdown",
   "metadata": {
    "colab_type": "text",
    "id": "IfY8Km1Zzyt2"
   },
   "source": [
    "### Convert data\n",
    "- Convert features and labels to numpy array\n",
    "- Convert their data type to \"float32\""
   ]
  },
  {
   "cell_type": "code",
   "execution_count": 0,
   "metadata": {
    "colab": {},
    "colab_type": "code",
    "id": "Ko7nnQVbYENh"
   },
   "outputs": [],
   "source": [
    "X = np.array(X, dtype=np.float32)\n",
    "y = np.array(y, dtype=np.float32)"
   ]
  },
  {
   "cell_type": "markdown",
   "metadata": {
    "colab_type": "text",
    "id": "3TWpN0nVTpUx"
   },
   "source": [
    "## Question 6"
   ]
  },
  {
   "cell_type": "markdown",
   "metadata": {
    "colab_type": "text",
    "id": "WQ1FKEs-4btX"
   },
   "source": [
    "### Normalize data\n",
    "- Normalize features\n",
    "- Use tf.math.l2_normalize to normalize features\n",
    "- You can read more about it here https://www.tensorflow.org/api_docs/python/tf/math/l2_normalize"
   ]
  },
  {
   "cell_type": "code",
   "execution_count": 0,
   "metadata": {
    "colab": {},
    "colab_type": "code",
    "id": "V0Tfe00X78wB"
   },
   "outputs": [],
   "source": [
    "X_normal = tf.math.l2_normalize(X,1)"
   ]
  },
  {
   "cell_type": "markdown",
   "metadata": {
    "colab_type": "text",
    "id": "wmXUGc2oTspa"
   },
   "source": [
    "## Question 7"
   ]
  },
  {
   "cell_type": "markdown",
   "metadata": {
    "colab_type": "text",
    "id": "VJelDMpzxs0L"
   },
   "source": [
    "### Define weight and bias\n",
    "- Initialize weight and bias with tf.zeros\n",
    "- tf.zeros is an initializer that generates tensors initialized to 0\n",
    "- Specify the value for shape"
   ]
  },
  {
   "cell_type": "code",
   "execution_count": 0,
   "metadata": {
    "colab": {},
    "colab_type": "code",
    "id": "8o9RPWVTxs0O"
   },
   "outputs": [],
   "source": [
    "W = tf.Variable( tf.zeros( [4,1] ) )\n",
    "B = tf.Variable( tf.zeros( [1] ) )"
   ]
  },
  {
   "cell_type": "markdown",
   "metadata": {
    "colab_type": "text",
    "id": "8a0wr94aTyjg"
   },
   "source": [
    "## Question 8"
   ]
  },
  {
   "cell_type": "markdown",
   "metadata": {
    "colab_type": "text",
    "id": "zMXXYdOSxs0Q"
   },
   "source": [
    "### Get prediction\n",
    "- Define a function to get prediction\n",
    "- Approach: prediction = (X * W) + b; here is X is features"
   ]
  },
  {
   "cell_type": "code",
   "execution_count": 0,
   "metadata": {
    "colab": {},
    "colab_type": "code",
    "id": "U8Cty1y0xs0S"
   },
   "outputs": [],
   "source": [
    "def prediction(x, w, b):\n",
    "  return tf.matmul( x, w ) + b"
   ]
  },
  {
   "cell_type": "markdown",
   "metadata": {
    "colab_type": "text",
    "id": "lQmS3Tauxs0V"
   },
   "source": [
    "### Calculate loss\n",
    "- Calculate loss using predictions\n",
    "- Define a function to calculate loss\n",
    "- We are calculating mean squared error"
   ]
  },
  {
   "cell_type": "code",
   "execution_count": 0,
   "metadata": {
    "colab": {},
    "colab_type": "code",
    "id": "-FRXmDd5xs0X"
   },
   "outputs": [],
   "source": [
    "def loss(predicted_y, desired_y):\n",
    "  return tf.reduce_mean(tf.square(predicted_y - desired_y))"
   ]
  },
  {
   "cell_type": "markdown",
   "metadata": {
    "colab_type": "text",
    "id": "ZbBpnOtfT0wd"
   },
   "source": [
    "## Question 9"
   ]
  },
  {
   "cell_type": "markdown",
   "metadata": {
    "colab_type": "text",
    "id": "bkOzAUUsTmF_"
   },
   "source": [
    "### Define a function to train the model\n",
    "1.   Record all the mathematical steps to calculate Loss\n",
    "2.   Calculate Gradients of Loss w.r.t weights and bias\n",
    "3.   Update Weights and Bias based on gradients and learning rate to minimize loss"
   ]
  },
  {
   "cell_type": "code",
   "execution_count": 0,
   "metadata": {
    "colab": {},
    "colab_type": "code",
    "id": "2R4uieGYLYtM"
   },
   "outputs": [],
   "source": [
    "def train(X1, y1, epochs):\n",
    "  optimizer = tf.keras.optimizers.SGD(learning_rate = 0.01)\n",
    "  \n",
    "  for i in range(epochs):\n",
    "    with tf.GradientTape() as tape: #tf.GradientTape records all operations in forward pass to apply gradient later\n",
    "      predicted = prediction( X1,W,B )\n",
    "      curr_loss = loss(predicted, y)\n",
    "    grads = tape.gradient( curr_loss, [W,B] )#return derivative of loss function wrt weight and bias\n",
    "    optimizer.apply_gradients(zip(grads, [W,B])) #applys Gradient Descent\n",
    "    print(\"Loss at step {:d}: {:.3f}\".format(i, loss(prediction( X1,W,B ), y1)))"
   ]
  },
  {
   "cell_type": "markdown",
   "metadata": {
    "colab_type": "text",
    "id": "AW4SEP8kT2ls"
   },
   "source": [
    "## Question 10"
   ]
  },
  {
   "cell_type": "markdown",
   "metadata": {
    "colab_type": "text",
    "id": "yeN0deOvT81N"
   },
   "source": [
    "### Train the model for 100 epochs \n",
    "- Observe the training loss at every iteration"
   ]
  },
  {
   "cell_type": "code",
   "execution_count": 36,
   "metadata": {
    "colab": {
     "base_uri": "https://localhost:8080/",
     "height": 1000
    },
    "colab_type": "code",
    "executionInfo": {
     "elapsed": 7415,
     "status": "ok",
     "timestamp": 1577016287902,
     "user": {
      "displayName": "Sanket Savla",
      "photoUrl": "https://lh3.googleusercontent.com/a-/AAuE7mBo4KZzvHgFzjhv477O3k6KTbjl0HWaFvCSDprozg=s64",
      "userId": "10471269459138076930"
     },
     "user_tz": -330
    },
    "id": "Jjkn4gUgLevE",
    "outputId": "c504bc60-cb79-457f-f15c-60a5fee8cbbb"
   },
   "outputs": [
    {
     "name": "stdout",
     "output_type": "stream",
     "text": [
      "Loss at step 0: 235.073\n",
      "Loss at step 1: 233.032\n",
      "Loss at step 2: 231.152\n",
      "Loss at step 3: 229.419\n",
      "Loss at step 4: 227.821\n",
      "Loss at step 5: 226.349\n",
      "Loss at step 6: 224.993\n",
      "Loss at step 7: 223.743\n",
      "Loss at step 8: 222.590\n",
      "Loss at step 9: 221.529\n",
      "Loss at step 10: 220.550\n",
      "Loss at step 11: 219.648\n",
      "Loss at step 12: 218.817\n",
      "Loss at step 13: 218.051\n",
      "Loss at step 14: 217.345\n",
      "Loss at step 15: 216.694\n",
      "Loss at step 16: 216.095\n",
      "Loss at step 17: 215.542\n",
      "Loss at step 18: 215.033\n",
      "Loss at step 19: 214.563\n",
      "Loss at step 20: 214.131\n",
      "Loss at step 21: 213.732\n",
      "Loss at step 22: 213.365\n",
      "Loss at step 23: 213.026\n",
      "Loss at step 24: 212.714\n",
      "Loss at step 25: 212.426\n",
      "Loss at step 26: 212.161\n",
      "Loss at step 27: 211.917\n",
      "Loss at step 28: 211.692\n",
      "Loss at step 29: 211.485\n",
      "Loss at step 30: 211.293\n",
      "Loss at step 31: 211.117\n",
      "Loss at step 32: 210.955\n",
      "Loss at step 33: 210.805\n",
      "Loss at step 34: 210.667\n",
      "Loss at step 35: 210.540\n",
      "Loss at step 36: 210.423\n",
      "Loss at step 37: 210.315\n",
      "Loss at step 38: 210.215\n",
      "Loss at step 39: 210.124\n",
      "Loss at step 40: 210.039\n",
      "Loss at step 41: 209.961\n",
      "Loss at step 42: 209.890\n",
      "Loss at step 43: 209.823\n",
      "Loss at step 44: 209.762\n",
      "Loss at step 45: 209.706\n",
      "Loss at step 46: 209.654\n",
      "Loss at step 47: 209.607\n",
      "Loss at step 48: 209.563\n",
      "Loss at step 49: 209.522\n",
      "Loss at step 50: 209.485\n",
      "Loss at step 51: 209.450\n",
      "Loss at step 52: 209.419\n",
      "Loss at step 53: 209.389\n",
      "Loss at step 54: 209.363\n",
      "Loss at step 55: 209.338\n",
      "Loss at step 56: 209.315\n",
      "Loss at step 57: 209.294\n",
      "Loss at step 58: 209.274\n",
      "Loss at step 59: 209.256\n",
      "Loss at step 60: 209.240\n",
      "Loss at step 61: 209.225\n",
      "Loss at step 62: 209.211\n",
      "Loss at step 63: 209.198\n",
      "Loss at step 64: 209.186\n",
      "Loss at step 65: 209.175\n",
      "Loss at step 66: 209.165\n",
      "Loss at step 67: 209.155\n",
      "Loss at step 68: 209.147\n",
      "Loss at step 69: 209.139\n",
      "Loss at step 70: 209.132\n",
      "Loss at step 71: 209.125\n",
      "Loss at step 72: 209.119\n",
      "Loss at step 73: 209.113\n",
      "Loss at step 74: 209.108\n",
      "Loss at step 75: 209.103\n",
      "Loss at step 76: 209.098\n",
      "Loss at step 77: 209.094\n",
      "Loss at step 78: 209.090\n",
      "Loss at step 79: 209.087\n",
      "Loss at step 80: 209.084\n",
      "Loss at step 81: 209.081\n",
      "Loss at step 82: 209.078\n",
      "Loss at step 83: 209.075\n",
      "Loss at step 84: 209.073\n",
      "Loss at step 85: 209.071\n",
      "Loss at step 86: 209.069\n",
      "Loss at step 87: 209.067\n",
      "Loss at step 88: 209.065\n",
      "Loss at step 89: 209.064\n",
      "Loss at step 90: 209.063\n",
      "Loss at step 91: 209.061\n",
      "Loss at step 92: 209.060\n",
      "Loss at step 93: 209.059\n",
      "Loss at step 94: 209.058\n",
      "Loss at step 95: 209.057\n",
      "Loss at step 96: 209.056\n",
      "Loss at step 97: 209.055\n",
      "Loss at step 98: 209.054\n",
      "Loss at step 99: 209.054\n"
     ]
    }
   ],
   "source": [
    "train(X_normal,y,100)"
   ]
  },
  {
   "cell_type": "markdown",
   "metadata": {
    "colab_type": "text",
    "id": "vanvD93FV0_k"
   },
   "source": [
    "### Observe values of Weight\n",
    "- Print the updated values"
   ]
  },
  {
   "cell_type": "code",
   "execution_count": 37,
   "metadata": {
    "colab": {
     "base_uri": "https://localhost:8080/",
     "height": 102
    },
    "colab_type": "code",
    "executionInfo": {
     "elapsed": 7401,
     "status": "ok",
     "timestamp": 1577016287904,
     "user": {
      "displayName": "Sanket Savla",
      "photoUrl": "https://lh3.googleusercontent.com/a-/AAuE7mBo4KZzvHgFzjhv477O3k6KTbjl0HWaFvCSDprozg=s64",
      "userId": "10471269459138076930"
     },
     "user_tz": -330
    },
    "id": "QSqpy4gtWaOD",
    "outputId": "9c8692cb-ae05-4c88-996e-5ecc700ba049"
   },
   "outputs": [
    {
     "name": "stdout",
     "output_type": "stream",
     "text": [
      "<tf.Variable 'Variable:0' shape=(4, 1) dtype=float32, numpy=\n",
      "array([[1.304366 ],\n",
      "       [1.3088913],\n",
      "       [1.2909067],\n",
      "       [1.3202268]], dtype=float32)>\n"
     ]
    }
   ],
   "source": [
    "print(W)"
   ]
  },
  {
   "cell_type": "markdown",
   "metadata": {
    "colab_type": "text",
    "id": "y9KpRupYUEwy"
   },
   "source": [
    "### Observe values of Bias\n",
    "- Print the updated values"
   ]
  },
  {
   "cell_type": "code",
   "execution_count": 38,
   "metadata": {
    "colab": {
     "base_uri": "https://localhost:8080/",
     "height": 34
    },
    "colab_type": "code",
    "executionInfo": {
     "elapsed": 7382,
     "status": "ok",
     "timestamp": 1577016287906,
     "user": {
      "displayName": "Sanket Savla",
      "photoUrl": "https://lh3.googleusercontent.com/a-/AAuE7mBo4KZzvHgFzjhv477O3k6KTbjl0HWaFvCSDprozg=s64",
      "userId": "10471269459138076930"
     },
     "user_tz": -330
    },
    "id": "bhEWkGqHWohg",
    "outputId": "3aad1617-35ea-4237-c8b2-ad22e1b96f52"
   },
   "outputs": [
    {
     "name": "stdout",
     "output_type": "stream",
     "text": [
      "<tf.Variable 'Variable:0' shape=(1,) dtype=float32, numpy=array([2.612345], dtype=float32)>\n"
     ]
    }
   ],
   "source": [
    "print(B)"
   ]
  }
 ],
 "metadata": {
  "accelerator": "GPU",
  "colab": {
   "collapsed_sections": [],
   "name": "Answers - Internal - R6 - AIML Labs.ipynb",
   "provenance": []
  },
  "kernelspec": {
   "display_name": "Python 3",
   "language": "python",
   "name": "python3"
  },
  "language_info": {
   "codemirror_mode": {
    "name": "ipython",
    "version": 3
   },
   "file_extension": ".py",
   "mimetype": "text/x-python",
   "name": "python",
   "nbconvert_exporter": "python",
   "pygments_lexer": "ipython3",
   "version": "3.7.4"
  }
 },
 "nbformat": 4,
 "nbformat_minor": 1
}
