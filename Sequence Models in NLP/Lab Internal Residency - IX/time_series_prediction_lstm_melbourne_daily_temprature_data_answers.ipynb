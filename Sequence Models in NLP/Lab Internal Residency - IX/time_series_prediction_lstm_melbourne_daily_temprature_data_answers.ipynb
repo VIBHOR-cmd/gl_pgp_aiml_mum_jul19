{
  "nbformat": 4,
  "nbformat_minor": 0,
  "metadata": {
    "colab": {
      "name": "time_series_prediction_lstm_melbourne_daily_temprature_data_answers.ipynb",
      "provenance": []
    },
    "kernelspec": {
      "display_name": "Python 3",
      "language": "python",
      "name": "python3"
    },
    "language_info": {
      "codemirror_mode": {
        "name": "ipython",
        "version": 3
      },
      "file_extension": ".py",
      "mimetype": "text/x-python",
      "name": "python",
      "nbconvert_exporter": "python",
      "pygments_lexer": "ipython3",
      "version": "3.7.1"
    }
  },
  "cells": [
    {
      "cell_type": "markdown",
      "metadata": {
        "id": "qkeIHC0mVtvu",
        "colab_type": "text"
      },
      "source": [
        "## Time Series Prediction using LSTM"
      ]
    },
    {
      "cell_type": "markdown",
      "metadata": {
        "id": "9U9oYtJtVtv2",
        "colab_type": "text"
      },
      "source": [
        "### Download Data\n",
        "Link: https://datamarket.com/data/set/2324/daily-minimum-temperatures-in-melbourne-australia-1981-1990#!ds=2324&display=line\n",
        "\n",
        "#### Description\n",
        "Daily minimum temperatures in Melbourne, Australia, 1981-1990\n",
        "\n",
        "Units: Degrees Celcius\n",
        "\n",
        "#### Steps before loading\n",
        "- Rename the column name with temprature values to \"Temprature\"\n",
        "- In the last, there is one extra row in the data, remove it by opening the file and save it again.\n",
        "- There are some values in Temprature column which have a \"?\" before them, they will give error, remove \"?\" before them and save the file\n",
        "- If you don't want to do these steps, just load the data file given by Great Learning."
      ]
    },
    {
      "cell_type": "markdown",
      "metadata": {
        "id": "zbGlOGZ1Vtv4",
        "colab_type": "text"
      },
      "source": [
        "#### Mount google drive"
      ]
    },
    {
      "cell_type": "code",
      "metadata": {
        "colab_type": "code",
        "id": "VjoLRSg57qlt",
        "outputId": "69fe01ab-558a-4bb4-eebc-032f7bf34374",
        "colab": {
          "base_uri": "https://localhost:8080/",
          "height": 34
        }
      },
      "source": [
        "#Importing drive submodule from colab module in google library\n",
        "from google.colab import drive\n",
        "\n",
        "#Mounting Google Drive\n",
        "drive.mount('/content/drive')"
      ],
      "execution_count": 1,
      "outputs": [
        {
          "output_type": "stream",
          "text": [
            "Drive already mounted at /content/drive; to attempt to forcibly remount, call drive.mount(\"/content/drive\", force_remount=True).\n"
          ],
          "name": "stdout"
        }
      ]
    },
    {
      "cell_type": "markdown",
      "metadata": {
        "id": "ofpzdTwTVtwC",
        "colab_type": "text"
      },
      "source": [
        "#### Change your present working directory"
      ]
    },
    {
      "cell_type": "code",
      "metadata": {
        "id": "LZZR0t7RVtwE",
        "colab_type": "code",
        "colab": {}
      },
      "source": [
        "#Importing os library\n",
        "import os"
      ],
      "execution_count": 0,
      "outputs": []
    },
    {
      "cell_type": "code",
      "metadata": {
        "id": "Msl-Wj65ZPNe",
        "colab_type": "code",
        "colab": {}
      },
      "source": [
        "#Change working directory\n",
        "os.chdir('/content/drive/My Drive')"
      ],
      "execution_count": 0,
      "outputs": []
    },
    {
      "cell_type": "markdown",
      "metadata": {
        "id": "AV8iNfQVVtwL",
        "colab_type": "text"
      },
      "source": [
        "### Load your data file"
      ]
    },
    {
      "cell_type": "code",
      "metadata": {
        "colab_type": "code",
        "id": "AanHqGBu7Jw2",
        "colab": {}
      },
      "source": [
        "#Importing pandas library\n",
        "import pandas as pd\n",
        "\n",
        "#Read CSV\n",
        "df = pd.read_csv('daily-minimum-temperatures-in-me.csv')\n",
        "\n",
        "#Sorting Dataset by index\n",
        "df.sort_index(inplace=True)"
      ],
      "execution_count": 0,
      "outputs": []
    },
    {
      "cell_type": "code",
      "metadata": {
        "id": "IuufkJpUZlA7",
        "colab_type": "code",
        "colab": {
          "base_uri": "https://localhost:8080/",
          "height": 204
        },
        "outputId": "758395ad-e404-40db-fcb9-c2eef1caa7f2"
      },
      "source": [
        "#Checking first 5 records of the Dataset\n",
        "df.head()"
      ],
      "execution_count": 5,
      "outputs": [
        {
          "output_type": "execute_result",
          "data": {
            "text/html": [
              "<div>\n",
              "<style scoped>\n",
              "    .dataframe tbody tr th:only-of-type {\n",
              "        vertical-align: middle;\n",
              "    }\n",
              "\n",
              "    .dataframe tbody tr th {\n",
              "        vertical-align: top;\n",
              "    }\n",
              "\n",
              "    .dataframe thead th {\n",
              "        text-align: right;\n",
              "    }\n",
              "</style>\n",
              "<table border=\"1\" class=\"dataframe\">\n",
              "  <thead>\n",
              "    <tr style=\"text-align: right;\">\n",
              "      <th></th>\n",
              "      <th>Date</th>\n",
              "      <th>Temperature</th>\n",
              "    </tr>\n",
              "  </thead>\n",
              "  <tbody>\n",
              "    <tr>\n",
              "      <th>0</th>\n",
              "      <td>1981-01-01</td>\n",
              "      <td>20.7</td>\n",
              "    </tr>\n",
              "    <tr>\n",
              "      <th>1</th>\n",
              "      <td>1981-01-02</td>\n",
              "      <td>17.9</td>\n",
              "    </tr>\n",
              "    <tr>\n",
              "      <th>2</th>\n",
              "      <td>1981-01-03</td>\n",
              "      <td>18.8</td>\n",
              "    </tr>\n",
              "    <tr>\n",
              "      <th>3</th>\n",
              "      <td>1981-01-04</td>\n",
              "      <td>14.6</td>\n",
              "    </tr>\n",
              "    <tr>\n",
              "      <th>4</th>\n",
              "      <td>1981-01-05</td>\n",
              "      <td>15.8</td>\n",
              "    </tr>\n",
              "  </tbody>\n",
              "</table>\n",
              "</div>"
            ],
            "text/plain": [
              "         Date  Temperature\n",
              "0  1981-01-01         20.7\n",
              "1  1981-01-02         17.9\n",
              "2  1981-01-03         18.8\n",
              "3  1981-01-04         14.6\n",
              "4  1981-01-05         15.8"
            ]
          },
          "metadata": {
            "tags": []
          },
          "execution_count": 5
        }
      ]
    },
    {
      "cell_type": "markdown",
      "metadata": {
        "id": "VQoMfGkvVtwV",
        "colab_type": "text"
      },
      "source": [
        "#### Plot data"
      ]
    },
    {
      "cell_type": "code",
      "metadata": {
        "id": "n6Nqq5QdVtwY",
        "colab_type": "code",
        "colab": {
          "base_uri": "https://localhost:8080/",
          "height": 282
        },
        "outputId": "8c93a874-306b-47ff-c807-835ce58391b2"
      },
      "source": [
        "#Plotting data\n",
        "df.plot()"
      ],
      "execution_count": 6,
      "outputs": [
        {
          "output_type": "execute_result",
          "data": {
            "text/plain": [
              "<matplotlib.axes._subplots.AxesSubplot at 0x7fa1877c3d30>"
            ]
          },
          "metadata": {
            "tags": []
          },
          "execution_count": 6
        },
        {
          "output_type": "display_data",
          "data": {
            "image/png": "[encoded data removed]",
            "text/plain": [
              "<Figure size 432x288 with 1 Axes>"
            ]
          },
          "metadata": {
            "tags": []
          }
        }
      ]
    },
    {
      "cell_type": "markdown",
      "metadata": {
        "id": "5pau7bN7Vtwf",
        "colab_type": "text"
      },
      "source": [
        "#### Descibe your dataframe"
      ]
    },
    {
      "cell_type": "code",
      "metadata": {
        "colab_type": "code",
        "id": "oBWNA_kG7JxC",
        "outputId": "69696334-8d5c-4842-f1de-a2fbcc93ecdb",
        "colab": {
          "base_uri": "https://localhost:8080/",
          "height": 297
        }
      },
      "source": [
        "#Describing the DataFrame\n",
        "df.describe()"
      ],
      "execution_count": 7,
      "outputs": [
        {
          "output_type": "execute_result",
          "data": {
            "text/html": [
              "<div>\n",
              "<style scoped>\n",
              "    .dataframe tbody tr th:only-of-type {\n",
              "        vertical-align: middle;\n",
              "    }\n",
              "\n",
              "    .dataframe tbody tr th {\n",
              "        vertical-align: top;\n",
              "    }\n",
              "\n",
              "    .dataframe thead th {\n",
              "        text-align: right;\n",
              "    }\n",
              "</style>\n",
              "<table border=\"1\" class=\"dataframe\">\n",
              "  <thead>\n",
              "    <tr style=\"text-align: right;\">\n",
              "      <th></th>\n",
              "      <th>Temperature</th>\n",
              "    </tr>\n",
              "  </thead>\n",
              "  <tbody>\n",
              "    <tr>\n",
              "      <th>count</th>\n",
              "      <td>3650.000000</td>\n",
              "    </tr>\n",
              "    <tr>\n",
              "      <th>mean</th>\n",
              "      <td>11.177753</td>\n",
              "    </tr>\n",
              "    <tr>\n",
              "      <th>std</th>\n",
              "      <td>4.071837</td>\n",
              "    </tr>\n",
              "    <tr>\n",
              "      <th>min</th>\n",
              "      <td>0.000000</td>\n",
              "    </tr>\n",
              "    <tr>\n",
              "      <th>25%</th>\n",
              "      <td>8.300000</td>\n",
              "    </tr>\n",
              "    <tr>\n",
              "      <th>50%</th>\n",
              "      <td>11.000000</td>\n",
              "    </tr>\n",
              "    <tr>\n",
              "      <th>75%</th>\n",
              "      <td>14.000000</td>\n",
              "    </tr>\n",
              "    <tr>\n",
              "      <th>max</th>\n",
              "      <td>26.300000</td>\n",
              "    </tr>\n",
              "  </tbody>\n",
              "</table>\n",
              "</div>"
            ],
            "text/plain": [
              "       Temperature\n",
              "count  3650.000000\n",
              "mean     11.177753\n",
              "std       4.071837\n",
              "min       0.000000\n",
              "25%       8.300000\n",
              "50%      11.000000\n",
              "75%      14.000000\n",
              "max      26.300000"
            ]
          },
          "metadata": {
            "tags": []
          },
          "execution_count": 7
        }
      ]
    },
    {
      "cell_type": "markdown",
      "metadata": {
        "id": "OukudMODVtwt",
        "colab_type": "text"
      },
      "source": [
        "#### Check for null values"
      ]
    },
    {
      "cell_type": "code",
      "metadata": {
        "colab_type": "code",
        "id": "97MVIy_N7JxH",
        "outputId": "04d22f73-8b61-4c6b-8242-f2a19d6e478e",
        "colab": {
          "base_uri": "https://localhost:8080/",
          "height": 68
        }
      },
      "source": [
        "#Check for null values\n",
        "df.isnull().sum()"
      ],
      "execution_count": 8,
      "outputs": [
        {
          "output_type": "execute_result",
          "data": {
            "text/plain": [
              "Date           0\n",
              "Temperature    0\n",
              "dtype: int64"
            ]
          },
          "metadata": {
            "tags": []
          },
          "execution_count": 8
        }
      ]
    },
    {
      "cell_type": "markdown",
      "metadata": {
        "id": "gLXAOm5-Vtw4",
        "colab_type": "text"
      },
      "source": [
        "#### Drop null values"
      ]
    },
    {
      "cell_type": "code",
      "metadata": {
        "colab_type": "code",
        "id": "fgh7mdOI7JxS",
        "colab": {}
      },
      "source": [
        "#There are no Null values in the Dataset"
      ],
      "execution_count": 0,
      "outputs": []
    },
    {
      "cell_type": "markdown",
      "metadata": {
        "id": "VXRd9HO9Vtw_",
        "colab_type": "text"
      },
      "source": [
        "#### Get the representation of the distribution of data in the form of histogram"
      ]
    },
    {
      "cell_type": "code",
      "metadata": {
        "colab_type": "code",
        "id": "659sLAx27Jxc",
        "outputId": "49f0bd2c-dfd3-414a-8619-65708379e578",
        "colab": {
          "base_uri": "https://localhost:8080/",
          "height": 315
        }
      },
      "source": [
        "#Plotting Histogram\n",
        "df.hist()"
      ],
      "execution_count": 10,
      "outputs": [
        {
          "output_type": "execute_result",
          "data": {
            "text/plain": [
              "array([[<matplotlib.axes._subplots.AxesSubplot object at 0x7fa1877297f0>]],\n",
              "      dtype=object)"
            ]
          },
          "metadata": {
            "tags": []
          },
          "execution_count": 10
        },
        {
          "output_type": "display_data",
          "data": {
            "image/png": "[encoded data removed]",
            "text/plain": [
              "<Figure size 432x288 with 1 Axes>"
            ]
          },
          "metadata": {
            "tags": []
          }
        }
      ]
    },
    {
      "cell_type": "markdown",
      "metadata": {
        "id": "hbrAj-hPVtxF",
        "colab_type": "text"
      },
      "source": [
        "#### Check the maximum and minimum values"
      ]
    },
    {
      "cell_type": "code",
      "metadata": {
        "colab_type": "code",
        "id": "WmkjCx8c7Jxn",
        "outputId": "8dead366-ac35-4058-a094-ee1b83609961",
        "colab": {
          "base_uri": "https://localhost:8080/",
          "height": 51
        }
      },
      "source": [
        "#Printing maximum and minimum values for Temperature column\n",
        "print(\"Maximum value of Temperature is\",df['Temperature'].max())\n",
        "print(\"Minimum value of Temperature is\",df['Temperature'].min())"
      ],
      "execution_count": 11,
      "outputs": [
        {
          "output_type": "stream",
          "text": [
            "Maximum value of Temperature is 26.3\n",
            "Minimum value of Temperature is 0.0\n"
          ],
          "name": "stdout"
        }
      ]
    },
    {
      "cell_type": "markdown",
      "metadata": {
        "id": "6Pc1jRSMVtxN",
        "colab_type": "text"
      },
      "source": [
        "### Normalize the data"
      ]
    },
    {
      "cell_type": "code",
      "metadata": {
        "colab_type": "code",
        "id": "fb4SNzD27Jxw",
        "colab": {}
      },
      "source": [
        "#Importing MinMaxScaler submodule from preprocessing module in sklearn library\n",
        "from sklearn.preprocessing import MinMaxScaler"
      ],
      "execution_count": 0,
      "outputs": []
    },
    {
      "cell_type": "code",
      "metadata": {
        "id": "eBG_rGqwbmOf",
        "colab_type": "code",
        "colab": {}
      },
      "source": [
        "#Initializing MinMaxScaler\n",
        "scaler = MinMaxScaler()\n",
        "\n",
        "#Dropping Date column\n",
        "df.drop('Date', axis=1, inplace=True)\n",
        "\n",
        "#Normalize the data\n",
        "scaled = scaler.fit_transform(df)"
      ],
      "execution_count": 0,
      "outputs": []
    },
    {
      "cell_type": "markdown",
      "metadata": {
        "id": "hTQYGZ3uVtxS",
        "colab_type": "text"
      },
      "source": [
        "#### Check the maximum and minimum values of scaled data"
      ]
    },
    {
      "cell_type": "code",
      "metadata": {
        "colab_type": "code",
        "id": "clv2rSfL7Jx4",
        "outputId": "b563de8e-a982-4959-976a-064230e7addf",
        "colab": {
          "base_uri": "https://localhost:8080/",
          "height": 51
        }
      },
      "source": [
        "#Printing maximum and minimum values for scaled data\n",
        "print(\"Maximum value of scaled data is\",scaled.max())\n",
        "print(\"Minimum value of scaled data is\",scaled.min())"
      ],
      "execution_count": 14,
      "outputs": [
        {
          "output_type": "stream",
          "text": [
            "Maximum value of scaled data is 1.0\n",
            "Minimum value of scaled data is 0.0\n"
          ],
          "name": "stdout"
        }
      ]
    },
    {
      "cell_type": "markdown",
      "metadata": {
        "id": "1iJsS-w9VtxY",
        "colab_type": "text"
      },
      "source": [
        "#### Look into some of the scaled values"
      ]
    },
    {
      "cell_type": "code",
      "metadata": {
        "colab_type": "code",
        "id": "Xq9CBinO7Jx9",
        "outputId": "0d82acf0-2ed9-4664-cf45-b68e9bed16aa",
        "colab": {
          "base_uri": "https://localhost:8080/",
          "height": 34
        }
      },
      "source": [
        "#Printing few random scaled values\n",
        "print(\"Some of the scaled values are:\", scaled[5][0], \",\", scaled[10][0], \",\", scaled[16][0])"
      ],
      "execution_count": 15,
      "outputs": [
        {
          "output_type": "stream",
          "text": [
            "Some of the scaled values are: 0.6007604562737643 , 0.6159695817490494 , 0.7832699619771863\n"
          ],
          "name": "stdout"
        }
      ]
    },
    {
      "cell_type": "markdown",
      "metadata": {
        "id": "HcgKCTsiVtxg",
        "colab_type": "text"
      },
      "source": [
        "### Split data into Training and Testing"
      ]
    },
    {
      "cell_type": "code",
      "metadata": {
        "colab_type": "code",
        "id": "-0Uh7lCO7JyD",
        "colab": {}
      },
      "source": [
        "#80% examples will used for training (in the begining)\n",
        "train_size = int(len(scaled) * 0.80)\n",
        "\n",
        "#20% will be used for Test\n",
        "test_size = len(scaled - train_size)\n",
        "\n",
        "#Splitting data into Training & Testing\n",
        "train, test = scaled[0:train_size, :], scaled[train_size: len(scaled), :]"
      ],
      "execution_count": 0,
      "outputs": []
    },
    {
      "cell_type": "markdown",
      "metadata": {
        "id": "JzZwyk8-Vtxm",
        "colab_type": "text"
      },
      "source": [
        "#### Print train and test size"
      ]
    },
    {
      "cell_type": "code",
      "metadata": {
        "id": "7GjPgCdeVtxn",
        "colab_type": "code",
        "colab": {
          "base_uri": "https://localhost:8080/",
          "height": 51
        },
        "outputId": "7855375f-b250-4f06-a849-45d4c572f297"
      },
      "source": [
        "#Printing train & test size\n",
        "print('train: {}\\ntest: {}'.format(len(train), len(test)))"
      ],
      "execution_count": 17,
      "outputs": [
        {
          "output_type": "stream",
          "text": [
            "train: 2920\n",
            "test: 730\n"
          ],
          "name": "stdout"
        }
      ]
    },
    {
      "cell_type": "markdown",
      "metadata": {
        "id": "gmGp5uL-Vtxs",
        "colab_type": "text"
      },
      "source": [
        "## Create the sequential data\n",
        "Map the temprature at a particular time t to the temprature at time t+n, where n is any number you define.\n",
        "\n",
        "For example: to map tempratures of consecutive days, use t+1, i.e. loop_back = 1"
      ]
    },
    {
      "cell_type": "markdown",
      "metadata": {
        "id": "DLc6O9jmVtxu",
        "colab_type": "text"
      },
      "source": [
        "#### Define your function to create dataset"
      ]
    },
    {
      "cell_type": "code",
      "metadata": {
        "colab_type": "code",
        "id": "jWIvInPB7JyK",
        "colab": {}
      },
      "source": [
        "#Importing numpy library\n",
        "import numpy as np\n",
        "\n",
        "#Defining create_dataset to get Y column\n",
        "def create_dataset(dataset, loop_back=1):\n",
        "    #Creating empty lists for X & Y\n",
        "    dataX, dataY = [], []\n",
        "    \n",
        "    #Loop for all records in dataset\n",
        "    for i in range(len(dataset)-loop_back):\n",
        "        #Getting values from dataset equal to loop_back times\n",
        "        a = dataset[i:(i+loop_back), 0]\n",
        "        #Appedning to X Data\n",
        "        dataX.append(a)\n",
        "        #Getting value from dataset loop_back count later & appending to Y Dataset\n",
        "        dataY.append(dataset[i + loop_back, 0])\n",
        "        \n",
        "    #Returning Array of X data & Y data\n",
        "    return np.array(dataX), np.array(dataY)"
      ],
      "execution_count": 0,
      "outputs": []
    },
    {
      "cell_type": "markdown",
      "metadata": {
        "id": "eJSuPO_EVtxz",
        "colab_type": "text"
      },
      "source": [
        "#### Use function to get training and test set"
      ]
    },
    {
      "cell_type": "code",
      "metadata": {
        "colab_type": "code",
        "id": "uarOJcPk7JyQ",
        "scrolled": true,
        "colab": {}
      },
      "source": [
        "#Create Input and Output\n",
        "window_size = 1\n",
        "X_train, y_train = create_dataset(train, window_size)\n",
        "X_test, y_test = create_dataset(test, window_size)"
      ],
      "execution_count": 0,
      "outputs": []
    },
    {
      "cell_type": "markdown",
      "metadata": {
        "id": "r85lCYv7VtyE",
        "colab_type": "text"
      },
      "source": [
        "#### Transform the prepared train and test input data into the expected structure using numpy.reshape()"
      ]
    },
    {
      "cell_type": "code",
      "metadata": {
        "colab_type": "code",
        "id": "UJZ4VB4N7JyV",
        "colab": {}
      },
      "source": [
        "#Make it 3 Dimensional Data - needed for LSTM\n",
        "X_train = np.reshape(X_train, (X_train.shape[0], 1, 1))\n",
        "X_test = np.reshape(X_test, (X_test.shape[0], 1, 1))"
      ],
      "execution_count": 0,
      "outputs": []
    },
    {
      "cell_type": "markdown",
      "metadata": {
        "id": "I6RUwA3OVtyO",
        "colab_type": "text"
      },
      "source": [
        "## Define Model"
      ]
    },
    {
      "cell_type": "markdown",
      "metadata": {
        "id": "AtqF43ahVtyP",
        "colab_type": "text"
      },
      "source": [
        "### Define sequntial model, add LSTM layer and compile the model"
      ]
    },
    {
      "cell_type": "code",
      "metadata": {
        "colab_type": "code",
        "id": "yRW-Txvt7Jya",
        "outputId": "25c91486-96d7-4ff1-8d8b-bd35be1a0b70",
        "colab": {
          "base_uri": "https://localhost:8080/",
          "height": 134
        }
      },
      "source": [
        "#Importing tensorflow library\n",
        "import tensorflow as tf\n",
        "\n",
        "#Clearing session\n",
        "tf.keras.backend.clear_session()\n",
        "\n",
        "#Instantiating Sequential model\n",
        "model = tf.keras.Sequential()\n",
        "\n",
        "#Adding LSTM Layer with memory size of 32\n",
        "model.add(tf.keras.layers.LSTM(32, input_shape=(window_size, 1)))\n",
        "\n",
        "#Adding Dense layer with 1 neuron\n",
        "model.add(tf.keras.layers.Dense(1))\n",
        "\n",
        "#Compiling the Model\n",
        "model.compile(optimizer='adam', loss='mse')"
      ],
      "execution_count": 21,
      "outputs": [
        {
          "output_type": "display_data",
          "data": {
            "text/html": [
              "<p style=\"color: red;\">\n",
              "The default version of TensorFlow in Colab will soon switch to TensorFlow 2.x.<br>\n",
              "We recommend you <a href=\"https://www.tensorflow.org/guide/migrate\" target=\"_blank\">upgrade</a> now \n",
              "or ensure your notebook will continue to use TensorFlow 1.x via the <code>%tensorflow_version 1.x</code> magic:\n",
              "<a href=\"https://colab.research.google.com/notebooks/tensorflow_version.ipynb\" target=\"_blank\">more info</a>.</p>\n"
            ],
            "text/plain": [
              "<IPython.core.display.HTML object>"
            ]
          },
          "metadata": {
            "tags": []
          }
        },
        {
          "output_type": "stream",
          "text": [
            "WARNING:tensorflow:From /usr/local/lib/python3.6/dist-packages/tensorflow_core/python/ops/resource_variable_ops.py:1630: calling BaseResourceVariable.__init__ (from tensorflow.python.ops.resource_variable_ops) with constraint is deprecated and will be removed in a future version.\n",
            "Instructions for updating:\n",
            "If using Keras pass *_constraint arguments to layers.\n"
          ],
          "name": "stdout"
        }
      ]
    },
    {
      "cell_type": "markdown",
      "metadata": {
        "id": "3pe_5PRvVtyU",
        "colab_type": "text"
      },
      "source": [
        "### Summarize your model"
      ]
    },
    {
      "cell_type": "code",
      "metadata": {
        "id": "TSN1DCy_VtyW",
        "colab_type": "code",
        "colab": {
          "base_uri": "https://localhost:8080/",
          "height": 221
        },
        "outputId": "900802ac-4ff6-4dbc-eb7a-70f04d6482e5"
      },
      "source": [
        "#Summarize the model\n",
        "model.summary()"
      ],
      "execution_count": 22,
      "outputs": [
        {
          "output_type": "stream",
          "text": [
            "Model: \"sequential\"\n",
            "_________________________________________________________________\n",
            "Layer (type)                 Output Shape              Param #   \n",
            "=================================================================\n",
            "lstm (LSTM)                  (None, 32)                4352      \n",
            "_________________________________________________________________\n",
            "dense (Dense)                (None, 1)                 33        \n",
            "=================================================================\n",
            "Total params: 4,385\n",
            "Trainable params: 4,385\n",
            "Non-trainable params: 0\n",
            "_________________________________________________________________\n"
          ],
          "name": "stdout"
        }
      ]
    },
    {
      "cell_type": "markdown",
      "metadata": {
        "id": "t-UsaVtEVtyc",
        "colab_type": "text"
      },
      "source": [
        "### Train the model"
      ]
    },
    {
      "cell_type": "code",
      "metadata": {
        "id": "bfzg7fg0Vtyd",
        "colab_type": "code",
        "colab": {
          "base_uri": "https://localhost:8080/",
          "height": 1000
        },
        "outputId": "d74faa6e-2680-45d3-bd57-9e24cad2d2c2"
      },
      "source": [
        "#Training the model for 200 epochs & batch size of 32\n",
        "model.fit(X_train, y_train, epochs=200, validation_data=(X_test, y_test), batch_size=32)"
      ],
      "execution_count": 23,
      "outputs": [
        {
          "output_type": "stream",
          "text": [
            "WARNING:tensorflow:From /usr/local/lib/python3.6/dist-packages/tensorflow_core/python/ops/math_grad.py:1424: where (from tensorflow.python.ops.array_ops) is deprecated and will be removed in a future version.\n",
            "Instructions for updating:\n",
            "Use tf.where in 2.0, which has the same broadcast rule as np.where\n",
            "Train on 2919 samples, validate on 729 samples\n",
            "Epoch 1/200\n",
            "2919/2919 [==============================] - 1s 256us/sample - loss: 0.0979 - val_loss: 0.0274\n",
            "Epoch 2/200\n",
            "2919/2919 [==============================] - 0s 88us/sample - loss: 0.0159 - val_loss: 0.0133\n",
            "Epoch 3/200\n",
            "2919/2919 [==============================] - 0s 87us/sample - loss: 0.0136 - val_loss: 0.0123\n",
            "Epoch 4/200\n",
            "2919/2919 [==============================] - 0s 86us/sample - loss: 0.0128 - val_loss: 0.0114\n",
            "Epoch 5/200\n",
            "2919/2919 [==============================] - 0s 89us/sample - loss: 0.0119 - val_loss: 0.0105\n",
            "Epoch 6/200\n",
            "2919/2919 [==============================] - 0s 89us/sample - loss: 0.0113 - val_loss: 0.0097\n",
            "Epoch 7/200\n",
            "2919/2919 [==============================] - 0s 88us/sample - loss: 0.0107 - val_loss: 0.0090\n",
            "Epoch 8/200\n",
            "2919/2919 [==============================] - 0s 85us/sample - loss: 0.0103 - val_loss: 0.0086\n",
            "Epoch 9/200\n",
            "2919/2919 [==============================] - 0s 86us/sample - loss: 0.0101 - val_loss: 0.0084\n",
            "Epoch 10/200\n",
            "2919/2919 [==============================] - 0s 91us/sample - loss: 0.0100 - val_loss: 0.0083\n",
            "Epoch 11/200\n",
            "2919/2919 [==============================] - 0s 84us/sample - loss: 0.0100 - val_loss: 0.0082\n",
            "Epoch 12/200\n",
            "2919/2919 [==============================] - 0s 82us/sample - loss: 0.0100 - val_loss: 0.0082\n",
            "Epoch 13/200\n",
            "2919/2919 [==============================] - 0s 86us/sample - loss: 0.0100 - val_loss: 0.0083\n",
            "Epoch 14/200\n",
            "2919/2919 [==============================] - 0s 86us/sample - loss: 0.0100 - val_loss: 0.0082\n",
            "Epoch 15/200\n",
            "2919/2919 [==============================] - 0s 88us/sample - loss: 0.0100 - val_loss: 0.0082\n",
            "Epoch 16/200\n",
            "2919/2919 [==============================] - 0s 84us/sample - loss: 0.0100 - val_loss: 0.0082\n",
            "Epoch 17/200\n",
            "2919/2919 [==============================] - 0s 89us/sample - loss: 0.0100 - val_loss: 0.0082\n",
            "Epoch 18/200\n",
            "2919/2919 [==============================] - 0s 85us/sample - loss: 0.0100 - val_loss: 0.0082\n",
            "Epoch 19/200\n",
            "2919/2919 [==============================] - 0s 92us/sample - loss: 0.0100 - val_loss: 0.0082\n",
            "Epoch 20/200\n",
            "2919/2919 [==============================] - 0s 88us/sample - loss: 0.0100 - val_loss: 0.0082\n",
            "Epoch 21/200\n",
            "2919/2919 [==============================] - 0s 84us/sample - loss: 0.0100 - val_loss: 0.0082\n",
            "Epoch 22/200\n",
            "2919/2919 [==============================] - 0s 87us/sample - loss: 0.0100 - val_loss: 0.0082\n",
            "Epoch 23/200\n",
            "2919/2919 [==============================] - 0s 88us/sample - loss: 0.0100 - val_loss: 0.0082\n",
            "Epoch 24/200\n",
            "2919/2919 [==============================] - 0s 87us/sample - loss: 0.0100 - val_loss: 0.0082\n",
            "Epoch 25/200\n",
            "2919/2919 [==============================] - 0s 86us/sample - loss: 0.0100 - val_loss: 0.0082\n",
            "Epoch 26/200\n",
            "2919/2919 [==============================] - 0s 87us/sample - loss: 0.0100 - val_loss: 0.0082\n",
            "Epoch 27/200\n",
            "2919/2919 [==============================] - 0s 88us/sample - loss: 0.0100 - val_loss: 0.0082\n",
            "Epoch 28/200\n",
            "2919/2919 [==============================] - 0s 86us/sample - loss: 0.0101 - val_loss: 0.0082\n",
            "Epoch 29/200\n",
            "2919/2919 [==============================] - 0s 88us/sample - loss: 0.0100 - val_loss: 0.0082\n",
            "Epoch 30/200\n",
            "2919/2919 [==============================] - 0s 85us/sample - loss: 0.0100 - val_loss: 0.0082\n",
            "Epoch 31/200\n",
            "2919/2919 [==============================] - 0s 88us/sample - loss: 0.0100 - val_loss: 0.0082\n",
            "Epoch 32/200\n",
            "2919/2919 [==============================] - 0s 84us/sample - loss: 0.0100 - val_loss: 0.0084\n",
            "Epoch 33/200\n",
            "2919/2919 [==============================] - 0s 86us/sample - loss: 0.0100 - val_loss: 0.0082\n",
            "Epoch 34/200\n",
            "2919/2919 [==============================] - 0s 87us/sample - loss: 0.0100 - val_loss: 0.0083\n",
            "Epoch 35/200\n",
            "2919/2919 [==============================] - 0s 85us/sample - loss: 0.0100 - val_loss: 0.0082\n",
            "Epoch 36/200\n",
            "2919/2919 [==============================] - 0s 89us/sample - loss: 0.0100 - val_loss: 0.0082\n",
            "Epoch 37/200\n",
            "2919/2919 [==============================] - 0s 95us/sample - loss: 0.0100 - val_loss: 0.0082\n",
            "Epoch 38/200\n",
            "2919/2919 [==============================] - 0s 86us/sample - loss: 0.0100 - val_loss: 0.0082\n",
            "Epoch 39/200\n",
            "2919/2919 [==============================] - 0s 87us/sample - loss: 0.0100 - val_loss: 0.0082\n",
            "Epoch 40/200\n",
            "2919/2919 [==============================] - 0s 85us/sample - loss: 0.0100 - val_loss: 0.0082\n",
            "Epoch 41/200\n",
            "2919/2919 [==============================] - 0s 86us/sample - loss: 0.0100 - val_loss: 0.0082\n",
            "Epoch 42/200\n",
            "2919/2919 [==============================] - 0s 89us/sample - loss: 0.0100 - val_loss: 0.0084\n",
            "Epoch 43/200\n",
            "2919/2919 [==============================] - 0s 87us/sample - loss: 0.0100 - val_loss: 0.0082\n",
            "Epoch 44/200\n",
            "2919/2919 [==============================] - 0s 85us/sample - loss: 0.0100 - val_loss: 0.0082\n",
            "Epoch 45/200\n",
            "2919/2919 [==============================] - 0s 89us/sample - loss: 0.0100 - val_loss: 0.0082\n",
            "Epoch 46/200\n",
            "2919/2919 [==============================] - 0s 87us/sample - loss: 0.0100 - val_loss: 0.0082\n",
            "Epoch 47/200\n",
            "2919/2919 [==============================] - 0s 89us/sample - loss: 0.0100 - val_loss: 0.0082\n",
            "Epoch 48/200\n",
            "2919/2919 [==============================] - 0s 85us/sample - loss: 0.0100 - val_loss: 0.0082\n",
            "Epoch 49/200\n",
            "2919/2919 [==============================] - 0s 87us/sample - loss: 0.0100 - val_loss: 0.0082\n",
            "Epoch 50/200\n",
            "2919/2919 [==============================] - 0s 90us/sample - loss: 0.0100 - val_loss: 0.0083\n",
            "Epoch 51/200\n",
            "2919/2919 [==============================] - 0s 85us/sample - loss: 0.0101 - val_loss: 0.0082\n",
            "Epoch 52/200\n",
            "2919/2919 [==============================] - 0s 87us/sample - loss: 0.0100 - val_loss: 0.0083\n",
            "Epoch 53/200\n",
            "2919/2919 [==============================] - 0s 86us/sample - loss: 0.0100 - val_loss: 0.0082\n",
            "Epoch 54/200\n",
            "2919/2919 [==============================] - 0s 86us/sample - loss: 0.0100 - val_loss: 0.0082\n",
            "Epoch 55/200\n",
            "2919/2919 [==============================] - 0s 86us/sample - loss: 0.0100 - val_loss: 0.0081\n",
            "Epoch 56/200\n",
            "2919/2919 [==============================] - 0s 92us/sample - loss: 0.0100 - val_loss: 0.0082\n",
            "Epoch 57/200\n",
            "2919/2919 [==============================] - 0s 86us/sample - loss: 0.0100 - val_loss: 0.0082\n",
            "Epoch 58/200\n",
            "2919/2919 [==============================] - 0s 87us/sample - loss: 0.0100 - val_loss: 0.0082\n",
            "Epoch 59/200\n",
            "2919/2919 [==============================] - 0s 88us/sample - loss: 0.0100 - val_loss: 0.0082\n",
            "Epoch 60/200\n",
            "2919/2919 [==============================] - 0s 84us/sample - loss: 0.0099 - val_loss: 0.0082\n",
            "Epoch 61/200\n",
            "2919/2919 [==============================] - 0s 87us/sample - loss: 0.0099 - val_loss: 0.0082\n",
            "Epoch 62/200\n",
            "2919/2919 [==============================] - 0s 85us/sample - loss: 0.0100 - val_loss: 0.0082\n",
            "Epoch 63/200\n",
            "2919/2919 [==============================] - 0s 91us/sample - loss: 0.0100 - val_loss: 0.0082\n",
            "Epoch 64/200\n",
            "2919/2919 [==============================] - 0s 86us/sample - loss: 0.0100 - val_loss: 0.0082\n",
            "Epoch 65/200\n",
            "2919/2919 [==============================] - 0s 86us/sample - loss: 0.0100 - val_loss: 0.0082\n",
            "Epoch 66/200\n",
            "2919/2919 [==============================] - 0s 86us/sample - loss: 0.0100 - val_loss: 0.0082\n",
            "Epoch 67/200\n",
            "2919/2919 [==============================] - 0s 88us/sample - loss: 0.0100 - val_loss: 0.0082\n",
            "Epoch 68/200\n",
            "2919/2919 [==============================] - 0s 90us/sample - loss: 0.0100 - val_loss: 0.0082\n",
            "Epoch 69/200\n",
            "2919/2919 [==============================] - 0s 90us/sample - loss: 0.0099 - val_loss: 0.0082\n",
            "Epoch 70/200\n",
            "2919/2919 [==============================] - 0s 85us/sample - loss: 0.0100 - val_loss: 0.0083\n",
            "Epoch 71/200\n",
            "2919/2919 [==============================] - 0s 86us/sample - loss: 0.0100 - val_loss: 0.0082\n",
            "Epoch 72/200\n",
            "2919/2919 [==============================] - 0s 89us/sample - loss: 0.0100 - val_loss: 0.0082\n",
            "Epoch 73/200\n",
            "2919/2919 [==============================] - 0s 89us/sample - loss: 0.0100 - val_loss: 0.0081\n",
            "Epoch 74/200\n",
            "2919/2919 [==============================] - 0s 91us/sample - loss: 0.0099 - val_loss: 0.0082\n",
            "Epoch 75/200\n",
            "2919/2919 [==============================] - 0s 85us/sample - loss: 0.0100 - val_loss: 0.0082\n",
            "Epoch 76/200\n",
            "2919/2919 [==============================] - 0s 89us/sample - loss: 0.0100 - val_loss: 0.0084\n",
            "Epoch 77/200\n",
            "2919/2919 [==============================] - 0s 90us/sample - loss: 0.0100 - val_loss: 0.0082\n",
            "Epoch 78/200\n",
            "2919/2919 [==============================] - 0s 94us/sample - loss: 0.0100 - val_loss: 0.0083\n",
            "Epoch 79/200\n",
            "2919/2919 [==============================] - 0s 87us/sample - loss: 0.0100 - val_loss: 0.0081\n",
            "Epoch 80/200\n",
            "2919/2919 [==============================] - 0s 88us/sample - loss: 0.0099 - val_loss: 0.0086\n",
            "Epoch 81/200\n",
            "2919/2919 [==============================] - 0s 86us/sample - loss: 0.0100 - val_loss: 0.0082\n",
            "Epoch 82/200\n",
            "2919/2919 [==============================] - 0s 85us/sample - loss: 0.0100 - val_loss: 0.0082\n",
            "Epoch 83/200\n",
            "2919/2919 [==============================] - 0s 87us/sample - loss: 0.0100 - val_loss: 0.0081\n",
            "Epoch 84/200\n",
            "2919/2919 [==============================] - 0s 91us/sample - loss: 0.0100 - val_loss: 0.0082\n",
            "Epoch 85/200\n",
            "2919/2919 [==============================] - 0s 84us/sample - loss: 0.0100 - val_loss: 0.0082\n",
            "Epoch 86/200\n",
            "2919/2919 [==============================] - 0s 85us/sample - loss: 0.0101 - val_loss: 0.0082\n",
            "Epoch 87/200\n",
            "2919/2919 [==============================] - 0s 86us/sample - loss: 0.0100 - val_loss: 0.0082\n",
            "Epoch 88/200\n",
            "2919/2919 [==============================] - 0s 87us/sample - loss: 0.0100 - val_loss: 0.0083\n",
            "Epoch 89/200\n",
            "2919/2919 [==============================] - 0s 86us/sample - loss: 0.0099 - val_loss: 0.0083\n",
            "Epoch 90/200\n",
            "2919/2919 [==============================] - 0s 88us/sample - loss: 0.0100 - val_loss: 0.0083\n",
            "Epoch 91/200\n",
            "2919/2919 [==============================] - 0s 90us/sample - loss: 0.0100 - val_loss: 0.0082\n",
            "Epoch 92/200\n",
            "2919/2919 [==============================] - 0s 88us/sample - loss: 0.0100 - val_loss: 0.0082\n",
            "Epoch 93/200\n",
            "2919/2919 [==============================] - 0s 93us/sample - loss: 0.0100 - val_loss: 0.0082\n",
            "Epoch 94/200\n",
            "2919/2919 [==============================] - 0s 86us/sample - loss: 0.0100 - val_loss: 0.0082\n",
            "Epoch 95/200\n",
            "2919/2919 [==============================] - 0s 87us/sample - loss: 0.0099 - val_loss: 0.0086\n",
            "Epoch 96/200\n",
            "2919/2919 [==============================] - 0s 86us/sample - loss: 0.0100 - val_loss: 0.0082\n",
            "Epoch 97/200\n",
            "2919/2919 [==============================] - 0s 89us/sample - loss: 0.0099 - val_loss: 0.0083\n",
            "Epoch 98/200\n",
            "2919/2919 [==============================] - 0s 86us/sample - loss: 0.0100 - val_loss: 0.0082\n",
            "Epoch 99/200\n",
            "2919/2919 [==============================] - 0s 87us/sample - loss: 0.0100 - val_loss: 0.0083\n",
            "Epoch 100/200\n",
            "2919/2919 [==============================] - 0s 90us/sample - loss: 0.0100 - val_loss: 0.0082\n",
            "Epoch 101/200\n",
            "2919/2919 [==============================] - 0s 87us/sample - loss: 0.0099 - val_loss: 0.0086\n",
            "Epoch 102/200\n",
            "2919/2919 [==============================] - 0s 90us/sample - loss: 0.0100 - val_loss: 0.0082\n",
            "Epoch 103/200\n",
            "2919/2919 [==============================] - 0s 88us/sample - loss: 0.0100 - val_loss: 0.0085\n",
            "Epoch 104/200\n",
            "2919/2919 [==============================] - 0s 84us/sample - loss: 0.0100 - val_loss: 0.0082\n",
            "Epoch 105/200\n",
            "2919/2919 [==============================] - 0s 88us/sample - loss: 0.0099 - val_loss: 0.0082\n",
            "Epoch 106/200\n",
            "2919/2919 [==============================] - 0s 86us/sample - loss: 0.0100 - val_loss: 0.0083\n",
            "Epoch 107/200\n",
            "2919/2919 [==============================] - 0s 88us/sample - loss: 0.0099 - val_loss: 0.0082\n",
            "Epoch 108/200\n",
            "2919/2919 [==============================] - 0s 85us/sample - loss: 0.0099 - val_loss: 0.0083\n",
            "Epoch 109/200\n",
            "2919/2919 [==============================] - 0s 87us/sample - loss: 0.0100 - val_loss: 0.0082\n",
            "Epoch 110/200\n",
            "2919/2919 [==============================] - 0s 83us/sample - loss: 0.0100 - val_loss: 0.0085\n",
            "Epoch 111/200\n",
            "2919/2919 [==============================] - 0s 88us/sample - loss: 0.0100 - val_loss: 0.0082\n",
            "Epoch 112/200\n",
            "2919/2919 [==============================] - 0s 87us/sample - loss: 0.0099 - val_loss: 0.0082\n",
            "Epoch 113/200\n",
            "2919/2919 [==============================] - 0s 89us/sample - loss: 0.0099 - val_loss: 0.0085\n",
            "Epoch 114/200\n",
            "2919/2919 [==============================] - 0s 85us/sample - loss: 0.0099 - val_loss: 0.0082\n",
            "Epoch 115/200\n",
            "2919/2919 [==============================] - 0s 87us/sample - loss: 0.0100 - val_loss: 0.0083\n",
            "Epoch 116/200\n",
            "2919/2919 [==============================] - 0s 86us/sample - loss: 0.0099 - val_loss: 0.0082\n",
            "Epoch 117/200\n",
            "2919/2919 [==============================] - 0s 85us/sample - loss: 0.0099 - val_loss: 0.0082\n",
            "Epoch 118/200\n",
            "2919/2919 [==============================] - 0s 89us/sample - loss: 0.0100 - val_loss: 0.0082\n",
            "Epoch 119/200\n",
            "2919/2919 [==============================] - 0s 89us/sample - loss: 0.0101 - val_loss: 0.0082\n",
            "Epoch 120/200\n",
            "2919/2919 [==============================] - 0s 84us/sample - loss: 0.0100 - val_loss: 0.0082\n",
            "Epoch 121/200\n",
            "2919/2919 [==============================] - 0s 84us/sample - loss: 0.0099 - val_loss: 0.0082\n",
            "Epoch 122/200\n",
            "2919/2919 [==============================] - 0s 85us/sample - loss: 0.0100 - val_loss: 0.0082\n",
            "Epoch 123/200\n",
            "2919/2919 [==============================] - 0s 86us/sample - loss: 0.0100 - val_loss: 0.0082\n",
            "Epoch 124/200\n",
            "2919/2919 [==============================] - 0s 87us/sample - loss: 0.0100 - val_loss: 0.0082\n",
            "Epoch 125/200\n",
            "2919/2919 [==============================] - 0s 84us/sample - loss: 0.0100 - val_loss: 0.0083\n",
            "Epoch 126/200\n",
            "2919/2919 [==============================] - 0s 90us/sample - loss: 0.0099 - val_loss: 0.0082\n",
            "Epoch 127/200\n",
            "2919/2919 [==============================] - 0s 84us/sample - loss: 0.0100 - val_loss: 0.0082\n",
            "Epoch 128/200\n",
            "2919/2919 [==============================] - 0s 89us/sample - loss: 0.0100 - val_loss: 0.0083\n",
            "Epoch 129/200\n",
            "2919/2919 [==============================] - 0s 85us/sample - loss: 0.0099 - val_loss: 0.0082\n",
            "Epoch 130/200\n",
            "2919/2919 [==============================] - 0s 84us/sample - loss: 0.0100 - val_loss: 0.0082\n",
            "Epoch 131/200\n",
            "2919/2919 [==============================] - 0s 87us/sample - loss: 0.0100 - val_loss: 0.0082\n",
            "Epoch 132/200\n",
            "2919/2919 [==============================] - 0s 87us/sample - loss: 0.0099 - val_loss: 0.0082\n",
            "Epoch 133/200\n",
            "2919/2919 [==============================] - 0s 87us/sample - loss: 0.0100 - val_loss: 0.0082\n",
            "Epoch 134/200\n",
            "2919/2919 [==============================] - 0s 88us/sample - loss: 0.0099 - val_loss: 0.0082\n",
            "Epoch 135/200\n",
            "2919/2919 [==============================] - 0s 87us/sample - loss: 0.0100 - val_loss: 0.0082\n",
            "Epoch 136/200\n",
            "2919/2919 [==============================] - 0s 90us/sample - loss: 0.0099 - val_loss: 0.0082\n",
            "Epoch 137/200\n",
            "2919/2919 [==============================] - 0s 85us/sample - loss: 0.0099 - val_loss: 0.0083\n",
            "Epoch 138/200\n",
            "2919/2919 [==============================] - 0s 84us/sample - loss: 0.0099 - val_loss: 0.0082\n",
            "Epoch 139/200\n",
            "2919/2919 [==============================] - 0s 87us/sample - loss: 0.0100 - val_loss: 0.0082\n",
            "Epoch 140/200\n",
            "2919/2919 [==============================] - 0s 86us/sample - loss: 0.0099 - val_loss: 0.0086\n",
            "Epoch 141/200\n",
            "2919/2919 [==============================] - 0s 86us/sample - loss: 0.0100 - val_loss: 0.0082\n",
            "Epoch 142/200\n",
            "2919/2919 [==============================] - 0s 86us/sample - loss: 0.0100 - val_loss: 0.0082\n",
            "Epoch 143/200\n",
            "2919/2919 [==============================] - 0s 85us/sample - loss: 0.0099 - val_loss: 0.0082\n",
            "Epoch 144/200\n",
            "2919/2919 [==============================] - 0s 87us/sample - loss: 0.0100 - val_loss: 0.0082\n",
            "Epoch 145/200\n",
            "2919/2919 [==============================] - 0s 84us/sample - loss: 0.0100 - val_loss: 0.0082\n",
            "Epoch 146/200\n",
            "2919/2919 [==============================] - 0s 87us/sample - loss: 0.0100 - val_loss: 0.0082\n",
            "Epoch 147/200\n",
            "2919/2919 [==============================] - 0s 83us/sample - loss: 0.0099 - val_loss: 0.0083\n",
            "Epoch 148/200\n",
            "2919/2919 [==============================] - 0s 87us/sample - loss: 0.0099 - val_loss: 0.0082\n",
            "Epoch 149/200\n",
            "2919/2919 [==============================] - 0s 84us/sample - loss: 0.0100 - val_loss: 0.0082\n",
            "Epoch 150/200\n",
            "2919/2919 [==============================] - 0s 85us/sample - loss: 0.0100 - val_loss: 0.0082\n",
            "Epoch 151/200\n",
            "2919/2919 [==============================] - 0s 85us/sample - loss: 0.0100 - val_loss: 0.0082\n",
            "Epoch 152/200\n",
            "2919/2919 [==============================] - 0s 85us/sample - loss: 0.0100 - val_loss: 0.0082\n",
            "Epoch 153/200\n",
            "2919/2919 [==============================] - 0s 88us/sample - loss: 0.0099 - val_loss: 0.0082\n",
            "Epoch 154/200\n",
            "2919/2919 [==============================] - 0s 89us/sample - loss: 0.0099 - val_loss: 0.0082\n",
            "Epoch 155/200\n",
            "2919/2919 [==============================] - 0s 86us/sample - loss: 0.0099 - val_loss: 0.0082\n",
            "Epoch 156/200\n",
            "2919/2919 [==============================] - 0s 84us/sample - loss: 0.0100 - val_loss: 0.0082\n",
            "Epoch 157/200\n",
            "2919/2919 [==============================] - 0s 83us/sample - loss: 0.0100 - val_loss: 0.0084\n",
            "Epoch 158/200\n",
            "2919/2919 [==============================] - 0s 85us/sample - loss: 0.0099 - val_loss: 0.0082\n",
            "Epoch 159/200\n",
            "2919/2919 [==============================] - 0s 84us/sample - loss: 0.0099 - val_loss: 0.0082\n",
            "Epoch 160/200\n",
            "2919/2919 [==============================] - 0s 95us/sample - loss: 0.0100 - val_loss: 0.0083\n",
            "Epoch 161/200\n",
            "2919/2919 [==============================] - 0s 85us/sample - loss: 0.0099 - val_loss: 0.0083\n",
            "Epoch 162/200\n",
            "2919/2919 [==============================] - 0s 88us/sample - loss: 0.0100 - val_loss: 0.0083\n",
            "Epoch 163/200\n",
            "2919/2919 [==============================] - 0s 89us/sample - loss: 0.0099 - val_loss: 0.0082\n",
            "Epoch 164/200\n",
            "2919/2919 [==============================] - 0s 90us/sample - loss: 0.0099 - val_loss: 0.0083\n",
            "Epoch 165/200\n",
            "2919/2919 [==============================] - 0s 88us/sample - loss: 0.0099 - val_loss: 0.0082\n",
            "Epoch 166/200\n",
            "2919/2919 [==============================] - 0s 85us/sample - loss: 0.0099 - val_loss: 0.0082\n",
            "Epoch 167/200\n",
            "2919/2919 [==============================] - 0s 90us/sample - loss: 0.0099 - val_loss: 0.0082\n",
            "Epoch 168/200\n",
            "2919/2919 [==============================] - 0s 90us/sample - loss: 0.0099 - val_loss: 0.0082\n",
            "Epoch 169/200\n",
            "2919/2919 [==============================] - 0s 91us/sample - loss: 0.0099 - val_loss: 0.0083\n",
            "Epoch 170/200\n",
            "2919/2919 [==============================] - 0s 89us/sample - loss: 0.0099 - val_loss: 0.0082\n",
            "Epoch 171/200\n",
            "2919/2919 [==============================] - 0s 85us/sample - loss: 0.0099 - val_loss: 0.0083\n",
            "Epoch 172/200\n",
            "2919/2919 [==============================] - 0s 87us/sample - loss: 0.0099 - val_loss: 0.0086\n",
            "Epoch 173/200\n",
            "2919/2919 [==============================] - 0s 90us/sample - loss: 0.0100 - val_loss: 0.0082\n",
            "Epoch 174/200\n",
            "2919/2919 [==============================] - 0s 87us/sample - loss: 0.0099 - val_loss: 0.0082\n",
            "Epoch 175/200\n",
            "2919/2919 [==============================] - 0s 85us/sample - loss: 0.0099 - val_loss: 0.0082\n",
            "Epoch 176/200\n",
            "2919/2919 [==============================] - 0s 86us/sample - loss: 0.0100 - val_loss: 0.0082\n",
            "Epoch 177/200\n",
            "2919/2919 [==============================] - 0s 90us/sample - loss: 0.0099 - val_loss: 0.0082\n",
            "Epoch 178/200\n",
            "2919/2919 [==============================] - 0s 85us/sample - loss: 0.0099 - val_loss: 0.0085\n",
            "Epoch 179/200\n",
            "2919/2919 [==============================] - 0s 84us/sample - loss: 0.0100 - val_loss: 0.0084\n",
            "Epoch 180/200\n",
            "2919/2919 [==============================] - 0s 85us/sample - loss: 0.0100 - val_loss: 0.0082\n",
            "Epoch 181/200\n",
            "2919/2919 [==============================] - 0s 88us/sample - loss: 0.0100 - val_loss: 0.0082\n",
            "Epoch 182/200\n",
            "2919/2919 [==============================] - 0s 87us/sample - loss: 0.0099 - val_loss: 0.0082\n",
            "Epoch 183/200\n",
            "2919/2919 [==============================] - 0s 88us/sample - loss: 0.0100 - val_loss: 0.0082\n",
            "Epoch 184/200\n",
            "2919/2919 [==============================] - 0s 88us/sample - loss: 0.0100 - val_loss: 0.0083\n",
            "Epoch 185/200\n",
            "2919/2919 [==============================] - 0s 87us/sample - loss: 0.0100 - val_loss: 0.0082\n",
            "Epoch 186/200\n",
            "2919/2919 [==============================] - 0s 93us/sample - loss: 0.0099 - val_loss: 0.0082\n",
            "Epoch 187/200\n",
            "2919/2919 [==============================] - 0s 85us/sample - loss: 0.0099 - val_loss: 0.0082\n",
            "Epoch 188/200\n",
            "2919/2919 [==============================] - 0s 85us/sample - loss: 0.0100 - val_loss: 0.0083\n",
            "Epoch 189/200\n",
            "2919/2919 [==============================] - 0s 85us/sample - loss: 0.0099 - val_loss: 0.0082\n",
            "Epoch 190/200\n",
            "2919/2919 [==============================] - 0s 90us/sample - loss: 0.0100 - val_loss: 0.0082\n",
            "Epoch 191/200\n",
            "2919/2919 [==============================] - 0s 84us/sample - loss: 0.0100 - val_loss: 0.0082\n",
            "Epoch 192/200\n",
            "2919/2919 [==============================] - 0s 86us/sample - loss: 0.0099 - val_loss: 0.0082\n",
            "Epoch 193/200\n",
            "2919/2919 [==============================] - 0s 85us/sample - loss: 0.0099 - val_loss: 0.0083\n",
            "Epoch 194/200\n",
            "2919/2919 [==============================] - 0s 86us/sample - loss: 0.0099 - val_loss: 0.0082\n",
            "Epoch 195/200\n",
            "2919/2919 [==============================] - 0s 90us/sample - loss: 0.0099 - val_loss: 0.0082\n",
            "Epoch 196/200\n",
            "2919/2919 [==============================] - 0s 86us/sample - loss: 0.0099 - val_loss: 0.0082\n",
            "Epoch 197/200\n",
            "2919/2919 [==============================] - 0s 87us/sample - loss: 0.0099 - val_loss: 0.0082\n",
            "Epoch 198/200\n",
            "2919/2919 [==============================] - 0s 88us/sample - loss: 0.0099 - val_loss: 0.0082\n",
            "Epoch 199/200\n",
            "2919/2919 [==============================] - 0s 84us/sample - loss: 0.0099 - val_loss: 0.0082\n",
            "Epoch 200/200\n",
            "2919/2919 [==============================] - 0s 83us/sample - loss: 0.0099 - val_loss: 0.0082\n"
          ],
          "name": "stdout"
        },
        {
          "output_type": "execute_result",
          "data": {
            "text/plain": [
              "<tensorflow.python.keras.callbacks.History at 0x7fa1447d53c8>"
            ]
          },
          "metadata": {
            "tags": []
          },
          "execution_count": 23
        }
      ]
    },
    {
      "cell_type": "markdown",
      "metadata": {
        "id": "3xO91oC_Vtyi",
        "colab_type": "text"
      },
      "source": [
        "## Make Predictions and Evaluate your model"
      ]
    },
    {
      "cell_type": "code",
      "metadata": {
        "colab_type": "code",
        "id": "85Ip5wrq7Jyi",
        "colab": {}
      },
      "source": [
        "#Get prediction for both Training and Test Data\n",
        "trainPredict = model.predict(X_train)\n",
        "testPredict = model.predict(X_test)"
      ],
      "execution_count": 0,
      "outputs": []
    },
    {
      "cell_type": "code",
      "metadata": {
        "id": "bVGcyfipgH14",
        "colab_type": "code",
        "colab": {
          "base_uri": "https://localhost:8080/",
          "height": 51
        },
        "outputId": "8ecb127f-8157-417e-bd55-a8e3aa130d27"
      },
      "source": [
        "#Evaluate model\n",
        "model.evaluate(X_test, y_test)"
      ],
      "execution_count": 25,
      "outputs": [
        {
          "output_type": "stream",
          "text": [
            "729/729 [==============================] - 0s 40us/sample - loss: 0.0082\n"
          ],
          "name": "stdout"
        },
        {
          "output_type": "execute_result",
          "data": {
            "text/plain": [
              "0.008174141856173593"
            ]
          },
          "metadata": {
            "tags": []
          },
          "execution_count": 25
        }
      ]
    },
    {
      "cell_type": "markdown",
      "metadata": {
        "id": "-9jGRGzhVtyp",
        "colab_type": "text"
      },
      "source": [
        "## Plot the results"
      ]
    },
    {
      "cell_type": "code",
      "metadata": {
        "colab_type": "code",
        "id": "FHbIWp-D7Jyn",
        "outputId": "536066df-f165-45a4-a763-8670bd2eee2f",
        "colab": {
          "base_uri": "https://localhost:8080/",
          "height": 320
        }
      },
      "source": [
        "#Importing pyplot module from matplotlib library\n",
        "import matplotlib.pyplot as plt\n",
        "#Making plots to get shown\n",
        "%matplotlib inline\n",
        "\n",
        "#Un-normalize the predited data\n",
        "trainPredict = model.predict(X_train)\n",
        "testPredict = model.predict(X_test)\n",
        "trainPredict = trainPredict.reshape(-1,1)\n",
        "trainPredict = scaler.inverse_transform(trainPredict)\n",
        "testPredict = testPredict.reshape(-1,1)\n",
        "testPredict = scaler.inverse_transform(testPredict)\n",
        "\n",
        "#Shift train predictions for plotting\n",
        "trainPredictPlot = np.empty_like(scaled)\n",
        "trainPredictPlot[:, :] = np.nan\n",
        "trainPredictPlot[window_size:len(trainPredict)+window_size, :] = trainPredict\n",
        "#Shift test predictions for plotting\n",
        "testPredictPlot = np.empty_like(scaled)\n",
        "testPredictPlot[:, :] = np.nan\n",
        "testPredictPlot[len(trainPredict)+(window_size*2):len(scaled), :] = testPredict\n",
        "#Plot baseline and predictions\n",
        "plt.figure(figsize=(10,5))\n",
        "plt.plot(scaler.inverse_transform(scaled))\n",
        "plt.plot(trainPredictPlot)\n",
        "plt.plot(testPredictPlot)\n",
        "plt.show()"
      ],
      "execution_count": 26,
      "outputs": [
        {
          "output_type": "display_data",
          "data": {
            "image/png": "[encoded data removed]",
            "text/plain": [
              "<Figure size 720x360 with 1 Axes>"
            ]
          },
          "metadata": {
            "tags": []
          }
        }
      ]
    }
  ]
}