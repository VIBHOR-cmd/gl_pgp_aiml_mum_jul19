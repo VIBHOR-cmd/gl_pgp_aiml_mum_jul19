{
 "cells": [
  {
   "cell_type": "markdown",
   "metadata": {},
   "source": [
    "# Campaign for selling personal loans.\n",
    "This case is about a bank (Thera Bank) which has a growing customer base. Majority of these customers are liability customers (depositors) with varying size of deposits. The number of customers who are also borrowers (asset customers) is quite small, and the bank is interested in expanding this base rapidly to bring in more loan business and in the process, earn more through the interest on loans. In particular, the management wants to explore ways of converting its liability customers to personal loan customers (while retaining them as depositors). A campaign that the bank ran last year for liability customers showed a healthy conversion rate of over 9% success. This has encouraged the retail marketing department to devise campaigns with better target marketing to increase the success ratio with minimal budget.\n",
    "\n",
    "The department wants to build a model that will help them identify the potential customers who have higher probability of purchasing the loan. This will increase the success ratio while at the same time reduce the cost of the campaign.\n",
    "\n",
    "The file Bank.xls contains data on 5000 customers. The data include customer demographic information (age, income, etc.), the customer's relationship with the bank (mortgage, securities account, etc.), and the customer response to the last personal loan campaign (Personal Loan). Among these 5000 customers, only 480 (= 9.6%) accepted the personal loan that was offered to them in the earlier campaign."
   ]
  },
  {
   "cell_type": "markdown",
   "metadata": {},
   "source": [
    "## 1. Read the column description and ensure you understand each attribute well"
   ]
  },
  {
   "cell_type": "code",
   "execution_count": 1,
   "metadata": {},
   "outputs": [],
   "source": [
    "#Importing the Numpy & Pandas libraries\n",
    "import numpy as np\n",
    "import pandas as pd"
   ]
  },
  {
   "cell_type": "code",
   "execution_count": 2,
   "metadata": {},
   "outputs": [],
   "source": [
    "#Read the Data from CSV file\n",
    "df = pd.read_csv('Bank_Personal_Loan_Modelling-1.csv', index_col='ID')"
   ]
  },
  {
   "cell_type": "code",
   "execution_count": 3,
   "metadata": {},
   "outputs": [
    {
     "data": {
      "text/html": [
       "<div>\n",
       "<style scoped>\n",
       "    .dataframe tbody tr th:only-of-type {\n",
       "        vertical-align: middle;\n",
       "    }\n",
       "\n",
       "    .dataframe tbody tr th {\n",
       "        vertical-align: top;\n",
       "    }\n",
       "\n",
       "    .dataframe thead th {\n",
       "        text-align: right;\n",
       "    }\n",
       "</style>\n",
       "<table border=\"1\" class=\"dataframe\">\n",
       "  <thead>\n",
       "    <tr style=\"text-align: right;\">\n",
       "      <th></th>\n",
       "      <th>Age</th>\n",
       "      <th>Experience</th>\n",
       "      <th>Income</th>\n",
       "      <th>ZIP Code</th>\n",
       "      <th>Family</th>\n",
       "      <th>CCAvg</th>\n",
       "      <th>Education</th>\n",
       "      <th>Mortgage</th>\n",
       "      <th>Personal Loan</th>\n",
       "      <th>Securities Account</th>\n",
       "      <th>CD Account</th>\n",
       "      <th>Online</th>\n",
       "      <th>CreditCard</th>\n",
       "    </tr>\n",
       "    <tr>\n",
       "      <th>ID</th>\n",
       "      <th></th>\n",
       "      <th></th>\n",
       "      <th></th>\n",
       "      <th></th>\n",
       "      <th></th>\n",
       "      <th></th>\n",
       "      <th></th>\n",
       "      <th></th>\n",
       "      <th></th>\n",
       "      <th></th>\n",
       "      <th></th>\n",
       "      <th></th>\n",
       "      <th></th>\n",
       "    </tr>\n",
       "  </thead>\n",
       "  <tbody>\n",
       "    <tr>\n",
       "      <th>1</th>\n",
       "      <td>25</td>\n",
       "      <td>1</td>\n",
       "      <td>49</td>\n",
       "      <td>91107</td>\n",
       "      <td>4</td>\n",
       "      <td>1.6</td>\n",
       "      <td>1</td>\n",
       "      <td>0</td>\n",
       "      <td>0</td>\n",
       "      <td>1</td>\n",
       "      <td>0</td>\n",
       "      <td>0</td>\n",
       "      <td>0</td>\n",
       "    </tr>\n",
       "    <tr>\n",
       "      <th>2</th>\n",
       "      <td>45</td>\n",
       "      <td>19</td>\n",
       "      <td>34</td>\n",
       "      <td>90089</td>\n",
       "      <td>3</td>\n",
       "      <td>1.5</td>\n",
       "      <td>1</td>\n",
       "      <td>0</td>\n",
       "      <td>0</td>\n",
       "      <td>1</td>\n",
       "      <td>0</td>\n",
       "      <td>0</td>\n",
       "      <td>0</td>\n",
       "    </tr>\n",
       "    <tr>\n",
       "      <th>3</th>\n",
       "      <td>39</td>\n",
       "      <td>15</td>\n",
       "      <td>11</td>\n",
       "      <td>94720</td>\n",
       "      <td>1</td>\n",
       "      <td>1.0</td>\n",
       "      <td>1</td>\n",
       "      <td>0</td>\n",
       "      <td>0</td>\n",
       "      <td>0</td>\n",
       "      <td>0</td>\n",
       "      <td>0</td>\n",
       "      <td>0</td>\n",
       "    </tr>\n",
       "    <tr>\n",
       "      <th>4</th>\n",
       "      <td>35</td>\n",
       "      <td>9</td>\n",
       "      <td>100</td>\n",
       "      <td>94112</td>\n",
       "      <td>1</td>\n",
       "      <td>2.7</td>\n",
       "      <td>2</td>\n",
       "      <td>0</td>\n",
       "      <td>0</td>\n",
       "      <td>0</td>\n",
       "      <td>0</td>\n",
       "      <td>0</td>\n",
       "      <td>0</td>\n",
       "    </tr>\n",
       "    <tr>\n",
       "      <th>5</th>\n",
       "      <td>35</td>\n",
       "      <td>8</td>\n",
       "      <td>45</td>\n",
       "      <td>91330</td>\n",
       "      <td>4</td>\n",
       "      <td>1.0</td>\n",
       "      <td>2</td>\n",
       "      <td>0</td>\n",
       "      <td>0</td>\n",
       "      <td>0</td>\n",
       "      <td>0</td>\n",
       "      <td>0</td>\n",
       "      <td>1</td>\n",
       "    </tr>\n",
       "  </tbody>\n",
       "</table>\n",
       "</div>"
      ],
      "text/plain": [
       "    Age  Experience  Income  ZIP Code  Family  CCAvg  Education  Mortgage  \\\n",
       "ID                                                                          \n",
       "1    25           1      49     91107       4    1.6          1         0   \n",
       "2    45          19      34     90089       3    1.5          1         0   \n",
       "3    39          15      11     94720       1    1.0          1         0   \n",
       "4    35           9     100     94112       1    2.7          2         0   \n",
       "5    35           8      45     91330       4    1.0          2         0   \n",
       "\n",
       "    Personal Loan  Securities Account  CD Account  Online  CreditCard  \n",
       "ID                                                                     \n",
       "1               0                   1           0       0           0  \n",
       "2               0                   1           0       0           0  \n",
       "3               0                   0           0       0           0  \n",
       "4               0                   0           0       0           0  \n",
       "5               0                   0           0       0           1  "
      ]
     },
     "execution_count": 3,
     "metadata": {},
     "output_type": "execute_result"
    }
   ],
   "source": [
    "#Check the top 5 rows to see if DataFrame is loaded as expected\n",
    "df.head()"
   ]
  },
  {
   "cell_type": "markdown",
   "metadata": {},
   "source": [
    "### Understanding of each attribute:\n",
    "To understand better, I downloaded the column Description from Kaggle & have mentioned my understanding as below:\n",
    "\n",
    "**ID:** Customer ID - Key to uniquely identify the Customer\n",
    "\n",
    "**Age:** Customer's age in completed years - Age of the Customer in completed years\n",
    "\n",
    "**Experience:** #years of professional experience - Years of experience of the Customer\n",
    "\n",
    "**Income:** Annual income of the customer ($000) - Annual income of the Customer in thousand Dollars\n",
    "\n",
    "**ZIPCode:** Home Address ZIP code. - ZIP Code of Customer's Home Address\n",
    "\n",
    "**Family:** Family size of the customer - No. of family members in Customer's family\n",
    "\n",
    "**CCAvg:** Avg. spending on credit cards per month ($000) - Average Customer spending on Credit card in thousand Dollars\n",
    "\n",
    "**Education:** Education Level. 1: Undergrad; 2: Graduate; 3: Advanced/Professional - Education level of customer denoted by 1 for Under-graduates, 2 for Graduates & 3 for Advanced/Professional Education qualifications\n",
    "\n",
    "**Mortgage:** Value of house mortgage if any. ($000) - Customer's house mortgage value in thousand Dollars if any\n",
    "\n",
    "**Personal Loan:** Did this customer accept the personal loan offered in the last campaign? - This is the Target variable. It tells whether the Customer targeted in previous campaign took Personal Loan or not. 0 denotes Customer didn't take Personal Loan & 1 denotes that the Customer took the Personal Loan.\n",
    "\n",
    "**Securities Account:** Does the customer have a securities account with the bank? - It tells us whether the Customer has Securities Account with the Bank. 0 denotes Customer doesn't have Securities Account & 1 denotes Customer has Securities Account.\n",
    "\n",
    "**CD Account:** Does the customer have a certificate of deposit (CD) account with the bank? - It tells us if the Customer has Savings Account with the Bank. 0 denotes Customer doesn't have Savings Account & 1 denotes Customer has Savings Account.\n",
    "\n",
    "**Online:** Does the customer use internet banking facilities? - It tells if the Customer has Internet Banking facility or not. 0 denotes Cusomer doesn't have Internet Banking facility & 1 denotes Customer has Internet Banking Facility.\n",
    "\n",
    "**CreditCard:** Does the customer use a credit card issued by UniversalBank? - It tells if Customer has Credit Card issued by Universal Bank. 0 denotes Customer doesn't have Credit Card & 1 denotes Customer has Credit Card."
   ]
  },
  {
   "cell_type": "markdown",
   "metadata": {},
   "source": [
    "## 2. Study the data distribution in each attribute, share your findings. (10 points)"
   ]
  },
  {
   "cell_type": "code",
   "execution_count": 4,
   "metadata": {},
   "outputs": [],
   "source": [
    "#Import matplotlib & seaborn libraries\n",
    "import matplotlib.pyplot as plt\n",
    "import seaborn as sns\n",
    "%matplotlib inline"
   ]
  },
  {
   "cell_type": "code",
   "execution_count": 5,
   "metadata": {},
   "outputs": [
    {
     "data": {
      "text/html": [
       "<div>\n",
       "<style scoped>\n",
       "    .dataframe tbody tr th:only-of-type {\n",
       "        vertical-align: middle;\n",
       "    }\n",
       "\n",
       "    .dataframe tbody tr th {\n",
       "        vertical-align: top;\n",
       "    }\n",
       "\n",
       "    .dataframe thead th {\n",
       "        text-align: right;\n",
       "    }\n",
       "</style>\n",
       "<table border=\"1\" class=\"dataframe\">\n",
       "  <thead>\n",
       "    <tr style=\"text-align: right;\">\n",
       "      <th></th>\n",
       "      <th>Age</th>\n",
       "      <th>Experience</th>\n",
       "      <th>Income</th>\n",
       "      <th>ZIP Code</th>\n",
       "      <th>Family</th>\n",
       "      <th>CCAvg</th>\n",
       "      <th>Education</th>\n",
       "      <th>Mortgage</th>\n",
       "      <th>Personal Loan</th>\n",
       "      <th>Securities Account</th>\n",
       "      <th>CD Account</th>\n",
       "      <th>Online</th>\n",
       "      <th>CreditCard</th>\n",
       "    </tr>\n",
       "  </thead>\n",
       "  <tbody>\n",
       "    <tr>\n",
       "      <th>count</th>\n",
       "      <td>5000.000000</td>\n",
       "      <td>5000.000000</td>\n",
       "      <td>5000.000000</td>\n",
       "      <td>5000.000000</td>\n",
       "      <td>5000.000000</td>\n",
       "      <td>5000.000000</td>\n",
       "      <td>5000.000000</td>\n",
       "      <td>5000.000000</td>\n",
       "      <td>5000.000000</td>\n",
       "      <td>5000.000000</td>\n",
       "      <td>5000.00000</td>\n",
       "      <td>5000.000000</td>\n",
       "      <td>5000.000000</td>\n",
       "    </tr>\n",
       "    <tr>\n",
       "      <th>mean</th>\n",
       "      <td>45.338400</td>\n",
       "      <td>20.104600</td>\n",
       "      <td>73.774200</td>\n",
       "      <td>93152.503000</td>\n",
       "      <td>2.396400</td>\n",
       "      <td>1.937938</td>\n",
       "      <td>1.881000</td>\n",
       "      <td>56.498800</td>\n",
       "      <td>0.096000</td>\n",
       "      <td>0.104400</td>\n",
       "      <td>0.06040</td>\n",
       "      <td>0.596800</td>\n",
       "      <td>0.294000</td>\n",
       "    </tr>\n",
       "    <tr>\n",
       "      <th>std</th>\n",
       "      <td>11.463166</td>\n",
       "      <td>11.467954</td>\n",
       "      <td>46.033729</td>\n",
       "      <td>2121.852197</td>\n",
       "      <td>1.147663</td>\n",
       "      <td>1.747659</td>\n",
       "      <td>0.839869</td>\n",
       "      <td>101.713802</td>\n",
       "      <td>0.294621</td>\n",
       "      <td>0.305809</td>\n",
       "      <td>0.23825</td>\n",
       "      <td>0.490589</td>\n",
       "      <td>0.455637</td>\n",
       "    </tr>\n",
       "    <tr>\n",
       "      <th>min</th>\n",
       "      <td>23.000000</td>\n",
       "      <td>-3.000000</td>\n",
       "      <td>8.000000</td>\n",
       "      <td>9307.000000</td>\n",
       "      <td>1.000000</td>\n",
       "      <td>0.000000</td>\n",
       "      <td>1.000000</td>\n",
       "      <td>0.000000</td>\n",
       "      <td>0.000000</td>\n",
       "      <td>0.000000</td>\n",
       "      <td>0.00000</td>\n",
       "      <td>0.000000</td>\n",
       "      <td>0.000000</td>\n",
       "    </tr>\n",
       "    <tr>\n",
       "      <th>25%</th>\n",
       "      <td>35.000000</td>\n",
       "      <td>10.000000</td>\n",
       "      <td>39.000000</td>\n",
       "      <td>91911.000000</td>\n",
       "      <td>1.000000</td>\n",
       "      <td>0.700000</td>\n",
       "      <td>1.000000</td>\n",
       "      <td>0.000000</td>\n",
       "      <td>0.000000</td>\n",
       "      <td>0.000000</td>\n",
       "      <td>0.00000</td>\n",
       "      <td>0.000000</td>\n",
       "      <td>0.000000</td>\n",
       "    </tr>\n",
       "    <tr>\n",
       "      <th>50%</th>\n",
       "      <td>45.000000</td>\n",
       "      <td>20.000000</td>\n",
       "      <td>64.000000</td>\n",
       "      <td>93437.000000</td>\n",
       "      <td>2.000000</td>\n",
       "      <td>1.500000</td>\n",
       "      <td>2.000000</td>\n",
       "      <td>0.000000</td>\n",
       "      <td>0.000000</td>\n",
       "      <td>0.000000</td>\n",
       "      <td>0.00000</td>\n",
       "      <td>1.000000</td>\n",
       "      <td>0.000000</td>\n",
       "    </tr>\n",
       "    <tr>\n",
       "      <th>75%</th>\n",
       "      <td>55.000000</td>\n",
       "      <td>30.000000</td>\n",
       "      <td>98.000000</td>\n",
       "      <td>94608.000000</td>\n",
       "      <td>3.000000</td>\n",
       "      <td>2.500000</td>\n",
       "      <td>3.000000</td>\n",
       "      <td>101.000000</td>\n",
       "      <td>0.000000</td>\n",
       "      <td>0.000000</td>\n",
       "      <td>0.00000</td>\n",
       "      <td>1.000000</td>\n",
       "      <td>1.000000</td>\n",
       "    </tr>\n",
       "    <tr>\n",
       "      <th>max</th>\n",
       "      <td>67.000000</td>\n",
       "      <td>43.000000</td>\n",
       "      <td>224.000000</td>\n",
       "      <td>96651.000000</td>\n",
       "      <td>4.000000</td>\n",
       "      <td>10.000000</td>\n",
       "      <td>3.000000</td>\n",
       "      <td>635.000000</td>\n",
       "      <td>1.000000</td>\n",
       "      <td>1.000000</td>\n",
       "      <td>1.00000</td>\n",
       "      <td>1.000000</td>\n",
       "      <td>1.000000</td>\n",
       "    </tr>\n",
       "  </tbody>\n",
       "</table>\n",
       "</div>"
      ],
      "text/plain": [
       "               Age   Experience       Income      ZIP Code       Family  \\\n",
       "count  5000.000000  5000.000000  5000.000000   5000.000000  5000.000000   \n",
       "mean     45.338400    20.104600    73.774200  93152.503000     2.396400   \n",
       "std      11.463166    11.467954    46.033729   2121.852197     1.147663   \n",
       "min      23.000000    -3.000000     8.000000   9307.000000     1.000000   \n",
       "25%      35.000000    10.000000    39.000000  91911.000000     1.000000   \n",
       "50%      45.000000    20.000000    64.000000  93437.000000     2.000000   \n",
       "75%      55.000000    30.000000    98.000000  94608.000000     3.000000   \n",
       "max      67.000000    43.000000   224.000000  96651.000000     4.000000   \n",
       "\n",
       "             CCAvg    Education     Mortgage  Personal Loan  \\\n",
       "count  5000.000000  5000.000000  5000.000000    5000.000000   \n",
       "mean      1.937938     1.881000    56.498800       0.096000   \n",
       "std       1.747659     0.839869   101.713802       0.294621   \n",
       "min       0.000000     1.000000     0.000000       0.000000   \n",
       "25%       0.700000     1.000000     0.000000       0.000000   \n",
       "50%       1.500000     2.000000     0.000000       0.000000   \n",
       "75%       2.500000     3.000000   101.000000       0.000000   \n",
       "max      10.000000     3.000000   635.000000       1.000000   \n",
       "\n",
       "       Securities Account  CD Account       Online   CreditCard  \n",
       "count         5000.000000  5000.00000  5000.000000  5000.000000  \n",
       "mean             0.104400     0.06040     0.596800     0.294000  \n",
       "std              0.305809     0.23825     0.490589     0.455637  \n",
       "min              0.000000     0.00000     0.000000     0.000000  \n",
       "25%              0.000000     0.00000     0.000000     0.000000  \n",
       "50%              0.000000     0.00000     1.000000     0.000000  \n",
       "75%              0.000000     0.00000     1.000000     1.000000  \n",
       "max              1.000000     1.00000     1.000000     1.000000  "
      ]
     },
     "execution_count": 5,
     "metadata": {},
     "output_type": "execute_result"
    }
   ],
   "source": [
    "#First studying the 5 point summary to check if all the Data are present & taking a look at median & mean to roughly understand the data distribution\n",
    "df.describe()"
   ]
  },
  {
   "cell_type": "code",
   "execution_count": 6,
   "metadata": {},
   "outputs": [
    {
     "name": "stderr",
     "output_type": "stream",
     "text": [
      "C:\\ProgramData\\Anaconda3\\lib\\site-packages\\scipy\\stats\\stats.py:1713: FutureWarning: Using a non-tuple sequence for multidimensional indexing is deprecated; use `arr[tuple(seq)]` instead of `arr[seq]`. In the future this will be interpreted as an array index, `arr[np.array(seq)]`, which will result either in an error or a different result.\n",
      "  return np.add.reduce(sorted[indexer] * weights, axis=axis) / sumval\n"
     ]
    },
    {
     "data": {
      "image/png": "[encoded data removed]",
      "text/plain": [
       "<Figure size 432x288 with 1 Axes>"
      ]
     },
     "metadata": {
      "needs_background": "light"
     },
     "output_type": "display_data"
    }
   ],
   "source": [
    "#KDE of Age\n",
    "sns.kdeplot(df['Age'])\n",
    "plt.show()"
   ]
  },
  {
   "cell_type": "code",
   "execution_count": 7,
   "metadata": {},
   "outputs": [
    {
     "name": "stderr",
     "output_type": "stream",
     "text": [
      "C:\\ProgramData\\Anaconda3\\lib\\site-packages\\scipy\\stats\\stats.py:1713: FutureWarning: Using a non-tuple sequence for multidimensional indexing is deprecated; use `arr[tuple(seq)]` instead of `arr[seq]`. In the future this will be interpreted as an array index, `arr[np.array(seq)]`, which will result either in an error or a different result.\n",
      "  return np.add.reduce(sorted[indexer] * weights, axis=axis) / sumval\n"
     ]
    },
    {
     "data": {
      "image/png": "[encoded data removed]",
      "text/plain": [
       "<Figure size 432x288 with 1 Axes>"
      ]
     },
     "metadata": {
      "needs_background": "light"
     },
     "output_type": "display_data"
    }
   ],
   "source": [
    "#KDE of Experience\n",
    "sns.kdeplot(df['Experience'])\n",
    "plt.show()"
   ]
  },
  {
   "cell_type": "code",
   "execution_count": 8,
   "metadata": {},
   "outputs": [
    {
     "name": "stderr",
     "output_type": "stream",
     "text": [
      "C:\\ProgramData\\Anaconda3\\lib\\site-packages\\scipy\\stats\\stats.py:1713: FutureWarning: Using a non-tuple sequence for multidimensional indexing is deprecated; use `arr[tuple(seq)]` instead of `arr[seq]`. In the future this will be interpreted as an array index, `arr[np.array(seq)]`, which will result either in an error or a different result.\n",
      "  return np.add.reduce(sorted[indexer] * weights, axis=axis) / sumval\n"
     ]
    },
    {
     "data": {
      "image/png": "[encoded data removed]",
      "text/plain": [
       "<Figure size 432x288 with 1 Axes>"
      ]
     },
     "metadata": {
      "needs_background": "light"
     },
     "output_type": "display_data"
    }
   ],
   "source": [
    "#KDE of Income\n",
    "sns.kdeplot(df['Income'])\n",
    "plt.show()"
   ]
  },
  {
   "cell_type": "code",
   "execution_count": 9,
   "metadata": {},
   "outputs": [
    {
     "name": "stderr",
     "output_type": "stream",
     "text": [
      "C:\\ProgramData\\Anaconda3\\lib\\site-packages\\scipy\\stats\\stats.py:1713: FutureWarning: Using a non-tuple sequence for multidimensional indexing is deprecated; use `arr[tuple(seq)]` instead of `arr[seq]`. In the future this will be interpreted as an array index, `arr[np.array(seq)]`, which will result either in an error or a different result.\n",
      "  return np.add.reduce(sorted[indexer] * weights, axis=axis) / sumval\n"
     ]
    },
    {
     "data": {
      "image/png": "[encoded data removed]",
      "text/plain": [
       "<Figure size 432x288 with 1 Axes>"
      ]
     },
     "metadata": {
      "needs_background": "light"
     },
     "output_type": "display_data"
    }
   ],
   "source": [
    "#KDE of Zipcode\n",
    "sns.kdeplot(df['ZIP Code'])\n",
    "plt.show()"
   ]
  },
  {
   "cell_type": "code",
   "execution_count": 10,
   "metadata": {},
   "outputs": [
    {
     "data": {
      "text/plain": [
       "[]"
      ]
     },
     "execution_count": 10,
     "metadata": {},
     "output_type": "execute_result"
    },
    {
     "data": {
      "image/png": "[encoded data removed]",
      "text/plain": [
       "<Figure size 432x288 with 1 Axes>"
      ]
     },
     "metadata": {
      "needs_background": "light"
     },
     "output_type": "display_data"
    }
   ],
   "source": [
    "#Countplot for Family\n",
    "sns.countplot(df['Family'])\n",
    "plt.plot()"
   ]
  },
  {
   "cell_type": "code",
   "execution_count": 11,
   "metadata": {},
   "outputs": [
    {
     "name": "stderr",
     "output_type": "stream",
     "text": [
      "C:\\ProgramData\\Anaconda3\\lib\\site-packages\\scipy\\stats\\stats.py:1713: FutureWarning: Using a non-tuple sequence for multidimensional indexing is deprecated; use `arr[tuple(seq)]` instead of `arr[seq]`. In the future this will be interpreted as an array index, `arr[np.array(seq)]`, which will result either in an error or a different result.\n",
      "  return np.add.reduce(sorted[indexer] * weights, axis=axis) / sumval\n"
     ]
    },
    {
     "data": {
      "image/png": "[encoded data removed]",
      "text/plain": [
       "<Figure size 432x288 with 1 Axes>"
      ]
     },
     "metadata": {
      "needs_background": "light"
     },
     "output_type": "display_data"
    }
   ],
   "source": [
    "#KDE of CCAvg\n",
    "sns.kdeplot(df['CCAvg'])\n",
    "plt.show()"
   ]
  },
  {
   "cell_type": "code",
   "execution_count": 12,
   "metadata": {},
   "outputs": [
    {
     "data": {
      "image/png": "[encoded data removed]",
      "text/plain": [
       "<Figure size 432x288 with 1 Axes>"
      ]
     },
     "metadata": {
      "needs_background": "light"
     },
     "output_type": "display_data"
    }
   ],
   "source": [
    "#Countplot for Education\n",
    "sns.countplot(df['Education'])\n",
    "plt.show()"
   ]
  },
  {
   "cell_type": "code",
   "execution_count": 13,
   "metadata": {},
   "outputs": [
    {
     "name": "stderr",
     "output_type": "stream",
     "text": [
      "C:\\ProgramData\\Anaconda3\\lib\\site-packages\\scipy\\stats\\stats.py:1713: FutureWarning: Using a non-tuple sequence for multidimensional indexing is deprecated; use `arr[tuple(seq)]` instead of `arr[seq]`. In the future this will be interpreted as an array index, `arr[np.array(seq)]`, which will result either in an error or a different result.\n",
      "  return np.add.reduce(sorted[indexer] * weights, axis=axis) / sumval\n"
     ]
    },
    {
     "data": {
      "image/png": "[encoded data removed]",
      "text/plain": [
       "<Figure size 432x288 with 1 Axes>"
      ]
     },
     "metadata": {
      "needs_background": "light"
     },
     "output_type": "display_data"
    }
   ],
   "source": [
    "#KDE of Mortgage\n",
    "sns.kdeplot(df['Mortgage'])\n",
    "plt.show()"
   ]
  },
  {
   "cell_type": "code",
   "execution_count": 14,
   "metadata": {},
   "outputs": [
    {
     "data": {
      "image/png": "[encoded data removed]",
      "text/plain": [
       "<Figure size 432x288 with 1 Axes>"
      ]
     },
     "metadata": {
      "needs_background": "light"
     },
     "output_type": "display_data"
    }
   ],
   "source": [
    "#Countplot of Securities Account\n",
    "sns.countplot(df['Securities Account'])\n",
    "plt.show()"
   ]
  },
  {
   "cell_type": "code",
   "execution_count": 15,
   "metadata": {},
   "outputs": [
    {
     "data": {
      "image/png": "[encoded data removed]",
      "text/plain": [
       "<Figure size 432x288 with 1 Axes>"
      ]
     },
     "metadata": {
      "needs_background": "light"
     },
     "output_type": "display_data"
    }
   ],
   "source": [
    "#Countplot of CD Account\n",
    "sns.countplot(df['CD Account'])\n",
    "plt.show()"
   ]
  },
  {
   "cell_type": "code",
   "execution_count": 16,
   "metadata": {},
   "outputs": [
    {
     "data": {
      "image/png": "[encoded data removed]",
      "text/plain": [
       "<Figure size 432x288 with 1 Axes>"
      ]
     },
     "metadata": {
      "needs_background": "light"
     },
     "output_type": "display_data"
    }
   ],
   "source": [
    "#Countplot of Online\n",
    "sns.countplot(df['Online'])\n",
    "plt.show()"
   ]
  },
  {
   "cell_type": "code",
   "execution_count": 17,
   "metadata": {},
   "outputs": [
    {
     "data": {
      "image/png": "[encoded data removed]",
      "text/plain": [
       "<Figure size 432x288 with 1 Axes>"
      ]
     },
     "metadata": {
      "needs_background": "light"
     },
     "output_type": "display_data"
    }
   ],
   "source": [
    "#Countplot of CreditCard\n",
    "sns.countplot(df['CreditCard'])\n",
    "plt.show()"
   ]
  },
  {
   "cell_type": "markdown",
   "metadata": {},
   "source": [
    "### Findings about Data distribution of each attribute:\n",
    "From 5-point analysis, we can see that there are no missing values for any attributes. There are many 0s in Mortgage attribute but that is normal. And there are few negative values for Experience column. It might be a sampling or data entry mistake or it might suggest that the Customer is planning to start working in so many years in future. But, keeping negative values for Experience is meaningless & hence we will replace them with 0s.\n",
    "\n",
    "**Below are the findings about Data distribution from KDE / countplots as applicable:**\n",
    "\n",
    "**Age:** Age is more or less uniformly distibuted with little tappering towards tails. But, it also shows 3 local peaks which might suggest that either the data-points from different samples are mixed or it might also mean that some Customers have mentioned their age in round figures of 5s or 10s. But, since the peaks aren't prominent, we can continue with this data for modelling.\n",
    "\n",
    "**Experience:** Experience has very similar distribution like Age. And as said above, we would put negative values as 0s which might change the distribution a little.\n",
    "\n",
    "**Income:** Income is positively skewed which is natural. But, it has an unusal local peak at around $80,000 with a global peak at around 40,000 annualy.\n",
    "\n",
    "**ZIPCode:** ZIP Code distribution is negatively skewed but as we can see, we have few ZIP Codes with 4 digit values. There are 3 peaks suggesting us that there would be many samples taken from 3 zones with samples from other zones distributed sparsely. Technically speaking, giving numerical weightage to zones is wrong & we have many different values of ZIP Codes. So, treating it with one hot-encoding would not be a good idea. So, we should rather drop this attribute from our model building.\n",
    "\n",
    "**Family:** Count plot for Family size suggests that Customers stay in nuclear families with no more than 4 family members. It has highest peak for 1 member suggesting most of the customers are single & would be staying away from their own town to pursue their careers. Next highest count is for 2 which suggests couples. Next highest count is for 4 & then 3 which suggests Customers either don't prefer kids or if they prefer having kids, they prefer them 2 over 1 kids.\n",
    "\n",
    "**CCAvg:** Distribution of this attribute is positively skewed with 2 peaks which suggests that most of the Customers don't use Credit cards & if they use credit cards, maximum of them have average Credit Card spending of little less than $2,000/month.\n",
    "\n",
    "**Education:** Countplot of this attribute shows us that maximum customers are under-graduates. Next peak is for Adnavced/Professional Education qualification which is slightly grater than Graduates. This means maximum Customers pursue only Under-graduate qualification & if they go for higher studies, more people opt for advanced/Professional Educational qualifications than simply doing Graduation.\n",
    "\n",
    "**Mortgage:** Distribution of this attribute is positively skewed with 2 peaks which suggests that vast majority of Customers don't have any Mortgage & if they have maximum have it around $100,000.\n",
    "\n",
    "**Securities Account:** Countplot shows us that vast majority of Customers don't have Securities Account.\n",
    "\n",
    "**CD Account:** Countplot shows us that vast majority of Customers don't have CD Account.\n",
    "\n",
    "**Online:** Countplot shows that maximum people have Online Banking facility\n",
    "\n",
    "**CreditCard:** Countplot shows maximum people don't have Credit Cards."
   ]
  },
  {
   "cell_type": "code",
   "execution_count": 18,
   "metadata": {},
   "outputs": [],
   "source": [
    "#Dropping ZIPCode column\n",
    "df.drop('ZIP Code', axis=1, inplace=True)\n",
    "\n",
    "#Treating -ve Experience\n",
    "df['Experience'].clip_lower(0, inplace=True)"
   ]
  },
  {
   "cell_type": "code",
   "execution_count": 19,
   "metadata": {},
   "outputs": [
    {
     "name": "stderr",
     "output_type": "stream",
     "text": [
      "C:\\ProgramData\\Anaconda3\\lib\\site-packages\\scipy\\stats\\stats.py:1713: FutureWarning: Using a non-tuple sequence for multidimensional indexing is deprecated; use `arr[tuple(seq)]` instead of `arr[seq]`. In the future this will be interpreted as an array index, `arr[np.array(seq)]`, which will result either in an error or a different result.\n",
      "  return np.add.reduce(sorted[indexer] * weights, axis=axis) / sumval\n"
     ]
    },
    {
     "data": {
      "image/png": "[encoded data removed]",
      "text/plain": [
       "<Figure size 432x288 with 1 Axes>"
      ]
     },
     "metadata": {
      "needs_background": "light"
     },
     "output_type": "display_data"
    }
   ],
   "source": [
    "#Replotting KDE of Experience after treating -ve values\n",
    "sns.kdeplot(df['Experience'])\n",
    "plt.show()"
   ]
  },
  {
   "cell_type": "markdown",
   "metadata": {},
   "source": [
    "### Findings about Data distribution of each attribute (contd.):\n",
    "After treating negative values for Experience, the distribution doesn't change much."
   ]
  },
  {
   "cell_type": "markdown",
   "metadata": {},
   "source": [
    "## 3. Get the target column distribution. Your comments"
   ]
  },
  {
   "cell_type": "code",
   "execution_count": 20,
   "metadata": {},
   "outputs": [
    {
     "data": {
      "image/png": "[encoded data removed]",
      "text/plain": [
       "<Figure size 432x288 with 1 Axes>"
      ]
     },
     "metadata": {
      "needs_background": "light"
     },
     "output_type": "display_data"
    }
   ],
   "source": [
    "#Countplot of Personal Loan\n",
    "sns.countplot(df['Personal Loan'])\n",
    "plt.show()"
   ]
  },
  {
   "cell_type": "markdown",
   "metadata": {},
   "source": [
    "### Comments about target column distribution:\n",
    "Seeing target column's distribution, we can see that around 500 Customers took Personal Loan out of 5000 targeted. This is in line with 480 Customers taking Personal loan as per description of the Problem.\n",
    "\n",
    "Since, we have less than 10% data points, KNN model will give poor results as Customers who didn't take Personal Loans would out-weigh the Customers who took Personal Loans.\n",
    "\n",
    "Naïve Bayes model assumes that all attributes are independent. Without plotting pairplots or studying correlation of attributes with one another, it is difficult to say that attributes would be independent or not. But, with common sense we can say that Experience would be somewhat correlated with Age & Income would be highly correlated with Experience & Education. There might be other correlations as well. So Naïve Bayes model might not work well.\n",
    "\n",
    "Logistic Regression would work well on linear data. Without studying attributes further it's difficult to say if attributes have linear relationship or not."
   ]
  },
  {
   "cell_type": "markdown",
   "metadata": {},
   "source": [
    "## 4. Split the data into training and test set in the ratio of 70:30 respectively"
   ]
  },
  {
   "cell_type": "code",
   "execution_count": 21,
   "metadata": {},
   "outputs": [],
   "source": [
    "#Import train_test_split function\n",
    "from sklearn.model_selection import train_test_split\n",
    "\n",
    "#Split dataset into training set and test set\n",
    "X_train, X_test, y_train, y_test = train_test_split(df.drop('Personal Loan', axis=1), df['Personal Loan'], test_size=0.3) # 70% training and 30% test"
   ]
  },
  {
   "cell_type": "markdown",
   "metadata": {},
   "source": [
    "## 5. Use different classification models (Logistic, K-NN and Naïve Bayes) to predict the likelihood of a liability customer buying personal loans (30 points)\n",
    "## 6. Print the confusion matrix for all the above models (10 points)"
   ]
  },
  {
   "cell_type": "code",
   "execution_count": 22,
   "metadata": {},
   "outputs": [],
   "source": [
    "#Import LogisticRegression module from Scikit learn Linear model\n",
    "from sklearn.linear_model import LogisticRegression"
   ]
  },
  {
   "cell_type": "code",
   "execution_count": 23,
   "metadata": {},
   "outputs": [
    {
     "name": "stdout",
     "output_type": "stream",
     "text": [
      "Accuracy of the Logisitic Regression model on Training data is 0.9497142857142857\n",
      "Accuracy of the Logisitic Regression model on Testing data is 0.9466666666666667\n",
      "Classification Report for Training data is:\n",
      "              precision    recall  f1-score   support\n",
      "\n",
      "          0       0.96      0.99      0.97      3163\n",
      "          1       0.82      0.61      0.70       337\n",
      "\n",
      "avg / total       0.95      0.95      0.95      3500\n",
      "\n",
      "Classification Report for Testing data is:\n",
      "              precision    recall  f1-score   support\n",
      "\n",
      "          0       0.96      0.98      0.97      1357\n",
      "          1       0.79      0.60      0.68       143\n",
      "\n",
      "avg / total       0.94      0.95      0.94      1500\n",
      "\n",
      "Confusion matrix is as follows:\n",
      " [[1334   23]\n",
      " [  57   86]]\n"
     ]
    }
   ],
   "source": [
    "#Initiate LogisticRegression\n",
    "model = LogisticRegression()\n",
    "\n",
    "#Fit the model on training data\n",
    "model.fit(X_train, y_train)\n",
    "\n",
    "#Predict y for training & test set\n",
    "y_train_predict = model.predict(X_train)\n",
    "y_test_predict = model.predict(X_test)\n",
    "\n",
    "#Calculate accuracy on Training & Testing data\n",
    "model_train_score = model.score(X_train, y_train)\n",
    "model_test_score = model.score(X_test, y_test)\n",
    "\n",
    "#Print Accuracy\n",
    "print(\"Accuracy of the Logisitic Regression model on Training data is\", model_train_score)\n",
    "print(\"Accuracy of the Logisitic Regression model on Testing data is\", model_test_score)\n",
    "\n",
    "#Import metrics module from Scikit learn library\n",
    "from sklearn import metrics\n",
    "\n",
    "#Printing Classification report for Training & testing data\n",
    "print(\"Classification Report for Training data is:\\n\", metrics.classification_report(y_train, y_train_predict))\n",
    "print(\"Classification Report for Testing data is:\\n\", metrics.classification_report(y_test, y_test_predict))\n",
    "\n",
    "#Confusion matrix\n",
    "print(\"Confusion matrix is as follows:\\n\", metrics.confusion_matrix(y_test, y_test_predict))"
   ]
  },
  {
   "cell_type": "code",
   "execution_count": 24,
   "metadata": {},
   "outputs": [],
   "source": [
    "#Import KNN module from Scikit learn Neighbors module\n",
    "from sklearn.neighbors import KNeighborsClassifier"
   ]
  },
  {
   "cell_type": "code",
   "execution_count": 25,
   "metadata": {},
   "outputs": [
    {
     "name": "stdout",
     "output_type": "stream",
     "text": [
      "Accuracy of the KNN model on Training data is 0.9542857142857143\n",
      "Accuracy of the KNN model on Testing data is 0.9053333333333333\n",
      "Classification Report for Training data is:\n",
      "              precision    recall  f1-score   support\n",
      "\n",
      "          0       0.96      0.99      0.97      3163\n",
      "          1       0.83      0.66      0.74       337\n",
      "\n",
      "avg / total       0.95      0.95      0.95      3500\n",
      "\n",
      "Classification Report for Testing data is:\n",
      "              precision    recall  f1-score   support\n",
      "\n",
      "          0       0.94      0.96      0.95      1357\n",
      "          1       0.50      0.37      0.43       143\n",
      "\n",
      "avg / total       0.89      0.91      0.90      1500\n",
      "\n",
      "Confusion matrix is as follows:\n",
      " [[1305   52]\n",
      " [  90   53]]\n"
     ]
    }
   ],
   "source": [
    "#Initialize KNN object with 3 neighbors\n",
    "model = KNeighborsClassifier(n_neighbors=3)\n",
    "\n",
    "#Fit the model on training data\n",
    "model.fit(X_train, y_train)\n",
    "\n",
    "#Predict y for training & test set\n",
    "y_train_predict = model.predict(X_train)\n",
    "y_test_predict = model.predict(X_test)\n",
    "\n",
    "#Calculate accuracy on Training & Testing data\n",
    "model_train_score = model.score(X_train, y_train)\n",
    "model_test_score = model.score(X_test, y_test)\n",
    "\n",
    "#Print Accuracy\n",
    "print(\"Accuracy of the KNN model on Training data is\", model_train_score)\n",
    "print(\"Accuracy of the KNN model on Testing data is\", model_test_score)\n",
    "\n",
    "#Printing Classification report for Training & testing data\n",
    "print(\"Classification Report for Training data is:\\n\", metrics.classification_report(y_train, y_train_predict))\n",
    "print(\"Classification Report for Testing data is:\\n\", metrics.classification_report(y_test, y_test_predict))\n",
    "\n",
    "#Confusion matrix\n",
    "print(\"Confusion matrix is as follows:\\n\", metrics.confusion_matrix(y_test, y_test_predict))"
   ]
  },
  {
   "cell_type": "code",
   "execution_count": 26,
   "metadata": {},
   "outputs": [
    {
     "name": "stdout",
     "output_type": "stream",
     "text": [
      "Accuracy of the KNN model on Training data is 0.9374285714285714\n",
      "Accuracy of the KNN model on Testing data is 0.908\n",
      "Classification Report for Training data is:\n",
      "              precision    recall  f1-score   support\n",
      "\n",
      "          0       0.95      0.98      0.97      3163\n",
      "          1       0.76      0.51      0.61       337\n",
      "\n",
      "avg / total       0.93      0.94      0.93      3500\n",
      "\n",
      "Classification Report for Testing data is:\n",
      "              precision    recall  f1-score   support\n",
      "\n",
      "          0       0.93      0.97      0.95      1357\n",
      "          1       0.53      0.36      0.43       143\n",
      "\n",
      "avg / total       0.90      0.91      0.90      1500\n",
      "\n",
      "Confusion matrix is as follows:\n",
      " [[1311   46]\n",
      " [  92   51]]\n"
     ]
    }
   ],
   "source": [
    "#We are getting very poor test data accuracy. Increasing number of neighbors might give more chance of non Personal Loan takers to outvote Perdonal Loan takers due to number. Nevertheless, let's try with 5 neighbors\n",
    "#Initialize KNN object with 5 neighbors\n",
    "model = KNeighborsClassifier(n_neighbors=5)\n",
    "\n",
    "#Fit the model on training data\n",
    "model.fit(X_train, y_train)\n",
    "\n",
    "#Predict y for training & test set\n",
    "y_train_predict = model.predict(X_train)\n",
    "y_test_predict = model.predict(X_test)\n",
    "\n",
    "#Calculate accuracy on Training & Testing data\n",
    "model_train_score = model.score(X_train, y_train)\n",
    "model_test_score = model.score(X_test, y_test)\n",
    "\n",
    "#Print Accuracy\n",
    "print(\"Accuracy of the KNN model on Training data is\", model_train_score)\n",
    "print(\"Accuracy of the KNN model on Testing data is\", model_test_score)\n",
    "\n",
    "#Printing Classification report for Training & testing data\n",
    "print(\"Classification Report for Training data is:\\n\", metrics.classification_report(y_train, y_train_predict))\n",
    "print(\"Classification Report for Testing data is:\\n\", metrics.classification_report(y_test, y_test_predict))\n",
    "\n",
    "#Confusion matrix\n",
    "print(\"Confusion matrix is as follows:\\n\", metrics.confusion_matrix(y_test, y_test_predict))"
   ]
  },
  {
   "cell_type": "code",
   "execution_count": 27,
   "metadata": {},
   "outputs": [],
   "source": [
    "#Import GaussianNB module from Scikit Learn Naive bayes module\n",
    "from sklearn.naive_bayes import GaussianNB"
   ]
  },
  {
   "cell_type": "code",
   "execution_count": 28,
   "metadata": {},
   "outputs": [
    {
     "name": "stdout",
     "output_type": "stream",
     "text": [
      "Accuracy of the Naive Bayes model on Training data is 0.8842857142857142\n",
      "Accuracy of the Naive Bayes model on Testing data is 0.882\n",
      "Classification Report for Training data is:\n",
      "              precision    recall  f1-score   support\n",
      "\n",
      "          0       0.95      0.92      0.93      3163\n",
      "          1       0.43      0.58      0.49       337\n",
      "\n",
      "avg / total       0.90      0.88      0.89      3500\n",
      "\n",
      "Classification Report for Testing data is:\n",
      "              precision    recall  f1-score   support\n",
      "\n",
      "          0       0.96      0.91      0.93      1357\n",
      "          1       0.42      0.62      0.50       143\n",
      "\n",
      "avg / total       0.91      0.88      0.89      1500\n",
      "\n",
      "Confusion matrix is as follows:\n",
      " [[1235  122]\n",
      " [  55   88]]\n"
     ]
    }
   ],
   "source": [
    "#Initialize GaussianNB object\n",
    "model = GaussianNB()\n",
    "\n",
    "#Fit the model on training data\n",
    "model.fit(X_train, y_train)\n",
    "\n",
    "#Predict y for training & test set\n",
    "y_train_predict = model.predict(X_train)\n",
    "y_test_predict = model.predict(X_test)\n",
    "\n",
    "#Calculate accuracy on Training & Testing data\n",
    "model_train_score = model.score(X_train, y_train)\n",
    "model_test_score = model.score(X_test, y_test)\n",
    "\n",
    "#Print Accuracy\n",
    "print(\"Accuracy of the Naive Bayes model on Training data is\", model_train_score)\n",
    "print(\"Accuracy of the Naive Bayes model on Testing data is\", model_test_score)\n",
    "\n",
    "#Printing Classification report for Training & testing data\n",
    "print(\"Classification Report for Training data is:\\n\", metrics.classification_report(y_train, y_train_predict))\n",
    "print(\"Classification Report for Testing data is:\\n\", metrics.classification_report(y_test, y_test_predict))\n",
    "\n",
    "#Confusion matrix\n",
    "print(\"Confusion matrix is as follows:\\n\", metrics.confusion_matrix(y_test, y_test_predict))"
   ]
  },
  {
   "cell_type": "markdown",
   "metadata": {},
   "source": [
    "### Inference:\n",
    "We can see that Logisitc Regression is giving better results but results for KNN & Naive Bayes are quite poor.\n",
    "\n",
    "Let's try scaling our attributes using Z-score & retry modelling them"
   ]
  },
  {
   "cell_type": "code",
   "execution_count": 29,
   "metadata": {},
   "outputs": [],
   "source": [
    "#Importing zscore module from Scientific Python stats module\n",
    "from scipy.stats import zscore"
   ]
  },
  {
   "cell_type": "code",
   "execution_count": 30,
   "metadata": {},
   "outputs": [],
   "source": [
    "df_scaled = df\n",
    "df_scaled['Age'] = zscore(df['Age'])\n",
    "df_scaled['Experience'] = zscore(df['Experience'])\n",
    "df_scaled['Income'] = zscore(df['Income'])\n",
    "df_scaled['Family'] = zscore(df['Family'])\n",
    "df_scaled['CCAvg'] = zscore(df['CCAvg'])\n",
    "df_scaled['Education'] = zscore(df['Education'])\n",
    "df_scaled['Mortgage'] = zscore(df['Mortgage'])\n",
    "\n",
    "#No need to transform binary attributes"
   ]
  },
  {
   "cell_type": "code",
   "execution_count": 31,
   "metadata": {},
   "outputs": [],
   "source": [
    "#Split dataset into training set and test set\n",
    "X_train, X_test, y_train, y_test = train_test_split(df_scaled.drop('Personal Loan', axis=1), df_scaled['Personal Loan'], test_size=0.3) # 70% training and 30% test"
   ]
  },
  {
   "cell_type": "code",
   "execution_count": 32,
   "metadata": {},
   "outputs": [
    {
     "name": "stdout",
     "output_type": "stream",
     "text": [
      "Accuracy of the Logisitic Regression model on Training data is 0.9525714285714286\n",
      "Accuracy of the Logisitic Regression model on Testing data is 0.948\n",
      "Classification Report for Training data is:\n",
      "              precision    recall  f1-score   support\n",
      "\n",
      "          0       0.96      0.99      0.97      3172\n",
      "          1       0.83      0.62      0.71       328\n",
      "\n",
      "avg / total       0.95      0.95      0.95      3500\n",
      "\n",
      "Classification Report for Testing data is:\n",
      "              precision    recall  f1-score   support\n",
      "\n",
      "          0       0.96      0.98      0.97      1348\n",
      "          1       0.81      0.64      0.71       152\n",
      "\n",
      "avg / total       0.94      0.95      0.95      1500\n",
      "\n",
      "Confusion matrix is as follows:\n",
      " [[1325   23]\n",
      " [  55   97]]\n"
     ]
    }
   ],
   "source": [
    "#Initiate LogisticRegression\n",
    "model = LogisticRegression()\n",
    "\n",
    "#Fit the model on training data\n",
    "model.fit(X_train, y_train)\n",
    "\n",
    "#Predict y for training & test set\n",
    "y_train_predict = model.predict(X_train)\n",
    "y_test_predict = model.predict(X_test)\n",
    "\n",
    "#Calculate accuracy on Training & Testing data\n",
    "model_train_score = model.score(X_train, y_train)\n",
    "model_test_score = model.score(X_test, y_test)\n",
    "\n",
    "#Print Accuracy\n",
    "print(\"Accuracy of the Logisitic Regression model on Training data is\", model_train_score)\n",
    "print(\"Accuracy of the Logisitic Regression model on Testing data is\", model_test_score)\n",
    "\n",
    "#Printing Classification report for Training & testing data\n",
    "print(\"Classification Report for Training data is:\\n\", metrics.classification_report(y_train, y_train_predict))\n",
    "print(\"Classification Report for Testing data is:\\n\", metrics.classification_report(y_test, y_test_predict))\n",
    "\n",
    "#Confusion matrix\n",
    "print(\"Confusion matrix is as follows:\\n\", metrics.confusion_matrix(y_test, y_test_predict))"
   ]
  },
  {
   "cell_type": "code",
   "execution_count": 33,
   "metadata": {},
   "outputs": [
    {
     "name": "stdout",
     "output_type": "stream",
     "text": [
      "Accuracy of the KNN model on Training data is 0.9771428571428571\n",
      "Accuracy of the KNN model on Testing data is 0.962\n",
      "Classification Report for Training data is:\n",
      "              precision    recall  f1-score   support\n",
      "\n",
      "          0       0.98      1.00      0.99      3172\n",
      "          1       1.00      0.76      0.86       328\n",
      "\n",
      "avg / total       0.98      0.98      0.98      3500\n",
      "\n",
      "Classification Report for Testing data is:\n",
      "              precision    recall  f1-score   support\n",
      "\n",
      "          0       0.96      1.00      0.98      1348\n",
      "          1       0.98      0.64      0.77       152\n",
      "\n",
      "avg / total       0.96      0.96      0.96      1500\n",
      "\n",
      "Confusion matrix is as follows:\n",
      " [[1346    2]\n",
      " [  55   97]]\n"
     ]
    }
   ],
   "source": [
    "#Initialize KNN object with 3 neighbors\n",
    "model = KNeighborsClassifier(n_neighbors=3)\n",
    "\n",
    "#Fit the model on training data\n",
    "model.fit(X_train, y_train)\n",
    "\n",
    "#Predict y for training & test set\n",
    "y_train_predict = model.predict(X_train)\n",
    "y_test_predict = model.predict(X_test)\n",
    "\n",
    "#Calculate accuracy on Training & Testing data\n",
    "model_train_score = model.score(X_train, y_train)\n",
    "model_test_score = model.score(X_test, y_test)\n",
    "\n",
    "#Print Accuracy\n",
    "print(\"Accuracy of the KNN model on Training data is\", model_train_score)\n",
    "print(\"Accuracy of the KNN model on Testing data is\", model_test_score)\n",
    "\n",
    "#Printing Classification report for Training & testing data\n",
    "print(\"Classification Report for Training data is:\\n\", metrics.classification_report(y_train, y_train_predict))\n",
    "print(\"Classification Report for Testing data is:\\n\", metrics.classification_report(y_test, y_test_predict))\n",
    "\n",
    "#Confusion matrix\n",
    "print(\"Confusion matrix is as follows:\\n\", metrics.confusion_matrix(y_test, y_test_predict))"
   ]
  },
  {
   "cell_type": "code",
   "execution_count": 34,
   "metadata": {},
   "outputs": [
    {
     "name": "stdout",
     "output_type": "stream",
     "text": [
      "Accuracy of the KNN model on Training data is 0.9702857142857143\n",
      "Accuracy of the KNN model on Testing data is 0.9606666666666667\n",
      "Classification Report for Training data is:\n",
      "              precision    recall  f1-score   support\n",
      "\n",
      "          0       0.97      1.00      0.98      3172\n",
      "          1       0.99      0.69      0.81       328\n",
      "\n",
      "avg / total       0.97      0.97      0.97      3500\n",
      "\n",
      "Classification Report for Testing data is:\n",
      "              precision    recall  f1-score   support\n",
      "\n",
      "          0       0.96      1.00      0.98      1348\n",
      "          1       1.00      0.61      0.76       152\n",
      "\n",
      "avg / total       0.96      0.96      0.96      1500\n",
      "\n",
      "Confusion matrix is as follows:\n",
      " [[1348    0]\n",
      " [  59   93]]\n"
     ]
    }
   ],
   "source": [
    "#We got very good test data accuracy this time. Increasing number of neighbors might give more chance of non Personal Loan takers to outvote Perdonal Loan takers due to number. Nevertheless, let's try with 5 neighbors\n",
    "#Initialize KNN object with 5 neighbors\n",
    "model = KNeighborsClassifier(n_neighbors=5)\n",
    "\n",
    "#Fit the model on training data\n",
    "model.fit(X_train, y_train)\n",
    "\n",
    "#Predict y for training & test set\n",
    "y_train_predict = model.predict(X_train)\n",
    "y_test_predict = model.predict(X_test)\n",
    "\n",
    "#Calculate accuracy on Training & Testing data\n",
    "model_train_score = model.score(X_train, y_train)\n",
    "model_test_score = model.score(X_test, y_test)\n",
    "\n",
    "#Print Accuracy\n",
    "print(\"Accuracy of the KNN model on Training data is\", model_train_score)\n",
    "print(\"Accuracy of the KNN model on Testing data is\", model_test_score)\n",
    "\n",
    "#Printing Classification report for Training & testing data\n",
    "print(\"Classification Report for Training data is:\\n\", metrics.classification_report(y_train, y_train_predict))\n",
    "print(\"Classification Report for Testing data is:\\n\", metrics.classification_report(y_test, y_test_predict))\n",
    "\n",
    "#Confusion matrix\n",
    "print(\"Confusion matrix is as follows:\\n\", metrics.confusion_matrix(y_test, y_test_predict))"
   ]
  },
  {
   "cell_type": "code",
   "execution_count": 35,
   "metadata": {},
   "outputs": [
    {
     "name": "stdout",
     "output_type": "stream",
     "text": [
      "Accuracy of the Naive Bayes model on Training data is 0.8851428571428571\n",
      "Accuracy of the Naive Bayes model on Testing data is 0.88\n",
      "Classification Report for Training data is:\n",
      "              precision    recall  f1-score   support\n",
      "\n",
      "          0       0.96      0.91      0.94      3172\n",
      "          1       0.42      0.61      0.50       328\n",
      "\n",
      "avg / total       0.91      0.89      0.89      3500\n",
      "\n",
      "Classification Report for Testing data is:\n",
      "              precision    recall  f1-score   support\n",
      "\n",
      "          0       0.95      0.91      0.93      1348\n",
      "          1       0.43      0.60      0.50       152\n",
      "\n",
      "avg / total       0.90      0.88      0.89      1500\n",
      "\n",
      "Confusion matrix is as follows:\n",
      " [[1229  119]\n",
      " [  61   91]]\n"
     ]
    }
   ],
   "source": [
    "#Initialize GaussianNB object\n",
    "model = GaussianNB()\n",
    "\n",
    "#Fit the model on training data\n",
    "model.fit(X_train, y_train)\n",
    "\n",
    "#Predict y for training & test set\n",
    "y_train_predict = model.predict(X_train)\n",
    "y_test_predict = model.predict(X_test)\n",
    "\n",
    "#Calculate accuracy on Training & Testing data\n",
    "model_train_score = model.score(X_train, y_train)\n",
    "model_test_score = model.score(X_test, y_test)\n",
    "\n",
    "#Print Accuracy\n",
    "print(\"Accuracy of the Naive Bayes model on Training data is\", model_train_score)\n",
    "print(\"Accuracy of the Naive Bayes model on Testing data is\", model_test_score)\n",
    "\n",
    "#Printing Classification report for Training & testing data\n",
    "print(\"Classification Report for Training data is:\\n\", metrics.classification_report(y_train, y_train_predict))\n",
    "print(\"Classification Report for Testing data is:\\n\", metrics.classification_report(y_test, y_test_predict))\n",
    "\n",
    "#Confusion matrix\n",
    "print(\"Confusion matrix is as follows:\\n\", metrics.confusion_matrix(y_test, y_test_predict))"
   ]
  },
  {
   "cell_type": "markdown",
   "metadata": {},
   "source": [
    "### Inference (contd.):\n",
    "As we saw, Logistic Regression model gave better results before scaling.\n",
    "\n",
    "It's accuracy didn't change much on scaled data.\n",
    "\n",
    "But, since distance of higher magnitude attributes out weigh the lower magnitude attributes, we saw that KNN result was much better after scaling the data.\n",
    "\n",
    "But, since we have more than 90% data points for non Personal Loan takers, if we increase the number of neighbors, they will begin out voting the Personal Loan taker neighbors. Hence, increasing K neighbor value is starting to deteriorate the perfromance. But for K=3, we are getting very good results. In fact, even F1-score is good for Personal Loan takers for KNN with K=3 on scaled data. For this reason, let's also try with K=1 & see if the accuracy improves further.\n",
    "\n",
    "Naive Bayes model's results are very poor, both before scaling & after scaling the data."
   ]
  },
  {
   "cell_type": "code",
   "execution_count": 36,
   "metadata": {},
   "outputs": [
    {
     "name": "stdout",
     "output_type": "stream",
     "text": [
      "Accuracy of the KNN model on Training data is 1.0\n",
      "Accuracy of the KNN model on Testing data is 0.9626666666666667\n",
      "Classification Report for Training data is:\n",
      "              precision    recall  f1-score   support\n",
      "\n",
      "          0       1.00      1.00      1.00      3172\n",
      "          1       1.00      1.00      1.00       328\n",
      "\n",
      "avg / total       1.00      1.00      1.00      3500\n",
      "\n",
      "Classification Report for Testing data is:\n",
      "              precision    recall  f1-score   support\n",
      "\n",
      "          0       0.97      0.99      0.98      1348\n",
      "          1       0.90      0.71      0.79       152\n",
      "\n",
      "avg / total       0.96      0.96      0.96      1500\n",
      "\n",
      "Confusion matrix is as follows:\n",
      " [[1336   12]\n",
      " [  44  108]]\n"
     ]
    }
   ],
   "source": [
    "#Initialize KNN object with 1 neighbor\n",
    "model = KNeighborsClassifier(n_neighbors=1)\n",
    "\n",
    "#Fit the model on training data\n",
    "model.fit(X_train, y_train)\n",
    "\n",
    "#Predict y for training & test set\n",
    "y_train_predict = model.predict(X_train)\n",
    "y_test_predict = model.predict(X_test)\n",
    "\n",
    "#Calculate accuracy on Training & Testing data\n",
    "model_train_score = model.score(X_train, y_train)\n",
    "model_test_score = model.score(X_test, y_test)\n",
    "\n",
    "#Print Accuracy\n",
    "print(\"Accuracy of the KNN model on Training data is\", model_train_score)\n",
    "print(\"Accuracy of the KNN model on Testing data is\", model_test_score)\n",
    "\n",
    "#Printing Classification report for Training & testing data\n",
    "print(\"Classification Report for Training data is:\\n\", metrics.classification_report(y_train, y_train_predict))\n",
    "print(\"Classification Report for Testing data is:\\n\", metrics.classification_report(y_test, y_test_predict))\n",
    "\n",
    "#Confusion matrix\n",
    "print(\"Confusion matrix is as follows:\\n\", metrics.confusion_matrix(y_test, y_test_predict))"
   ]
  },
  {
   "cell_type": "markdown",
   "metadata": {},
   "source": [
    "### Inference (contd.):\n",
    "The accuracy improves a little bit for K=1 for KNN model with slightly better F1 score. So, before implementing KNN with K=1 or K=3, we can test it again with few more random train test data split & if the results are consistently better for K=1, we can take a call accordingly to choose that model as the best suited to predict the Personal loan takers & we can focus to target only those Customers with limited marketing budget."
   ]
  },
  {
   "cell_type": "markdown",
   "metadata": {},
   "source": [
    "## 7. Give your reasoning on which is the best model in this case and why it performs better? (10 points)"
   ]
  },
  {
   "cell_type": "markdown",
   "metadata": {},
   "source": [
    "### Reasoning on which is best model:\n",
    "After scaling the data, KNN proved to be the best model. Naturally, KNN works well on scaled data whereas we don't see much improvement for Logistic Regression or Naive Bayes models.\n",
    "\n",
    "Logistic Regression accuracy might be on a lower side because we have many features & there might not be linear relation between all features in which case Logistic Regression doesn't work well.\n",
    "\n",
    "For Naive-Bayes, it assumes independent attributes but with common sense we can see that there are many dependent attributes & hence, it might not have given good results.\n",
    "\n",
    "On other hand, though we had huge number of data points for Customers not opting for Personal Loans, selecting lower value of K did the trick for KNN to emerge as the best model suited to predict if a given liability customer will take Personal Loans or not."
   ]
  }
 ],
 "metadata": {
  "kernelspec": {
   "display_name": "Python 3",
   "language": "python",
   "name": "python3"
  },
  "language_info": {
   "codemirror_mode": {
    "name": "ipython",
    "version": 3
   },
   "file_extension": ".py",
   "mimetype": "text/x-python",
   "name": "python",
   "nbconvert_exporter": "python",
   "pygments_lexer": "ipython3",
   "version": "3.7.4"
  }
 },
 "nbformat": 4,
 "nbformat_minor": 2
}
